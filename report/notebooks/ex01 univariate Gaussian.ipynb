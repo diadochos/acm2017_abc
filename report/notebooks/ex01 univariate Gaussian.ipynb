{
 "cells": [
  {
   "cell_type": "code",
   "execution_count": 1,
   "metadata": {},
   "outputs": [],
   "source": [
    "import elfi\n",
    "import numpy as np\n",
    "import pylab as plt\n",
    "import scipy.stats as ss\n",
    "import os\n",
    "import sys\n",
    "import pickle\n",
    "sys.path.append(os.path.abspath(os.path.join('../..')))\n",
    "import pyabc\n",
    "from pyabc.plots import plot_marginals, plot_particles\n",
    "%matplotlib notebook"
   ]
  },
  {
   "cell_type": "markdown",
   "metadata": {},
   "source": [
    "# The problem"
   ]
  },
  {
   "cell_type": "markdown",
   "metadata": {},
   "source": [
    "We begin with a very intuitive and easy toy example that will allow us to analytically compute the posterior. Our model will be $x \\sim \\mathcal{N}(\\mu,\\sigma^2)$, that is $x$ is distributed according to a Gaussian normal distribution with mean $\\mu$ and variance $\\sigma^2$. Let us assume that we have observed data $D=\\{x_i|i=1,\\ldots,30\\}$ for which we know the variance $\\sigma^2=1$ (for example from previous experiments or from literature)"
   ]
  },
  {
   "cell_type": "markdown",
   "metadata": {},
   "source": [
    "# Generative Model"
   ]
  },
  {
   "cell_type": "markdown",
   "metadata": {},
   "source": [
    "For the purpose of different priors, we assume that our generative model has the following shape: $g: x \\sim \\mathcal{N}(0.5, 1)$"
   ]
  },
  {
   "cell_type": "code",
   "execution_count": 2,
   "metadata": {
    "collapsed": true
   },
   "outputs": [],
   "source": [
    "np.random.seed(1335)"
   ]
  },
  {
   "cell_type": "code",
   "execution_count": 3,
   "metadata": {
    "collapsed": true
   },
   "outputs": [],
   "source": [
    "mu_t, sigma_t = 0.5, 1\n",
    "mu_0, sigma_0 = 0, 0.2\n",
    "\n",
    "N = 10"
   ]
  },
  {
   "cell_type": "code",
   "execution_count": 4,
   "metadata": {},
   "outputs": [
    {
     "data": {
      "text/plain": [
       "array([[-0.55286363,  0.73839318, -0.05872936,  2.57544769,  0.33974323,\n",
       "        -0.7431614 , -1.14733082, -0.39151276,  0.7952032 ,  0.48591288]])"
      ]
     },
     "execution_count": 4,
     "metadata": {},
     "output_type": "execute_result"
    }
   ],
   "source": [
    "D = np.random.normal(mu_t, np.sqrt(sigma_t), N)\n",
    "#os.makedirs(os.path.basename(os.path.join(\"data\", \"D\")), exist_ok=True)\n",
    "#pickle.dump(D, open(os.path.join(\"data\", \"D.pkl\"), \"wb\"))\n",
    "np.atleast_2d(D)"
   ]
  },
  {
   "cell_type": "code",
   "execution_count": 5,
   "metadata": {},
   "outputs": [
    {
     "data": {
      "text/plain": [
       "<matplotlib.text.Text at 0x1438dbac18>"
      ]
     },
     "execution_count": 5,
     "metadata": {},
     "output_type": "execute_result"
    },
    {
     "data": {
      "image/png": "[encoded data removed]",
      "text/plain": [
       "<matplotlib.figure.Figure at 0x1438dad278>"
      ]
     },
     "metadata": {},
     "output_type": "display_data"
    }
   ],
   "source": [
    "plt.figure()\n",
    "plt.hist(D, edgecolor=\"k\", linewidth=0.5, color=[\"C0\"], normed=True, alpha=0.6, histtype=\"bar\", bins=N)\n",
    "x = np.linspace(0.5-2, 0.5+2, 100)\n",
    "y = ss.norm.pdf(x, mu_t, np.sqrt(sigma_t))\n",
    "plt.plot(x,y, \"-\", color=\"m\", label=\"generative model\")\n",
    "plt.legend()\n",
    "plt.xlabel(\"observation $x_i$\")"
   ]
  },
  {
   "cell_type": "markdown",
   "metadata": {},
   "source": [
    "# Prior and Likelihood"
   ]
  },
  {
   "cell_type": "markdown",
   "metadata": {},
   "source": [
    "We are interested in the probability distribution of the model parameter $\\theta=\\mu$ given our observed data, thus with Bayes' Theorem we can write\n",
    "\n",
    "$p(\\theta|D) \\propto p(D|\\theta) \\cdot p(\\theta).$\n",
    "\n",
    "With the assumption of indentically and independently distributed (i.i.d.) drawn samples, the likelihood $p(D|\\theta)$ can be written as the product of the likelihoods for each datum: $p(D|\\theta) = \\prod_{i=1}^N p(x_i|\\theta) = (\\cfrac{1}{2\\pi\\sigma²})^{\\frac{n}{2}} \\exp \\left( -\\cfrac{\\sum_i^n (x_i - \\mu)^2}{2\\sigma^2} \\right)$.\n",
    "\n",
    "The prior represents our initial belief about the values $\\theta=\\mu$ might take. We will analyse the following three priors that represent very different initial belief sets.\n",
    "\n",
    "$p(\\theta) = \\mathcal{N}(\\theta|\\mu_0, \\sigma_0)$, with $\\mu_0 = 0, \\sigma_0^2 = 0.2$"
   ]
  },
  {
   "cell_type": "code",
   "execution_count": 6,
   "metadata": {},
   "outputs": [
    {
     "data": {
      "text/plain": [
       "<matplotlib.legend.Legend at 0x143a3260f0>"
      ]
     },
     "execution_count": 6,
     "metadata": {},
     "output_type": "execute_result"
    },
    {
     "data": {
      "image/png": "[encoded data removed]",
      "text/plain": [
       "<matplotlib.figure.Figure at 0x1438d92fd0>"
      ]
     },
     "metadata": {},
     "output_type": "display_data"
    }
   ],
   "source": [
    "plt.figure()\n",
    "\n",
    "# normal distributed prior\n",
    "plt.subplot(1,2,2)\n",
    "x = np.linspace(-0.1, 1.1, 100)\n",
    "y = ss.norm.pdf(x, mu_0, np.sqrt(sigma_0))\n",
    "plt.plot(x,y, label=\"normal\")\n",
    "plt.xlabel(r\"$\\theta$\")\n",
    "plt.ylabel(r\"$p(\\theta)$\")\n",
    "plt.legend(loc=\"upper right\")"
   ]
  },
  {
   "cell_type": "markdown",
   "metadata": {},
   "source": [
    "# Posterior"
   ]
  },
  {
   "cell_type": "markdown",
   "metadata": {},
   "source": [
    "Now we look at the posterior. For each of the three priors, we can analytically calculate the posterior. Lets do this:\n",
    "\n",
    "$\\begin{align}\n",
    "p(\\theta=\\mu|D) \\propto p(D|\\theta) \\cdot p_2(\\theta) &= \\prod_{i=1}^N \\mathcal{N}(\\mu, \\sigma^2) \\cdot \\mathcal{N}(\\mu_0, \\sigma^2_0) = \\mathcal{N}(\\mu_N, \\sigma^2_N), \\mu_N = \\cfrac{1}{N\\sigma_0^2 + \\sigma^2} \\cdot (\\sigma^2\\mu_0 + N\\sigma_0^2\\mu), \\sigma^2_N = \\cfrac{\\sigma^2\\sigma^2_0}{N\\sigma^2_0 + \\sigma^2} \\\\\n",
    "\\end{align}\n",
    "$"
   ]
  },
  {
   "cell_type": "code",
   "execution_count": 7,
   "metadata": {
    "collapsed": true
   },
   "outputs": [],
   "source": [
    "def likelihood(mus):\n",
    "    ret = np.zeros(mus.shape[0])\n",
    "    for i, mu in enumerate(mus):\n",
    "        ret[i] = ss.norm(mu, sigma_t / N).pdf(np.mean(D))\n",
    "    return ret\n",
    "\n",
    "def posterior(mus):\n",
    "    sigma_N = 1 / (N/sigma_t + 1/sigma_0)\n",
    "    mu_N = sigma_N * (mu_0 / sigma_0 + N * np.mean(D) / sigma_t)\n",
    "    \n",
    "    ret = np.zeros(mus.shape[0])\n",
    "    for i, mu in enumerate(mus):\n",
    "        ret[i] = ss.norm(mu_N, np.sqrt(sigma_N)).pdf(mu)\n",
    "    return ret"
   ]
  },
  {
   "cell_type": "code",
   "execution_count": 8,
   "metadata": {
    "scrolled": false
   },
   "outputs": [
    {
     "ename": "TypeError",
     "evalue": "legend() missing 2 required positional arguments: 'handles' and 'labels'",
     "output_type": "error",
     "traceback": [
      "\u001b[1;31m---------------------------------------------------------------------------\u001b[0m",
      "\u001b[1;31mTypeError\u001b[0m                                 Traceback (most recent call last)",
      "\u001b[1;32m<ipython-input-8-e291df7c72a2>\u001b[0m in \u001b[0;36m<module>\u001b[1;34m()\u001b[0m\n\u001b[0;32m     17\u001b[0m \u001b[0max\u001b[0m\u001b[1;33m.\u001b[0m\u001b[0mset_ylabel\u001b[0m\u001b[1;33m(\u001b[0m\u001b[1;34mr\"$p(\\theta)$, $p(D|\\theta)$, and $p(\\theta|D)$\"\u001b[0m\u001b[1;33m)\u001b[0m\u001b[1;33m\u001b[0m\u001b[0m\n\u001b[0;32m     18\u001b[0m \u001b[1;33m\u001b[0m\u001b[0m\n\u001b[1;32m---> 19\u001b[1;33m \u001b[0mfig\u001b[0m\u001b[1;33m.\u001b[0m\u001b[0mlegend\u001b[0m\u001b[1;33m(\u001b[0m\u001b[0mbbox_to_anchor\u001b[0m\u001b[1;33m=\u001b[0m\u001b[1;33m(\u001b[0m\u001b[1;36m0.85\u001b[0m\u001b[1;33m,\u001b[0m \u001b[1;36m0.9\u001b[0m\u001b[1;33m)\u001b[0m\u001b[1;33m)\u001b[0m\u001b[1;33m\u001b[0m\u001b[0m\n\u001b[0m\u001b[0;32m     20\u001b[0m \u001b[0mplt\u001b[0m\u001b[1;33m.\u001b[0m\u001b[0mtight_layout\u001b[0m\u001b[1;33m(\u001b[0m\u001b[1;33m)\u001b[0m\u001b[1;33m\u001b[0m\u001b[0m\n\u001b[0;32m     21\u001b[0m \u001b[1;33m\u001b[0m\u001b[0m\n",
      "\u001b[1;31mTypeError\u001b[0m: legend() missing 2 required positional arguments: 'handles' and 'labels'"
     ]
    },
    {
     "data": {
      "image/png": "[encoded data removed]",
      "text/plain": [
       "<matplotlib.figure.Figure at 0x143a37d588>"
      ]
     },
     "metadata": {},
     "output_type": "display_data"
    }
   ],
   "source": [
    "# normal distributed prior\n",
    "fig, ax = plt.subplots()\n",
    "thetas = np.linspace(-0.1, 1.1, 100)\n",
    "prior = ss.norm.pdf(thetas, mu_0, np.sqrt(sigma_0))\n",
    "ax.fill_between(thetas, y1=y, y2=0, alpha=0.2, zorder=0)\n",
    "ax.plot(thetas,y, \"--\", label=\"prior\", color=\"C0\", zorder=0)\n",
    "\n",
    "ax2 = ax.twinx()\n",
    "like = likelihood(thetas)\n",
    "ax2.fill_between(thetas, y1=like, y2=0, alpha=0.2, color=\"C1\", zorder=1)\n",
    "ax2.plot(thetas, like, \"--\", label=\"likelihood\", color=\"C1\", zorder=1)\n",
    "\n",
    "ax.fill_between(thetas, y1=posterior(thetas), y2=0, alpha=0.2, color=\"C2\", zorder=30)\n",
    "ax.plot(thetas, posterior(thetas), label=\"posterior\", color=\"C2\", zorder=30)\n",
    "\n",
    "plt.xlabel(r\"$\\theta$\")\n",
    "ax.set_ylabel(r\"$p(\\theta)$, $p(D|\\theta)$, and $p(\\theta|D)$\")\n",
    "\n",
    "fig.legend(bbox_to_anchor=(0.85, 0.9))\n",
    "plt.tight_layout()\n",
    "\n",
    "plt.savefig('ex01_model.pdf', bbox_inches='tight')"
   ]
  },
  {
   "cell_type": "markdown",
   "metadata": {},
   "source": [
    "# ABC"
   ]
  },
  {
   "cell_type": "code",
   "execution_count": 9,
   "metadata": {},
   "outputs": [],
   "source": [
    "prior = pyabc.Prior(\"normal\", mu_0, np.sqrt(sigma_0), name=r\"$\\mu$\")"
   ]
  },
  {
   "cell_type": "code",
   "execution_count": 10,
   "metadata": {},
   "outputs": [
    {
     "data": {
      "text/plain": [
       "array([[-1.36402709, -0.79474783, -1.07291723,  0.21274463, -0.58600603,\n",
       "        -0.97971222,  1.18346127,  0.22661906,  0.48866767, -0.03059361]])"
      ]
     },
     "execution_count": 10,
     "metadata": {},
     "output_type": "execute_result"
    }
   ],
   "source": [
    "def simulator_mu(mu, batch_size=1, random_state=None):\n",
    "    return ss.norm(loc=mu, scale=np.sqrt(sigma_t)).rvs((batch_size, N))\n",
    "\n",
    "simulator_mu(0)"
   ]
  },
  {
   "cell_type": "code",
   "execution_count": 11,
   "metadata": {
    "collapsed": true
   },
   "outputs": [],
   "source": [
    "def mean(x):\n",
    "    return np.mean(np.atleast_2d(x), axis=1)"
   ]
  },
  {
   "cell_type": "markdown",
   "metadata": {},
   "source": [
    "## Show correctness for three classical ABC sampler"
   ]
  },
  {
   "cell_type": "code",
   "execution_count": 12,
   "metadata": {},
   "outputs": [],
   "source": [
    "D = np.atleast_2d(D)\n",
    "rej = pyabc.RejectionSampler(priors=prior, simulator=simulator_mu, summaries=[mean], observation=D, verbosity=2)\n",
    "mcmc = pyabc.MCMCSampler(priors=prior, simulator=simulator_mu, summaries=[mean], observation=D, verbosity=2)\n",
    "smc = pyabc.SMCSampler(priors=prior, simulator=simulator_mu, summaries=[mean], observation=D, verbosity=2)"
   ]
  },
  {
   "cell_type": "code",
   "execution_count": null,
   "metadata": {},
   "outputs": [],
   "source": [
    "rej.sample(nr_samples=1000, threshold=0.02)"
   ]
  },
  {
   "cell_type": "code",
   "execution_count": null,
   "metadata": {},
   "outputs": [],
   "source": [
    "mcmc.sample(nr_samples=2000, threshold=0.02, step_size=[0.05])"
   ]
  },
  {
   "cell_type": "code",
   "execution_count": 13,
   "metadata": {
    "scrolled": false
   },
   "outputs": [
    {
     "name": "stdout",
     "output_type": "stream",
     "text": [
      "SMC sampler started with thresholds: [ 0.1    0.084  0.068  0.052  0.036  0.02 ] and number of samples: 2000\n",
      "Rejection sampler started with threshold: 0.1 and number of samples: 2000\n",
      "Samples:    143 /   2000 (  7 %)- Threshold: 0.1000 - Iterations:       1000 - Acceptance rate: 0.143000 - Time:     0.74 s\n",
      "Samples:    268 /   2000 ( 13 %)- Threshold: 0.1000 - Iterations:       2000 - Acceptance rate: 0.134000 - Time:     1.47 s\n",
      "Samples:    424 /   2000 ( 21 %)- Threshold: 0.1000 - Iterations:       3000 - Acceptance rate: 0.141333 - Time:     2.24 s\n",
      "Samples:    562 /   2000 ( 28 %)- Threshold: 0.1000 - Iterations:       4000 - Acceptance rate: 0.140500 - Time:     3.01 s\n",
      "Samples:    680 /   2000 ( 34 %)- Threshold: 0.1000 - Iterations:       5000 - Acceptance rate: 0.136000 - Time:     3.80 s\n",
      "Samples:    802 /   2000 ( 40 %)- Threshold: 0.1000 - Iterations:       6000 - Acceptance rate: 0.133667 - Time:     4.57 s\n",
      "Samples:    917 /   2000 ( 46 %)- Threshold: 0.1000 - Iterations:       7000 - Acceptance rate: 0.131000 - Time:     5.36 s\n",
      "Samples:   1065 /   2000 ( 53 %)- Threshold: 0.1000 - Iterations:       8000 - Acceptance rate: 0.133125 - Time:     6.19 s\n",
      "Samples:   1199 /   2000 ( 60 %)- Threshold: 0.1000 - Iterations:       9000 - Acceptance rate: 0.133222 - Time:     6.91 s\n",
      "Samples:   1336 /   2000 ( 67 %)- Threshold: 0.1000 - Iterations:      10000 - Acceptance rate: 0.133600 - Time:     7.63 s\n",
      "Samples:   1462 /   2000 ( 73 %)- Threshold: 0.1000 - Iterations:      11000 - Acceptance rate: 0.132909 - Time:     8.34 s\n",
      "Samples:   1601 /   2000 ( 80 %)- Threshold: 0.1000 - Iterations:      12000 - Acceptance rate: 0.133417 - Time:     9.05 s\n",
      "Samples:   1735 /   2000 ( 87 %)- Threshold: 0.1000 - Iterations:      13000 - Acceptance rate: 0.133462 - Time:     9.75 s\n",
      "Samples:   1859 /   2000 ( 93 %)- Threshold: 0.1000 - Iterations:      14000 - Acceptance rate: 0.132786 - Time:    10.55 s\n",
      "Samples:   1980 /   2000 ( 99 %)- Threshold: 0.1000 - Iterations:      15000 - Acceptance rate: 0.132000 - Time:    11.32 s\n",
      "Samples:   2121 /   2000 (106 %)- Threshold: 0.1000 - Iterations:      16000 - Acceptance rate: 0.132562 - Time:    12.10 s\n",
      "Samples:   2000 - Threshold: 0.1000 - Iterations:      16000 - Acceptance rate: 0.125000 - Time:    12.10 s\n",
      "Samples:   2000 /   2000 (100 %)- Threshold: 0.0000 - Iterations:      16000 - Acceptance rate: 0.125000 - Time:    12.10 s\n",
      "starting iteration[ 1 ]\n",
      "Samples:    111 /   2000 (  6 %)- Threshold: 1.0000 - Iterations:      17000 - Acceptance rate: 0.117647 - Time:    13.42 s\n",
      "Samples:    615 /   2000 ( 31 %)- Threshold: 1.0000 - Iterations:      21000 - Acceptance rate: 0.095238 - Time:    19.19 s\n",
      "Samples:    737 /   2000 ( 37 %)- Threshold: 1.0000 - Iterations:      22000 - Acceptance rate: 0.090909 - Time:    20.61 s\n",
      "Samples:    871 /   2000 ( 44 %)- Threshold: 1.0000 - Iterations:      23000 - Acceptance rate: 0.086957 - Time:    22.04 s\n",
      "Samples:    979 /   2000 ( 49 %)- Threshold: 1.0000 - Iterations:      24000 - Acceptance rate: 0.083333 - Time:    23.40 s\n",
      "Samples:   1213 /   2000 ( 61 %)- Threshold: 1.0000 - Iterations:      26000 - Acceptance rate: 0.076923 - Time:    26.02 s\n",
      "Samples:   1328 /   2000 ( 66 %)- Threshold: 1.0000 - Iterations:      27000 - Acceptance rate: 0.074074 - Time:    27.38 s\n",
      "Samples:   1454 /   2000 ( 73 %)- Threshold: 1.0000 - Iterations:      28000 - Acceptance rate: 0.071429 - Time:    28.67 s\n",
      "Samples:   1589 /   2000 ( 79 %)- Threshold: 1.0000 - Iterations:      29000 - Acceptance rate: 0.068966 - Time:    30.01 s\n",
      "Samples:   1731 /   2000 ( 87 %)- Threshold: 1.0000 - Iterations:      30000 - Acceptance rate: 0.066667 - Time:    31.34 s\n",
      "Samples:   1829 /   2000 ( 91 %)- Threshold: 1.0000 - Iterations:      31000 - Acceptance rate: 0.064516 - Time:    32.67 s\n",
      "Samples:   1955 /   2000 ( 98 %)- Threshold: 1.0000 - Iterations:      32000 - Acceptance rate: 0.062500 - Time:    33.98 s\n",
      "Samples:   2000 /   2000 (100 %)- Threshold: 1.0000 - Iterations:      32354 - Acceptance rate: 0.061816 - Time:    34.43 s\n",
      "starting iteration[ 2 ]\n",
      "Samples:    171 /   2000 (  9 %)- Threshold: 2.0000 - Iterations:      34000 - Acceptance rate: 0.058824 - Time:    36.64 s\n",
      "Samples:    353 /   2000 ( 18 %)- Threshold: 2.0000 - Iterations:      36000 - Acceptance rate: 0.055556 - Time:    39.34 s\n",
      "Samples:    448 /   2000 ( 22 %)- Threshold: 2.0000 - Iterations:      37000 - Acceptance rate: 0.054054 - Time:    40.76 s\n",
      "Samples:    547 /   2000 ( 27 %)- Threshold: 2.0000 - Iterations:      38000 - Acceptance rate: 0.052632 - Time:    42.14 s\n",
      "Samples:    636 /   2000 ( 32 %)- Threshold: 2.0000 - Iterations:      39000 - Acceptance rate: 0.051282 - Time:    43.43 s\n",
      "Samples:    711 /   2000 ( 36 %)- Threshold: 2.0000 - Iterations:      40000 - Acceptance rate: 0.050000 - Time:    44.77 s\n",
      "Samples:    800 /   2000 ( 40 %)- Threshold: 2.0000 - Iterations:      41000 - Acceptance rate: 0.048780 - Time:    46.06 s\n",
      "Samples:    893 /   2000 ( 45 %)- Threshold: 2.0000 - Iterations:      42000 - Acceptance rate: 0.047619 - Time:    47.49 s\n",
      "Samples:    984 /   2000 ( 49 %)- Threshold: 2.0000 - Iterations:      43000 - Acceptance rate: 0.046512 - Time:    48.88 s\n",
      "Samples:   1077 /   2000 ( 54 %)- Threshold: 2.0000 - Iterations:      44000 - Acceptance rate: 0.045455 - Time:    50.29 s\n",
      "Samples:   1177 /   2000 ( 59 %)- Threshold: 2.0000 - Iterations:      45000 - Acceptance rate: 0.044444 - Time:    51.60 s\n",
      "Samples:   1276 /   2000 ( 64 %)- Threshold: 2.0000 - Iterations:      46000 - Acceptance rate: 0.043478 - Time:    52.92 s\n",
      "Samples:   1392 /   2000 ( 70 %)- Threshold: 2.0000 - Iterations:      47000 - Acceptance rate: 0.042553 - Time:    54.21 s\n",
      "Samples:   1491 /   2000 ( 75 %)- Threshold: 2.0000 - Iterations:      48000 - Acceptance rate: 0.041667 - Time:    55.48 s\n",
      "Samples:   1582 /   2000 ( 79 %)- Threshold: 2.0000 - Iterations:      49000 - Acceptance rate: 0.040816 - Time:    56.84 s\n",
      "Samples:   1677 /   2000 ( 84 %)- Threshold: 2.0000 - Iterations:      50000 - Acceptance rate: 0.040000 - Time:    58.22 s\n",
      "Samples:   1776 /   2000 ( 89 %)- Threshold: 2.0000 - Iterations:      51000 - Acceptance rate: 0.039216 - Time:    59.63 s\n",
      "Samples:   1864 /   2000 ( 93 %)- Threshold: 2.0000 - Iterations:      52000 - Acceptance rate: 0.038462 - Time:    61.02 s\n",
      "Samples:   1966 /   2000 ( 98 %)- Threshold: 2.0000 - Iterations:      53000 - Acceptance rate: 0.037736 - Time:    62.34 s\n",
      "Samples:   2000 /   2000 (100 %)- Threshold: 2.0000 - Iterations:      53341 - Acceptance rate: 0.037495 - Time:    62.84 s\n",
      "starting iteration[ 3 ]\n",
      "Samples:     53 /   2000 (  3 %)- Threshold: 3.0000 - Iterations:      54000 - Acceptance rate: 0.037037 - Time:    63.69 s\n",
      "Samples:    120 /   2000 (  6 %)- Threshold: 3.0000 - Iterations:      55000 - Acceptance rate: 0.036364 - Time:    65.04 s\n",
      "Samples:    191 /   2000 ( 10 %)- Threshold: 3.0000 - Iterations:      56000 - Acceptance rate: 0.035714 - Time:    66.36 s\n",
      "Samples:    266 /   2000 ( 13 %)- Threshold: 3.0000 - Iterations:      57000 - Acceptance rate: 0.035088 - Time:    67.68 s\n",
      "Samples:    328 /   2000 ( 16 %)- Threshold: 3.0000 - Iterations:      58000 - Acceptance rate: 0.034483 - Time:    69.05 s\n",
      "Samples:    399 /   2000 ( 20 %)- Threshold: 3.0000 - Iterations:      59000 - Acceptance rate: 0.033898 - Time:    70.46 s\n",
      "Samples:    491 /   2000 ( 25 %)- Threshold: 3.0000 - Iterations:      60000 - Acceptance rate: 0.033333 - Time:    71.90 s\n",
      "Samples:    619 /   2000 ( 31 %)- Threshold: 3.0000 - Iterations:      62000 - Acceptance rate: 0.032258 - Time:    74.50 s\n",
      "Samples:    700 /   2000 ( 35 %)- Threshold: 3.0000 - Iterations:      63000 - Acceptance rate: 0.031746 - Time:    75.78 s\n",
      "Samples:    777 /   2000 ( 39 %)- Threshold: 3.0000 - Iterations:      64000 - Acceptance rate: 0.031250 - Time:    77.16 s\n",
      "Samples:    875 /   2000 ( 44 %)- Threshold: 3.0000 - Iterations:      65000 - Acceptance rate: 0.030769 - Time:    78.53 s\n",
      "Samples:    934 /   2000 ( 47 %)- Threshold: 3.0000 - Iterations:      66000 - Acceptance rate: 0.030303 - Time:    79.92 s\n",
      "Samples:   1005 /   2000 ( 50 %)- Threshold: 3.0000 - Iterations:      67000 - Acceptance rate: 0.029851 - Time:    81.23 s\n",
      "Samples:   1072 /   2000 ( 54 %)- Threshold: 3.0000 - Iterations:      68000 - Acceptance rate: 0.029412 - Time:    82.63 s\n"
     ]
    },
    {
     "name": "stdout",
     "output_type": "stream",
     "text": [
      "Samples:   1140 /   2000 ( 57 %)- Threshold: 3.0000 - Iterations:      69000 - Acceptance rate: 0.028986 - Time:    83.93 s\n",
      "Samples:   1220 /   2000 ( 61 %)- Threshold: 3.0000 - Iterations:      70000 - Acceptance rate: 0.028571 - Time:    85.21 s\n",
      "Samples:   1285 /   2000 ( 64 %)- Threshold: 3.0000 - Iterations:      71000 - Acceptance rate: 0.028169 - Time:    86.63 s\n",
      "Samples:   1504 /   2000 ( 75 %)- Threshold: 3.0000 - Iterations:      74000 - Acceptance rate: 0.027027 - Time:    90.83 s\n",
      "Samples:   1643 /   2000 ( 82 %)- Threshold: 3.0000 - Iterations:      76000 - Acceptance rate: 0.026316 - Time:    93.54 s\n",
      "Samples:   1725 /   2000 ( 86 %)- Threshold: 3.0000 - Iterations:      77000 - Acceptance rate: 0.025974 - Time:    94.81 s\n",
      "Samples:   1802 /   2000 ( 90 %)- Threshold: 3.0000 - Iterations:      78000 - Acceptance rate: 0.025641 - Time:    96.18 s\n",
      "Samples:   1878 /   2000 ( 94 %)- Threshold: 3.0000 - Iterations:      79000 - Acceptance rate: 0.025316 - Time:    97.51 s\n",
      "Samples:   1944 /   2000 ( 97 %)- Threshold: 3.0000 - Iterations:      80000 - Acceptance rate: 0.025000 - Time:    98.79 s\n",
      "Samples:   2000 /   2000 (100 %)- Threshold: 3.0000 - Iterations:      80786 - Acceptance rate: 0.024757 - Time:    99.92 s\n",
      "starting iteration[ 4 ]\n",
      "Samples:     77 /   2000 (  4 %)- Threshold: 4.0000 - Iterations:      82000 - Acceptance rate: 0.024390 - Time:   101.64 s\n",
      "Samples:    124 /   2000 (  6 %)- Threshold: 4.0000 - Iterations:      83000 - Acceptance rate: 0.024096 - Time:   102.99 s\n",
      "Samples:    184 /   2000 (  9 %)- Threshold: 4.0000 - Iterations:      84000 - Acceptance rate: 0.023810 - Time:   104.46 s\n",
      "Samples:    235 /   2000 ( 12 %)- Threshold: 4.0000 - Iterations:      85000 - Acceptance rate: 0.023529 - Time:   105.71 s\n",
      "Samples:    287 /   2000 ( 14 %)- Threshold: 4.0000 - Iterations:      86000 - Acceptance rate: 0.023256 - Time:   107.01 s\n",
      "Samples:    338 /   2000 ( 17 %)- Threshold: 4.0000 - Iterations:      87000 - Acceptance rate: 0.022989 - Time:   108.31 s\n",
      "Samples:    390 /   2000 ( 20 %)- Threshold: 4.0000 - Iterations:      88000 - Acceptance rate: 0.022727 - Time:   109.60 s\n",
      "Samples:    439 /   2000 ( 22 %)- Threshold: 4.0000 - Iterations:      89000 - Acceptance rate: 0.022472 - Time:   110.90 s\n",
      "Samples:    492 /   2000 ( 25 %)- Threshold: 4.0000 - Iterations:      90000 - Acceptance rate: 0.022222 - Time:   112.26 s\n",
      "Samples:    540 /   2000 ( 27 %)- Threshold: 4.0000 - Iterations:      91000 - Acceptance rate: 0.021978 - Time:   113.61 s\n",
      "Samples:    646 /   2000 ( 32 %)- Threshold: 4.0000 - Iterations:      93000 - Acceptance rate: 0.021505 - Time:   116.26 s\n",
      "Samples:    699 /   2000 ( 35 %)- Threshold: 4.0000 - Iterations:      94000 - Acceptance rate: 0.021277 - Time:   117.55 s\n",
      "Samples:    750 /   2000 ( 38 %)- Threshold: 4.0000 - Iterations:      95000 - Acceptance rate: 0.021053 - Time:   118.91 s\n",
      "Samples:    790 /   2000 ( 40 %)- Threshold: 4.0000 - Iterations:      96000 - Acceptance rate: 0.020833 - Time:   120.27 s\n",
      "Samples:    840 /   2000 ( 42 %)- Threshold: 4.0000 - Iterations:      97000 - Acceptance rate: 0.020619 - Time:   121.64 s\n",
      "Samples:    896 /   2000 ( 45 %)- Threshold: 4.0000 - Iterations:      98000 - Acceptance rate: 0.020408 - Time:   122.99 s\n",
      "Samples:   1009 /   2000 ( 50 %)- Threshold: 4.0000 - Iterations:     100000 - Acceptance rate: 0.020000 - Time:   125.61 s\n",
      "Samples:   1051 /   2000 ( 53 %)- Threshold: 4.0000 - Iterations:     101000 - Acceptance rate: 0.019802 - Time:   126.86 s\n",
      "Samples:   1105 /   2000 ( 55 %)- Threshold: 4.0000 - Iterations:     102000 - Acceptance rate: 0.019608 - Time:   128.31 s\n",
      "Samples:   1156 /   2000 ( 58 %)- Threshold: 4.0000 - Iterations:     103000 - Acceptance rate: 0.019417 - Time:   129.63 s\n",
      "Samples:   1198 /   2000 ( 60 %)- Threshold: 4.0000 - Iterations:     104000 - Acceptance rate: 0.019231 - Time:   130.93 s\n",
      "Samples:   1305 /   2000 ( 65 %)- Threshold: 4.0000 - Iterations:     106000 - Acceptance rate: 0.018868 - Time:   133.64 s\n",
      "Samples:   1349 /   2000 ( 67 %)- Threshold: 4.0000 - Iterations:     107000 - Acceptance rate: 0.018692 - Time:   135.02 s\n",
      "Samples:   1387 /   2000 ( 69 %)- Threshold: 4.0000 - Iterations:     108000 - Acceptance rate: 0.018519 - Time:   136.34 s\n",
      "Samples:   1443 /   2000 ( 72 %)- Threshold: 4.0000 - Iterations:     109000 - Acceptance rate: 0.018349 - Time:   137.73 s\n",
      "Samples:   1493 /   2000 ( 75 %)- Threshold: 4.0000 - Iterations:     110000 - Acceptance rate: 0.018182 - Time:   138.98 s\n",
      "Samples:   1536 /   2000 ( 77 %)- Threshold: 4.0000 - Iterations:     111000 - Acceptance rate: 0.018018 - Time:   140.36 s\n",
      "Samples:   1589 /   2000 ( 79 %)- Threshold: 4.0000 - Iterations:     112000 - Acceptance rate: 0.017857 - Time:   141.66 s\n",
      "Samples:   1643 /   2000 ( 82 %)- Threshold: 4.0000 - Iterations:     113000 - Acceptance rate: 0.017699 - Time:   142.96 s\n",
      "Samples:   1700 /   2000 ( 85 %)- Threshold: 4.0000 - Iterations:     114000 - Acceptance rate: 0.017544 - Time:   144.32 s\n",
      "Samples:   1744 /   2000 ( 87 %)- Threshold: 4.0000 - Iterations:     115000 - Acceptance rate: 0.017391 - Time:   145.61 s\n",
      "Samples:   1809 /   2000 ( 90 %)- Threshold: 4.0000 - Iterations:     116000 - Acceptance rate: 0.017241 - Time:   146.88 s\n",
      "Samples:   1849 /   2000 ( 92 %)- Threshold: 4.0000 - Iterations:     117000 - Acceptance rate: 0.017094 - Time:   148.21 s\n",
      "Samples:   1906 /   2000 ( 95 %)- Threshold: 4.0000 - Iterations:     118000 - Acceptance rate: 0.016949 - Time:   149.49 s\n",
      "Samples:   1950 /   2000 ( 98 %)- Threshold: 4.0000 - Iterations:     119000 - Acceptance rate: 0.016807 - Time:   150.85 s\n",
      "Samples:   1999 /   2000 (100 %)- Threshold: 4.0000 - Iterations:     120000 - Acceptance rate: 0.016667 - Time:   152.17 s\n",
      "Samples:   2000 /   2000 (100 %)- Threshold: 4.0000 - Iterations:     120019 - Acceptance rate: 0.016664 - Time:   152.20 s\n",
      "starting iteration[ 5 ]\n",
      "Samples:     22 /   2000 (  1 %)- Threshold: 5.0000 - Iterations:     121000 - Acceptance rate: 0.016529 - Time:   153.49 s\n",
      "Samples:     60 /   2000 (  3 %)- Threshold: 5.0000 - Iterations:     122000 - Acceptance rate: 0.016393 - Time:   154.92 s\n",
      "Samples:     95 /   2000 (  5 %)- Threshold: 5.0000 - Iterations:     123000 - Acceptance rate: 0.016260 - Time:   156.33 s\n",
      "Samples:    129 /   2000 (  6 %)- Threshold: 5.0000 - Iterations:     124000 - Acceptance rate: 0.016129 - Time:   157.65 s\n",
      "Samples:    158 /   2000 (  8 %)- Threshold: 5.0000 - Iterations:     125000 - Acceptance rate: 0.016000 - Time:   159.00 s\n",
      "Samples:    175 /   2000 (  9 %)- Threshold: 5.0000 - Iterations:     126000 - Acceptance rate: 0.015873 - Time:   160.36 s\n",
      "Samples:    210 /   2000 ( 10 %)- Threshold: 5.0000 - Iterations:     127000 - Acceptance rate: 0.015748 - Time:   161.66 s\n",
      "Samples:    244 /   2000 ( 12 %)- Threshold: 5.0000 - Iterations:     128000 - Acceptance rate: 0.015625 - Time:   162.92 s\n",
      "Samples:    274 /   2000 ( 14 %)- Threshold: 5.0000 - Iterations:     129000 - Acceptance rate: 0.015504 - Time:   164.23 s\n",
      "Samples:    306 /   2000 ( 15 %)- Threshold: 5.0000 - Iterations:     130000 - Acceptance rate: 0.015385 - Time:   165.53 s\n",
      "Samples:    327 /   2000 ( 16 %)- Threshold: 5.0000 - Iterations:     131000 - Acceptance rate: 0.015267 - Time:   166.83 s\n",
      "Samples:    399 /   2000 ( 20 %)- Threshold: 5.0000 - Iterations:     133000 - Acceptance rate: 0.015038 - Time:   169.51 s\n",
      "Samples:    425 /   2000 ( 21 %)- Threshold: 5.0000 - Iterations:     134000 - Acceptance rate: 0.014925 - Time:   170.83 s\n",
      "Samples:    446 /   2000 ( 22 %)- Threshold: 5.0000 - Iterations:     135000 - Acceptance rate: 0.014815 - Time:   172.14 s\n",
      "Samples:    461 /   2000 ( 23 %)- Threshold: 5.0000 - Iterations:     136000 - Acceptance rate: 0.014706 - Time:   173.44 s\n",
      "Samples:    487 /   2000 ( 24 %)- Threshold: 5.0000 - Iterations:     137000 - Acceptance rate: 0.014599 - Time:   174.75 s\n",
      "Samples:    516 /   2000 ( 26 %)- Threshold: 5.0000 - Iterations:     138000 - Acceptance rate: 0.014493 - Time:   176.18 s\n",
      "Samples:    545 /   2000 ( 27 %)- Threshold: 5.0000 - Iterations:     139000 - Acceptance rate: 0.014388 - Time:   177.52 s\n",
      "Samples:    580 /   2000 ( 29 %)- Threshold: 5.0000 - Iterations:     140000 - Acceptance rate: 0.014286 - Time:   178.85 s\n"
     ]
    },
    {
     "name": "stdout",
     "output_type": "stream",
     "text": [
      "Samples:    610 /   2000 ( 30 %)- Threshold: 5.0000 - Iterations:     141000 - Acceptance rate: 0.014184 - Time:   180.15 s\n",
      "Samples:    643 /   2000 ( 32 %)- Threshold: 5.0000 - Iterations:     142000 - Acceptance rate: 0.014085 - Time:   181.55 s\n",
      "Samples:    663 /   2000 ( 33 %)- Threshold: 5.0000 - Iterations:     143000 - Acceptance rate: 0.013986 - Time:   182.99 s\n",
      "Samples:    696 /   2000 ( 35 %)- Threshold: 5.0000 - Iterations:     144000 - Acceptance rate: 0.013889 - Time:   184.34 s\n",
      "Samples:    719 /   2000 ( 36 %)- Threshold: 5.0000 - Iterations:     145000 - Acceptance rate: 0.013793 - Time:   185.61 s\n",
      "Samples:    747 /   2000 ( 37 %)- Threshold: 5.0000 - Iterations:     146000 - Acceptance rate: 0.013699 - Time:   187.00 s\n",
      "Samples:    781 /   2000 ( 39 %)- Threshold: 5.0000 - Iterations:     147000 - Acceptance rate: 0.013605 - Time:   188.32 s\n",
      "Samples:    815 /   2000 ( 41 %)- Threshold: 5.0000 - Iterations:     148000 - Acceptance rate: 0.013514 - Time:   189.57 s\n",
      "Samples:    848 /   2000 ( 42 %)- Threshold: 5.0000 - Iterations:     149000 - Acceptance rate: 0.013423 - Time:   190.92 s\n",
      "Samples:    866 /   2000 ( 43 %)- Threshold: 5.0000 - Iterations:     150000 - Acceptance rate: 0.013333 - Time:   192.21 s\n",
      "Samples:    894 /   2000 ( 45 %)- Threshold: 5.0000 - Iterations:     151000 - Acceptance rate: 0.013245 - Time:   193.50 s\n",
      "Samples:    920 /   2000 ( 46 %)- Threshold: 5.0000 - Iterations:     152000 - Acceptance rate: 0.013158 - Time:   194.84 s\n",
      "Samples:    946 /   2000 ( 47 %)- Threshold: 5.0000 - Iterations:     153000 - Acceptance rate: 0.013072 - Time:   196.11 s\n",
      "Samples:    989 /   2000 ( 49 %)- Threshold: 5.0000 - Iterations:     154000 - Acceptance rate: 0.012987 - Time:   197.46 s\n",
      "Samples:   1020 /   2000 ( 51 %)- Threshold: 5.0000 - Iterations:     155000 - Acceptance rate: 0.012903 - Time:   198.77 s\n",
      "Samples:   1083 /   2000 ( 54 %)- Threshold: 5.0000 - Iterations:     157000 - Acceptance rate: 0.012739 - Time:   201.61 s\n",
      "Samples:   1108 /   2000 ( 55 %)- Threshold: 5.0000 - Iterations:     158000 - Acceptance rate: 0.012658 - Time:   202.93 s\n",
      "Samples:   1139 /   2000 ( 57 %)- Threshold: 5.0000 - Iterations:     159000 - Acceptance rate: 0.012579 - Time:   204.19 s\n",
      "Samples:   1168 /   2000 ( 58 %)- Threshold: 5.0000 - Iterations:     160000 - Acceptance rate: 0.012500 - Time:   205.45 s\n",
      "Samples:   1196 /   2000 ( 60 %)- Threshold: 5.0000 - Iterations:     161000 - Acceptance rate: 0.012422 - Time:   206.80 s\n",
      "Samples:   1229 /   2000 ( 61 %)- Threshold: 5.0000 - Iterations:     162000 - Acceptance rate: 0.012346 - Time:   208.06 s\n",
      "Samples:   1257 /   2000 ( 63 %)- Threshold: 5.0000 - Iterations:     163000 - Acceptance rate: 0.012270 - Time:   209.36 s\n",
      "Samples:   1285 /   2000 ( 64 %)- Threshold: 5.0000 - Iterations:     164000 - Acceptance rate: 0.012195 - Time:   210.72 s\n",
      "Samples:   1313 /   2000 ( 66 %)- Threshold: 5.0000 - Iterations:     165000 - Acceptance rate: 0.012121 - Time:   212.04 s\n",
      "Samples:   1340 /   2000 ( 67 %)- Threshold: 5.0000 - Iterations:     166000 - Acceptance rate: 0.012048 - Time:   213.41 s\n",
      "Samples:   1376 /   2000 ( 69 %)- Threshold: 5.0000 - Iterations:     167000 - Acceptance rate: 0.011976 - Time:   214.70 s\n",
      "Samples:   1408 /   2000 ( 70 %)- Threshold: 5.0000 - Iterations:     168000 - Acceptance rate: 0.011905 - Time:   216.25 s\n",
      "Samples:   1438 /   2000 ( 72 %)- Threshold: 5.0000 - Iterations:     169000 - Acceptance rate: 0.011834 - Time:   217.61 s\n",
      "Samples:   1472 /   2000 ( 74 %)- Threshold: 5.0000 - Iterations:     170000 - Acceptance rate: 0.011765 - Time:   218.98 s\n",
      "Samples:   1510 /   2000 ( 76 %)- Threshold: 5.0000 - Iterations:     171000 - Acceptance rate: 0.011696 - Time:   220.28 s\n",
      "Samples:   1538 /   2000 ( 77 %)- Threshold: 5.0000 - Iterations:     172000 - Acceptance rate: 0.011628 - Time:   221.69 s\n",
      "Samples:   1564 /   2000 ( 78 %)- Threshold: 5.0000 - Iterations:     173000 - Acceptance rate: 0.011561 - Time:   223.01 s\n",
      "Samples:   1599 /   2000 ( 80 %)- Threshold: 5.0000 - Iterations:     174000 - Acceptance rate: 0.011494 - Time:   224.35 s\n",
      "Samples:   1624 /   2000 ( 81 %)- Threshold: 5.0000 - Iterations:     175000 - Acceptance rate: 0.011429 - Time:   225.64 s\n",
      "Samples:   1645 /   2000 ( 82 %)- Threshold: 5.0000 - Iterations:     176000 - Acceptance rate: 0.011364 - Time:   226.94 s\n",
      "Samples:   1671 /   2000 ( 84 %)- Threshold: 5.0000 - Iterations:     177000 - Acceptance rate: 0.011299 - Time:   228.18 s\n",
      "Samples:   1685 /   2000 ( 84 %)- Threshold: 5.0000 - Iterations:     178000 - Acceptance rate: 0.011236 - Time:   229.47 s\n",
      "Samples:   1714 /   2000 ( 86 %)- Threshold: 5.0000 - Iterations:     179000 - Acceptance rate: 0.011173 - Time:   230.72 s\n",
      "Samples:   1742 /   2000 ( 87 %)- Threshold: 5.0000 - Iterations:     180000 - Acceptance rate: 0.011111 - Time:   232.02 s\n",
      "Samples:   1782 /   2000 ( 89 %)- Threshold: 5.0000 - Iterations:     182000 - Acceptance rate: 0.010989 - Time:   234.71 s\n",
      "Samples:   1802 /   2000 ( 90 %)- Threshold: 5.0000 - Iterations:     183000 - Acceptance rate: 0.010929 - Time:   236.07 s\n",
      "Samples:   1829 /   2000 ( 91 %)- Threshold: 5.0000 - Iterations:     184000 - Acceptance rate: 0.010870 - Time:   237.36 s\n",
      "Samples:   1856 /   2000 ( 93 %)- Threshold: 5.0000 - Iterations:     185000 - Acceptance rate: 0.010811 - Time:   238.65 s\n",
      "Samples:   1880 /   2000 ( 94 %)- Threshold: 5.0000 - Iterations:     186000 - Acceptance rate: 0.010753 - Time:   239.95 s\n",
      "Samples:   1914 /   2000 ( 96 %)- Threshold: 5.0000 - Iterations:     187000 - Acceptance rate: 0.010695 - Time:   241.27 s\n",
      "Samples:   1932 /   2000 ( 97 %)- Threshold: 5.0000 - Iterations:     188000 - Acceptance rate: 0.010638 - Time:   242.57 s\n",
      "Samples:   1967 /   2000 ( 98 %)- Threshold: 5.0000 - Iterations:     189000 - Acceptance rate: 0.010582 - Time:   243.87 s\n",
      "Samples:   2000 /   2000 (100 %)- Threshold: 5.0000 - Iterations:     189768 - Acceptance rate: 0.010539 - Time:   244.83 s\n",
      "Samples:   2000 - Threshold: 0.0200 - Iterations:     189769 - Acceptance rate: 0.010539 - Time:   244.83 s\n"
     ]
    }
   ],
   "source": [
    "smc.sample(nr_samples=2000, thresholds=np.linspace(0.1, 0.02, 6))"
   ]
  },
  {
   "cell_type": "code",
   "execution_count": null,
   "metadata": {},
   "outputs": [],
   "source": [
    "fig = plot_marginals(rej, hist_kws = {'normed': True}, ylim=[0, 2])\n",
    "x = np.linspace(mu_t-1, mu_t+1, 100)\n",
    "\n",
    "prior = ss.norm.pdf(x, mu_0, np.sqrt(sigma_0))\n",
    "like = likelihood(x)\n",
    "\n",
    "plt.plot(x, posterior(x), \"m\", label=\"posterior\")\n",
    "plt.legend()\n",
    "\n",
    "plt.savefig('ex01_rej_n_2000_e_0_02_D_10.pdf', bbox_inches='tight')\n",
    "\n",
    "fig = plot_marginals(mcmc, hist_kws = {'normed': True}, ylim=[0, 2])\n",
    "\n",
    "plt.plot(x, posterior(x), \"m\", label=\"posterior\")\n",
    "plt.legend()\n",
    "\n",
    "plt.savefig('ex01_mcmc_n_2000_e_0_02_s_0_05_D_10.pdf', bbox_inches='tight')\n",
    "\n",
    "fig = plot_marginals(smc, hist_kws = {'normed': True}, ylim=[0, 2])\n",
    "\n",
    "plt.plot(x, posterior(x), \"m\", label=\"posterior\")\n",
    "plt.legend()\n",
    "\n",
    "plt.savefig('ex01_smc_n_2000_e_0_02_es_6_D_10.pdf', bbox_inches='tight')"
   ]
  },
  {
   "cell_type": "markdown",
   "metadata": {},
   "source": [
    "# Comparison with ELFI"
   ]
  },
  {
   "cell_type": "code",
   "execution_count": null,
   "metadata": {
    "collapsed": true
   },
   "outputs": [],
   "source": [
    "mu = elfi.Prior('normal', mu_0, np.sqrt(sigma_0))\n",
    "\n",
    "# Add the simulator node and observed data to the model\n",
    "sim = elfi.Simulator(simulator_mu, mu, observed=np.atleast_2d(D))\n",
    "\n",
    "# Add summary statistics to the model\n",
    "S1 = elfi.Summary(mean, sim)\n",
    "\n",
    "# Specify distance as euclidean between summary vectors (S1, S2) from simulated and\n",
    "# observed data\n",
    "d = elfi.Distance('euclidean', S1)"
   ]
  },
  {
   "cell_type": "code",
   "execution_count": null,
   "metadata": {},
   "outputs": [],
   "source": [
    "# Plot the complete model (requires graphviz)\n",
    "elfi.draw(d)"
   ]
  },
  {
   "cell_type": "code",
   "execution_count": null,
   "metadata": {
    "scrolled": false
   },
   "outputs": [],
   "source": [
    "elfi_smc = elfi.SMC(d, batch_size=1, seed=30052017)\n",
    "elfi_smc = smc.sample(2000, np.linspace(0.1,0.03,4))\n",
    "\n",
    "elfi_smc.summary()"
   ]
  },
  {
   "cell_type": "code",
   "execution_count": null,
   "metadata": {},
   "outputs": [],
   "source": [
    "elfi_smc.plot_marginals()"
   ]
  },
  {
   "cell_type": "markdown",
   "metadata": {},
   "source": [
    "## Analyze influence of parameter"
   ]
  },
  {
   "cell_type": "markdown",
   "metadata": {},
   "source": [
    "### Influence of epsilon"
   ]
  },
  {
   "cell_type": "code",
   "execution_count": null,
   "metadata": {
    "scrolled": false
   },
   "outputs": [],
   "source": [
    "rej.sample(nr_samples=2000, threshold=1)\n",
    "\n",
    "fig = plot_marginals(rej, hist_kws = {'normed': True}, ylim=[0, 2])\n",
    "x = np.linspace(mu_t-1, mu_t+1, 100)\n",
    "y = posterior(x)\n",
    "\n",
    "plt.plot(x, y, \"m\", label=\"posterior\")\n",
    "plt.legend()\n",
    "\n",
    "plt.savefig('ex01_rej_n_2000_e_1_D_10.pdf', bbox_inches='tight')\n",
    "\n",
    "rej.sample(nr_samples=2000, threshold=0.5)\n",
    "\n",
    "fig = plot_marginals(rej, hist_kws = {'normed': True}, ylim=[0, 2])\n",
    "\n",
    "plt.plot(x, y, \"m\", label=\"posterior\")\n",
    "plt.legend()\n",
    "\n",
    "plt.savefig('ex01_rej_n_2000_e_0_5_D_10.pdf', bbox_inches='tight')\n",
    "\n",
    "rej.sample(nr_samples=2000, threshold=0.02)\n",
    "\n",
    "fig = plot_marginals(rej, hist_kws = {'normed': True}, ylim=[0, 2])\n",
    "\n",
    "plt.plot(x, y, \"m\", label=\"posterior\")\n",
    "plt.legend()\n",
    "\n",
    "plt.savefig('ex01_rej_n_2000_e_0_02_D_10.pdf', bbox_inches='tight')\n"
   ]
  },
  {
   "cell_type": "markdown",
   "metadata": {},
   "source": [
    "### Influence of samples"
   ]
  },
  {
   "cell_type": "code",
   "execution_count": null,
   "metadata": {},
   "outputs": [],
   "source": [
    "rej.sample(nr_samples=100, threshold=0.02)\n",
    "\n",
    "fig = plot_marginals(rej, hist_kws = {'normed': True})\n",
    "x = np.linspace(mu_t-1, mu_t+1, 100)\n",
    "y = posterior(x)\n",
    "\n",
    "plt.plot(x, y, \"m\", label=\"posterior\")\n",
    "plt.legend()\n",
    "\n",
    "plt.savefig('ex01_rej_n_100_e_0_02_D_10.pdf', bbox_inches='tight')\n",
    "\n",
    "\n",
    "rej.sample(nr_samples=1000, threshold=0.02)\n",
    "\n",
    "fig = plot_marginals(rej, hist_kws = {'normed': True})\n",
    "\n",
    "plt.plot(x, y, \"m\", label=\"posterior\")\n",
    "plt.legend()\n",
    "\n",
    "plt.savefig('ex01_rej_n_1000_e_0_02_D_10.pdf', bbox_inches='tight')\n",
    "\n",
    "rej.sample(nr_samples=10000, threshold=0.02)\n",
    "\n",
    "fig = plot_marginals(rej, hist_kws = {'normed': True})\n",
    "\n",
    "plt.plot(x, y, \"m\", label=\"posterior\")\n",
    "plt.legend()\n",
    "\n",
    "plt.savefig('ex01_rej_n_10000_e_0_02_D_10.pdf', bbox_inches='tight')\n"
   ]
  },
  {
   "cell_type": "markdown",
   "metadata": {},
   "source": [
    "### Influence of amount of observational data"
   ]
  },
  {
   "cell_type": "code",
   "execution_count": null,
   "metadata": {
    "scrolled": false
   },
   "outputs": [],
   "source": [
    "N = 10\n",
    "D = np.random.normal(mu_t, np.sqrt(sigma_t), N)\n",
    "rej = pyabc.RejectionSampler(priors=prior, simulator=simulator_mu, summaries=[mean], observation=D)\n",
    "rej.sample(nr_samples=2000, threshold=0.02)\n",
    "\n",
    "fig = plot_marginals(rej, hist_kws = {'normed': True})\n",
    "\n",
    "x = np.linspace(mu_t-1, mu_t+1, 100)\n",
    "y = posterior(x)\n",
    "\n",
    "plt.plot(x, y, \"m\", label=\"posterior\")\n",
    "plt.legend()\n",
    "\n",
    "plt.savefig('ex01_rej_n_2000_e_0_02_D_10.pdf', bbox_inches='tight')\n",
    "\n",
    "N = 50\n",
    "D = np.random.normal(mu_t, np.sqrt(sigma_t), N)\n",
    "rej = pyabc.RejectionSampler(priors=prior, simulator=simulator_mu, summaries=[mean], observation=D)\n",
    "rej.sample(nr_samples=2000, threshold=0.02)\n",
    "\n",
    "fig = plot_marginals(rej, hist_kws = {'normed': True})\n",
    "\n",
    "x = np.linspace(mu_t-1, mu_t+1, 100)\n",
    "y = posterior(x)\n",
    "\n",
    "plt.plot(x, y, \"m\", label=\"posterior\")\n",
    "plt.legend()\n",
    "\n",
    "plt.savefig('ex01_rej_n_2000_e_0_02_D_50.pdf', bbox_inches='tight')\n",
    "\n",
    "N = 100\n",
    "D = np.random.normal(mu_t, np.sqrt(sigma_t), N)\n",
    "rej = pyabc.RejectionSampler(priors=prior, simulator=simulator_mu, summaries=[mean], observation=D)\n",
    "rej.sample(nr_samples=2000, threshold=0.02)\n",
    "\n",
    "fig = plot_marginals(rej, hist_kws = {'normed': True})\n",
    "\n",
    "x = np.linspace(mu_t-1, mu_t+1, 100)\n",
    "y = posterior(x)\n",
    "plt.plot(x, y, \"m\", label=\"posterior\")\n",
    "plt.legend()\n",
    "\n",
    "plt.savefig('ex01_rej_n_2000_e_0_02_D_100.pdf', bbox_inches='tight')"
   ]
  }
 ],
 "metadata": {
  "kernelspec": {
   "display_name": "Python (ABC)",
   "language": "python",
   "name": "abc"
  },
  "language_info": {
   "codemirror_mode": {
    "name": "ipython",
    "version": 3
   },
   "file_extension": ".py",
   "mimetype": "text/x-python",
   "name": "python",
   "nbconvert_exporter": "python",
   "pygments_lexer": "ipython3",
   "version": "3.6.2"
  }
 },
 "nbformat": 4,
 "nbformat_minor": 2
}
