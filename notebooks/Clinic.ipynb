{
 "cells": [
  {
   "cell_type": "code",
   "execution_count": 1,
   "metadata": {},
   "outputs": [],
   "source": [
    "import numpy as np\n",
    "import scipy.stats as ss\n",
    "import elfi\n",
    "import pylab as plt\n",
    "import os\n",
    "import sys\n",
    "sys.path.append(os.path.abspath(os.path.join('..')))\n",
    "import pyabc"
   ]
  },
  {
   "cell_type": "markdown",
   "metadata": {},
   "source": [
    "# Clinic Example\n",
    "![](img/clinic.png)"
   ]
  },
  {
   "cell_type": "code",
   "execution_count": 2,
   "metadata": {},
   "outputs": [],
   "source": [
    "def simulator(_lambda, debug=False, batch_size=1, random_state=None):\n",
    "    \n",
    "    nr_doctors = 3\n",
    "    opening_time = 9 * 60\n",
    "    closing_time = 16 * 60\n",
    "    patients_in_treatment = np.zeros(nr_doctors) # 0,1 first column, treatment time second column\n",
    "    \n",
    "    result = [\n",
    "        [0], # nr_patients \n",
    "        [], # waiting_times\n",
    "        [0] # closing time\n",
    "    ]\n",
    "    \n",
    "    def treatment_time():\n",
    "        return np.random.uniform(5,20)\n",
    "    \n",
    "    def next_patient(last):\n",
    "        return last + np.random.exponential(1/_lambda)\n",
    "    \n",
    "    def create_patient_list():\n",
    "        list_of_patients = []\n",
    "        list_of_patients.append(next_patient(opening_time))\n",
    "        while list_of_patients[-1] < closing_time:\n",
    "            list_of_patients.append(next_patient(list_of_patients[-1]))\n",
    "        \n",
    "        return np.array(list_of_patients[:-1])\n",
    "    \n",
    "    list_of_patients = create_patient_list()\n",
    "    N = list_of_patients.shape[0]\n",
    "    result[0][0] = N\n",
    "    result[1] = np.zeros(N)\n",
    "    \n",
    "    for i, arrival in enumerate(list_of_patients):\n",
    "        if debug:\n",
    "            print(\"%d. patient arrives at %.2f\" % (i+1, arrival))\n",
    "            print(\"doctor schedule: \", patients_in_treatment)\n",
    "        \n",
    "        doctor = np.argmin(patients_in_treatment)\n",
    "        treatment_end = patients_in_treatment[doctor]\n",
    "        # is any doctor free? T\n",
    "        # This is the case when treatment time is 0 or treatment is done before next patient arrives\n",
    "        if treatment_end == 0 or arrival > treatment_end:\n",
    "            if debug:\n",
    "                print(\"patient has not to wait\")\n",
    "            patients_in_treatment[doctor] = arrival + treatment_time() # treamtment lasts between 5 and 20 minutes\n",
    "            \n",
    "        else: \n",
    "            if debug:\n",
    "                print(\"patient has to wait\")\n",
    "            waiting_time = treatment_end - arrival # patient has to wait\n",
    "            result[1][i] = waiting_time\n",
    "            patients_in_treatment[doctor] = treatment_end + treatment_time() # treatment lasts between 5 and 20 minutes\n",
    "        \n",
    "        if debug:\n",
    "            print(\"treatment end: \",patients_in_treatment[doctor])\n",
    "            print(\"waiting time: \", result[1][i])\n",
    "            print(\"---------\")\n",
    "    \n",
    "    result[2][0] = np.max(patients_in_treatment)\n",
    "    \n",
    "    return result"
   ]
  },
  {
   "cell_type": "code",
   "execution_count": 3,
   "metadata": {},
   "outputs": [
    {
     "name": "stdout",
     "output_type": "stream",
     "text": [
      "[[49], array([  0.        ,   0.        ,   0.        ,   0.        ,\n",
      "         0.42344354,   0.        ,   0.        ,   0.        ,\n",
      "         0.        ,   0.        ,   4.51585521,   0.        ,\n",
      "         4.34929369,   5.33611555,   4.79045358,  11.19269357,\n",
      "        10.47966238,   6.52416327,   0.        ,   0.        ,\n",
      "         0.        ,   0.        ,   0.        ,   0.        ,\n",
      "         0.        ,   0.        ,   0.        ,   0.        ,\n",
      "         0.        ,   0.        ,   5.97595535,   8.83547883,\n",
      "         0.        ,   0.        ,   0.        ,   0.29101362,\n",
      "         0.        ,   0.        ,   0.        ,   0.        ,\n",
      "         0.        ,   0.        ,   0.        ,   0.        ,\n",
      "         0.        ,   0.        ,   0.        ,   0.        ,   0.        ]), [964.8378133280579]]\n"
     ]
    }
   ],
   "source": [
    "# Set the generating parameters that we will try to infer\n",
    "lambda0 = 1/10\n",
    "\n",
    "# Generate some dat9 (using a fixed seed here)\n",
    "np.random.seed(1228)\n",
    "y0 = simulator(lambda0)\n",
    "print(y0)"
   ]
  },
  {
   "cell_type": "code",
   "execution_count": 4,
   "metadata": {},
   "outputs": [],
   "source": [
    "# summary statistics\n",
    "def closing_time(y):\n",
    "    return np.atleast_1d(y[2])\n",
    "\n",
    "def nr_patients(y):\n",
    "    return np.atleast_1d(y[0])\n",
    "\n",
    "def nr_waiting_patients(y):\n",
    "    return np.atleast_1d(np.sum(np.where(y[1] > 0, 1, 0)))\n",
    "\n",
    "def mean(y):\n",
    "    return np.atleast_1d(y[1].mean())\n",
    "\n",
    "def var(y):\n",
    "    return np.atleast_1d(y[1].var())"
   ]
  },
  {
   "cell_type": "code",
   "execution_count": 5,
   "metadata": {},
   "outputs": [],
   "source": [
    "# prior over rate parameter\n",
    "rate = lambda: ss.uniform.rvs(0.01, 1)"
   ]
  },
  {
   "cell_type": "markdown",
   "metadata": {},
   "source": [
    "# Our PYABC"
   ]
  },
  {
   "cell_type": "code",
   "execution_count": 6,
   "metadata": {},
   "outputs": [],
   "source": [
    "rej = pyabc.RejectionSampler(priors=[rate], simulator=simulator, \n",
    "                             summaries=[closing_time, nr_patients, nr_waiting_patients],\n",
    "                             observation=y0)"
   ]
  },
  {
   "cell_type": "code",
   "execution_count": 7,
   "metadata": {},
   "outputs": [
    {
     "name": "stdout",
     "output_type": "stream",
     "text": [
      "Rejection sampler started with threshold: 10 and number of samples: 1000\n",
      "Samples:   1000 - Threshold: 10.00 - Iterations:      45888 - Time:    58.97 s\n"
     ]
    }
   ],
   "source": [
    "rej.sample(nr_samples=1000, threshold=10)"
   ]
  },
  {
   "cell_type": "code",
   "execution_count": 8,
   "metadata": {},
   "outputs": [
    {
     "data": {
      "image/png": "[encoded data removed]",
      "text/plain": [
       "<matplotlib.figure.Figure at 0x7f7b48108860>"
      ]
     },
     "metadata": {},
     "output_type": "display_data"
    }
   ],
   "source": [
    "rej.plot_marginals()"
   ]
  },
  {
   "cell_type": "markdown",
   "metadata": {},
   "source": [
    "# ELFI"
   ]
  },
  {
   "cell_type": "code",
   "execution_count": 15,
   "metadata": {},
   "outputs": [],
   "source": [
    "# Prior\n",
    "elfi.new_model() # important to reset, otherwise rerun the code will produce two nodes for S1, S2 and so on\n",
    "rate = elfi.Prior('uniform', 0.01, 1)\n",
    "\n",
    "# Add the simulator node and observed data to the model\n",
    "#vectorized_simulator = elfi.tools.vectorize(simulator)\n",
    "sim = elfi.Simulator(simulator, rate, observed=y0)\n",
    "\n",
    "# Add summary statistics to the model\n",
    "#S1 = elfi.Summary(mean, sim, name=\"mean\")\n",
    "#S2 = elfi.Summary(var, sim, name=\"var\")\n",
    "S3 = elfi.Summary(closing_time, sim, name=\"closing time\")\n",
    "S4 = elfi.Summary(nr_patients, sim, name=\"total patients\")\n",
    "S5 = elfi.Summary(nr_waiting_patients, sim, name=\"nr of patients waiting\")\n",
    "\n",
    "d4 = elfi.Distance('euclidean', S3, S4, S5)"
   ]
  },
  {
   "cell_type": "code",
   "execution_count": 16,
   "metadata": {},
   "outputs": [
    {
     "ename": "AttributeError",
     "evalue": "'DiGraph' object has no attribute 'nodes_iter'",
     "output_type": "error",
     "traceback": [
      "\u001b[0;31m---------------------------------------------------------------------------\u001b[0m",
      "\u001b[0;31mAttributeError\u001b[0m                            Traceback (most recent call last)",
      "\u001b[0;32m<ipython-input-16-d7f2299a250d>\u001b[0m in \u001b[0;36m<module>\u001b[0;34m()\u001b[0m\n\u001b[0;32m----> 1\u001b[0;31m \u001b[0mrej\u001b[0m \u001b[0;34m=\u001b[0m \u001b[0melfi\u001b[0m\u001b[0;34m.\u001b[0m\u001b[0mRejection\u001b[0m\u001b[0;34m(\u001b[0m\u001b[0md4\u001b[0m\u001b[0;34m,\u001b[0m \u001b[0mbatch_size\u001b[0m\u001b[0;34m=\u001b[0m\u001b[0;36m1\u001b[0m\u001b[0;34m)\u001b[0m\u001b[0;34m\u001b[0m\u001b[0m\n\u001b[0m\u001b[1;32m      2\u001b[0m \u001b[0mres\u001b[0m \u001b[0;34m=\u001b[0m \u001b[0mrej\u001b[0m\u001b[0;34m.\u001b[0m\u001b[0msample\u001b[0m\u001b[0;34m(\u001b[0m\u001b[0;36m1000\u001b[0m\u001b[0;34m,\u001b[0m \u001b[0mthreshold\u001b[0m\u001b[0;34m=\u001b[0m\u001b[0;36m10\u001b[0m\u001b[0;34m)\u001b[0m\u001b[0;34m\u001b[0m\u001b[0m\n\u001b[1;32m      3\u001b[0m \u001b[0mprint\u001b[0m\u001b[0;34m(\u001b[0m\u001b[0mres\u001b[0m\u001b[0;34m)\u001b[0m\u001b[0;34m\u001b[0m\u001b[0m\n",
      "\u001b[0;32m~/anaconda3/envs/abc/lib/python3.6/site-packages/elfi/methods/parameter_inference.py\u001b[0m in \u001b[0;36m__init__\u001b[0;34m(self, model, discrepancy_name, output_names, **kwargs)\u001b[0m\n\u001b[1;32m    428\u001b[0m         \u001b[0mmodel\u001b[0m\u001b[0;34m,\u001b[0m \u001b[0mdiscrepancy_name\u001b[0m \u001b[0;34m=\u001b[0m \u001b[0mself\u001b[0m\u001b[0;34m.\u001b[0m\u001b[0m_resolve_model\u001b[0m\u001b[0;34m(\u001b[0m\u001b[0mmodel\u001b[0m\u001b[0;34m,\u001b[0m \u001b[0mdiscrepancy_name\u001b[0m\u001b[0;34m)\u001b[0m\u001b[0;34m\u001b[0m\u001b[0m\n\u001b[1;32m    429\u001b[0m         \u001b[0moutput_names\u001b[0m \u001b[0;34m=\u001b[0m \u001b[0;34m[\u001b[0m\u001b[0mdiscrepancy_name\u001b[0m\u001b[0;34m]\u001b[0m \u001b[0;34m+\u001b[0m \u001b[0mmodel\u001b[0m\u001b[0;34m.\u001b[0m\u001b[0mparameter_names\u001b[0m \u001b[0;34m+\u001b[0m \u001b[0;34m(\u001b[0m\u001b[0moutput_names\u001b[0m \u001b[0;32mor\u001b[0m \u001b[0;34m[\u001b[0m\u001b[0;34m]\u001b[0m\u001b[0;34m)\u001b[0m\u001b[0;34m\u001b[0m\u001b[0m\n\u001b[0;32m--> 430\u001b[0;31m         \u001b[0msuper\u001b[0m\u001b[0;34m(\u001b[0m\u001b[0mRejection\u001b[0m\u001b[0;34m,\u001b[0m \u001b[0mself\u001b[0m\u001b[0;34m)\u001b[0m\u001b[0;34m.\u001b[0m\u001b[0m__init__\u001b[0m\u001b[0;34m(\u001b[0m\u001b[0mmodel\u001b[0m\u001b[0;34m,\u001b[0m \u001b[0moutput_names\u001b[0m\u001b[0;34m,\u001b[0m \u001b[0;34m**\u001b[0m\u001b[0mkwargs\u001b[0m\u001b[0;34m)\u001b[0m\u001b[0;34m\u001b[0m\u001b[0m\n\u001b[0m\u001b[1;32m    431\u001b[0m \u001b[0;34m\u001b[0m\u001b[0m\n\u001b[1;32m    432\u001b[0m         \u001b[0mself\u001b[0m\u001b[0;34m.\u001b[0m\u001b[0mdiscrepancy_name\u001b[0m \u001b[0;34m=\u001b[0m \u001b[0mdiscrepancy_name\u001b[0m\u001b[0;34m\u001b[0m\u001b[0m\n",
      "\u001b[0;32m~/anaconda3/envs/abc/lib/python3.6/site-packages/elfi/methods/parameter_inference.py\u001b[0m in \u001b[0;36m__init__\u001b[0;34m(self, model, output_names, batch_size, seed, pool, max_parallel_batches)\u001b[0m\n\u001b[1;32m     99\u001b[0m         \u001b[0mcontext\u001b[0m \u001b[0;34m=\u001b[0m \u001b[0mComputationContext\u001b[0m\u001b[0;34m(\u001b[0m\u001b[0mbatch_size\u001b[0m\u001b[0;34m=\u001b[0m\u001b[0mbatch_size\u001b[0m\u001b[0;34m,\u001b[0m \u001b[0mseed\u001b[0m\u001b[0;34m=\u001b[0m\u001b[0mseed\u001b[0m\u001b[0;34m,\u001b[0m \u001b[0mpool\u001b[0m\u001b[0;34m=\u001b[0m\u001b[0mpool\u001b[0m\u001b[0;34m)\u001b[0m\u001b[0;34m\u001b[0m\u001b[0m\n\u001b[1;32m    100\u001b[0m         self.batches = elfi.client.BatchHandler(\n\u001b[0;32m--> 101\u001b[0;31m             self.model, context=context, output_names=output_names, client=self.client)\n\u001b[0m\u001b[1;32m    102\u001b[0m         \u001b[0mself\u001b[0m\u001b[0;34m.\u001b[0m\u001b[0mcomputation_context\u001b[0m \u001b[0;34m=\u001b[0m \u001b[0mcontext\u001b[0m\u001b[0;34m\u001b[0m\u001b[0m\n\u001b[1;32m    103\u001b[0m         \u001b[0mself\u001b[0m\u001b[0;34m.\u001b[0m\u001b[0mmax_parallel_batches\u001b[0m \u001b[0;34m=\u001b[0m \u001b[0mmax_parallel_batches\u001b[0m \u001b[0;32mor\u001b[0m \u001b[0mself\u001b[0m\u001b[0;34m.\u001b[0m\u001b[0mclient\u001b[0m\u001b[0;34m.\u001b[0m\u001b[0mnum_cores\u001b[0m\u001b[0;34m\u001b[0m\u001b[0m\n",
      "\u001b[0;32m~/anaconda3/envs/abc/lib/python3.6/site-packages/elfi/client.py\u001b[0m in \u001b[0;36m__init__\u001b[0;34m(self, model, context, output_names, client)\u001b[0m\n\u001b[1;32m     64\u001b[0m         \u001b[0mclient\u001b[0m \u001b[0;34m=\u001b[0m \u001b[0mclient\u001b[0m \u001b[0;32mor\u001b[0m \u001b[0mget_client\u001b[0m\u001b[0;34m(\u001b[0m\u001b[0;34m)\u001b[0m\u001b[0;34m\u001b[0m\u001b[0m\n\u001b[1;32m     65\u001b[0m \u001b[0;34m\u001b[0m\u001b[0m\n\u001b[0;32m---> 66\u001b[0;31m         \u001b[0mself\u001b[0m\u001b[0;34m.\u001b[0m\u001b[0mcompiled_net\u001b[0m \u001b[0;34m=\u001b[0m \u001b[0mclient\u001b[0m\u001b[0;34m.\u001b[0m\u001b[0mcompile\u001b[0m\u001b[0;34m(\u001b[0m\u001b[0mmodel\u001b[0m\u001b[0;34m.\u001b[0m\u001b[0msource_net\u001b[0m\u001b[0;34m,\u001b[0m \u001b[0moutput_names\u001b[0m\u001b[0;34m)\u001b[0m\u001b[0;34m\u001b[0m\u001b[0m\n\u001b[0m\u001b[1;32m     67\u001b[0m         \u001b[0mself\u001b[0m\u001b[0;34m.\u001b[0m\u001b[0mcontext\u001b[0m \u001b[0;34m=\u001b[0m \u001b[0mcontext\u001b[0m\u001b[0;34m\u001b[0m\u001b[0m\n\u001b[1;32m     68\u001b[0m         \u001b[0mself\u001b[0m\u001b[0;34m.\u001b[0m\u001b[0mclient\u001b[0m \u001b[0;34m=\u001b[0m \u001b[0mclient\u001b[0m\u001b[0;34m\u001b[0m\u001b[0m\n",
      "\u001b[0;32m~/anaconda3/envs/abc/lib/python3.6/site-packages/elfi/client.py\u001b[0m in \u001b[0;36mcompile\u001b[0;34m(cls, source_net, outputs)\u001b[0m\n\u001b[1;32m    296\u001b[0m             outputs=outputs, name=source_net.graph['name'], observed=source_net.graph['observed'])\n\u001b[1;32m    297\u001b[0m \u001b[0;34m\u001b[0m\u001b[0m\n\u001b[0;32m--> 298\u001b[0;31m         \u001b[0mcompiled_net\u001b[0m \u001b[0;34m=\u001b[0m \u001b[0mOutputCompiler\u001b[0m\u001b[0;34m.\u001b[0m\u001b[0mcompile\u001b[0m\u001b[0;34m(\u001b[0m\u001b[0msource_net\u001b[0m\u001b[0;34m,\u001b[0m \u001b[0mcompiled_net\u001b[0m\u001b[0;34m)\u001b[0m\u001b[0;34m\u001b[0m\u001b[0m\n\u001b[0m\u001b[1;32m    299\u001b[0m         \u001b[0mcompiled_net\u001b[0m \u001b[0;34m=\u001b[0m \u001b[0mObservedCompiler\u001b[0m\u001b[0;34m.\u001b[0m\u001b[0mcompile\u001b[0m\u001b[0;34m(\u001b[0m\u001b[0msource_net\u001b[0m\u001b[0;34m,\u001b[0m \u001b[0mcompiled_net\u001b[0m\u001b[0;34m)\u001b[0m\u001b[0;34m\u001b[0m\u001b[0m\n\u001b[1;32m    300\u001b[0m         \u001b[0mcompiled_net\u001b[0m \u001b[0;34m=\u001b[0m \u001b[0mAdditionalNodesCompiler\u001b[0m\u001b[0;34m.\u001b[0m\u001b[0mcompile\u001b[0m\u001b[0;34m(\u001b[0m\u001b[0msource_net\u001b[0m\u001b[0;34m,\u001b[0m \u001b[0mcompiled_net\u001b[0m\u001b[0;34m)\u001b[0m\u001b[0;34m\u001b[0m\u001b[0m\n",
      "\u001b[0;32m~/anaconda3/envs/abc/lib/python3.6/site-packages/elfi/compiler.py\u001b[0m in \u001b[0;36mcompile\u001b[0;34m(cls, source_net, compiled_net)\u001b[0m\n\u001b[1;32m     55\u001b[0m \u001b[0;34m\u001b[0m\u001b[0m\n\u001b[1;32m     56\u001b[0m         \u001b[0;31m# Compile the nodes to computation nodes\u001b[0m\u001b[0;34m\u001b[0m\u001b[0;34m\u001b[0m\u001b[0m\n\u001b[0;32m---> 57\u001b[0;31m         \u001b[0;32mfor\u001b[0m \u001b[0mname\u001b[0m\u001b[0;34m,\u001b[0m \u001b[0mdata\u001b[0m \u001b[0;32min\u001b[0m \u001b[0mcompiled_net\u001b[0m\u001b[0;34m.\u001b[0m\u001b[0mnodes_iter\u001b[0m\u001b[0;34m(\u001b[0m\u001b[0mdata\u001b[0m\u001b[0;34m=\u001b[0m\u001b[0;32mTrue\u001b[0m\u001b[0;34m)\u001b[0m\u001b[0;34m:\u001b[0m\u001b[0;34m\u001b[0m\u001b[0m\n\u001b[0m\u001b[1;32m     58\u001b[0m             \u001b[0mstate\u001b[0m \u001b[0;34m=\u001b[0m \u001b[0msource_net\u001b[0m\u001b[0;34m.\u001b[0m\u001b[0mnode\u001b[0m\u001b[0;34m[\u001b[0m\u001b[0mname\u001b[0m\u001b[0;34m]\u001b[0m\u001b[0;34m\u001b[0m\u001b[0m\n\u001b[1;32m     59\u001b[0m             \u001b[0;32mif\u001b[0m \u001b[0;34m'_output'\u001b[0m \u001b[0;32min\u001b[0m \u001b[0mstate\u001b[0m \u001b[0;32mand\u001b[0m \u001b[0;34m'_operation'\u001b[0m \u001b[0;32min\u001b[0m \u001b[0mstate\u001b[0m\u001b[0;34m:\u001b[0m\u001b[0;34m\u001b[0m\u001b[0m\n",
      "\u001b[0;31mAttributeError\u001b[0m: 'DiGraph' object has no attribute 'nodes_iter'"
     ]
    }
   ],
   "source": [
    "rej = elfi.Rejection(d4, batch_size=1)\n",
    "res = rej.sample(1000, threshold=10)\n",
    "print(res)"
   ]
  },
  {
   "cell_type": "code",
   "execution_count": null,
   "metadata": {},
   "outputs": [],
   "source": []
  }
 ],
 "metadata": {
  "kernelspec": {
   "display_name": "Python 3 (ABC)",
   "language": "python",
   "name": "abc"
  },
  "language_info": {
   "codemirror_mode": {
    "name": "ipython",
    "version": 3
   },
   "file_extension": ".py",
   "mimetype": "text/x-python",
   "name": "python",
   "nbconvert_exporter": "python",
   "pygments_lexer": "ipython3",
   "version": "3.6.3"
  }
 },
 "nbformat": 4,
 "nbformat_minor": 2
}
