{
 "cells": [
  {
   "cell_type": "code",
   "execution_count": 1,
   "metadata": {
    "collapsed": true
   },
   "outputs": [],
   "source": [
    "import numpy as np\n",
    "import scipy.stats as ss\n",
    "import elfi\n",
    "import pylab as plt\n",
    "import os\n",
    "import sys\n",
    "sys.path.append(os.path.abspath(os.path.join('..')))\n",
    "import pyabc"
   ]
  },
  {
   "cell_type": "markdown",
   "metadata": {},
   "source": [
    "# Clinic Example\n",
    "![](img/clinic.png)"
   ]
  },
  {
   "cell_type": "code",
   "execution_count": 14,
   "metadata": {
    "collapsed": true
   },
   "outputs": [],
   "source": [
    "def simulator(_lambda, debug=False, batch_size=1, random_state=None):\n",
    "    _lambda = abs(_lambda)\n",
    "    nr_doctors = 3\n",
    "    opening_time = 9 * 60\n",
    "    closing_time = 16 * 60\n",
    "    patients_in_treatment = np.zeros(nr_doctors) # 0,1 first column, treatment time second column\n",
    "    \n",
    "    result = [\n",
    "        [0], # nr_patients \n",
    "        [], # waiting_times\n",
    "        [0] # closing time\n",
    "    ]\n",
    "    \n",
    "    def treatment_time():\n",
    "        return np.random.uniform(5,20)\n",
    "    \n",
    "    def next_patient(last):\n",
    "        return last + np.random.exponential(1/_lambda)\n",
    "    \n",
    "    def create_patient_list():\n",
    "        list_of_patients = []\n",
    "        list_of_patients.append(next_patient(opening_time))\n",
    "        while list_of_patients[-1] < closing_time:\n",
    "            list_of_patients.append(next_patient(list_of_patients[-1]))\n",
    "        \n",
    "        return np.array(list_of_patients[:-1])\n",
    "    \n",
    "    list_of_patients = create_patient_list()\n",
    "    N = list_of_patients.shape[0]\n",
    "    result[0][0] = N\n",
    "    result[1] = np.zeros(N)\n",
    "    \n",
    "    for i, arrival in enumerate(list_of_patients):\n",
    "        if debug:\n",
    "            print(\"%d. patient arrives at %.2f\" % (i+1, arrival))\n",
    "            print(\"doctor schedule: \", patients_in_treatment)\n",
    "        \n",
    "        doctor = np.argmin(patients_in_treatment)\n",
    "        treatment_end = patients_in_treatment[doctor]\n",
    "        # is any doctor free? T\n",
    "        # This is the case when treatment time is 0 or treatment is done before next patient arrives\n",
    "        if treatment_end == 0 or arrival > treatment_end:\n",
    "            if debug:\n",
    "                print(\"patient has not to wait\")\n",
    "            patients_in_treatment[doctor] = arrival + treatment_time() # treamtment lasts between 5 and 20 minutes\n",
    "            \n",
    "        else: \n",
    "            if debug:\n",
    "                print(\"patient has to wait\")\n",
    "            waiting_time = treatment_end - arrival # patient has to wait\n",
    "            result[1][i] = waiting_time\n",
    "            patients_in_treatment[doctor] = treatment_end + treatment_time() # treatment lasts between 5 and 20 minutes\n",
    "        \n",
    "        if debug:\n",
    "            print(\"treatment end: \",patients_in_treatment[doctor])\n",
    "            print(\"waiting time: \", result[1][i])\n",
    "            print(\"---------\")\n",
    "    \n",
    "    result[2][0] = np.max(patients_in_treatment)\n",
    "    \n",
    "    return result"
   ]
  },
  {
   "cell_type": "code",
   "execution_count": 3,
   "metadata": {
    "collapsed": false
   },
   "outputs": [
    {
     "name": "stdout",
     "output_type": "stream",
     "text": [
      "[[49], array([  0.        ,   0.        ,   0.        ,   0.        ,\n",
      "         0.42344354,   0.        ,   0.        ,   0.        ,\n",
      "         0.        ,   0.        ,   4.51585521,   0.        ,\n",
      "         4.34929369,   5.33611555,   4.79045358,  11.19269357,\n",
      "        10.47966238,   6.52416327,   0.        ,   0.        ,\n",
      "         0.        ,   0.        ,   0.        ,   0.        ,\n",
      "         0.        ,   0.        ,   0.        ,   0.        ,\n",
      "         0.        ,   0.        ,   5.97595535,   8.83547883,\n",
      "         0.        ,   0.        ,   0.        ,   0.29101362,\n",
      "         0.        ,   0.        ,   0.        ,   0.        ,\n",
      "         0.        ,   0.        ,   0.        ,   0.        ,\n",
      "         0.        ,   0.        ,   0.        ,   0.        ,   0.        ]), [964.8378133280579]]\n"
     ]
    }
   ],
   "source": [
    "# Set the generating parameters that we will try to infer\n",
    "lambda0 = 1/10\n",
    "\n",
    "# Generate some dat9 (using a fixed seed here)\n",
    "np.random.seed(1228)\n",
    "y0 = simulator(lambda0)\n",
    "print(y0)"
   ]
  },
  {
   "cell_type": "code",
   "execution_count": 4,
   "metadata": {
    "collapsed": true
   },
   "outputs": [],
   "source": [
    "# summary statistics\n",
    "def closing_time(y):\n",
    "    return np.atleast_1d(y[2])\n",
    "\n",
    "def nr_patients(y):\n",
    "    return np.atleast_1d(y[0])\n",
    "\n",
    "def nr_waiting_patients(y):\n",
    "    return np.atleast_1d(np.sum(np.where(y[1] > 0, 1, 0)))\n",
    "\n",
    "def mean(y):\n",
    "    return np.atleast_1d(y[1].mean())\n",
    "\n",
    "def var(y):\n",
    "    return np.atleast_1d(y[1].var())"
   ]
  },
  {
   "cell_type": "code",
   "execution_count": 7,
   "metadata": {
    "collapsed": false
   },
   "outputs": [],
   "source": [
    "# prior over rate parameter\n",
    "rate = pyabc.UniformPrior(0.01,1)"
   ]
  },
  {
   "cell_type": "markdown",
   "metadata": {},
   "source": [
    "# Our PYABC"
   ]
  },
  {
   "cell_type": "code",
   "execution_count": 8,
   "metadata": {
    "collapsed": false
   },
   "outputs": [],
   "source": [
    "rej = pyabc.RejectionSampler(priors=[rate], simulator=simulator, \n",
    "                             summaries=[closing_time, nr_patients, nr_waiting_patients],\n",
    "                             observation=y0)"
   ]
  },
  {
   "cell_type": "code",
   "execution_count": 9,
   "metadata": {
    "collapsed": false
   },
   "outputs": [
    {
     "name": "stdout",
     "output_type": "stream",
     "text": [
      "Rejection sampler started with threshold: 5 and number of samples: 1000\n",
      "Samples:   1000 - Threshold: 5.00 - Iterations:     259234 - Time:   293.53 s\n"
     ]
    }
   ],
   "source": [
    "rej.sample(nr_samples=1000, threshold=5)"
   ]
  },
  {
   "cell_type": "code",
   "execution_count": 10,
   "metadata": {
    "collapsed": false
   },
   "outputs": [
    {
     "data": {
      "image/png": "[encoded data removed]",
      "text/plain": [
       "<matplotlib.figure.Figure at 0x11b59bf98>"
      ]
     },
     "metadata": {},
     "output_type": "display_data"
    }
   ],
   "source": [
    "rej.plot_marginals()"
   ]
  },
  {
   "cell_type": "code",
   "execution_count": 15,
   "metadata": {
    "collapsed": true
   },
   "outputs": [],
   "source": [
    "smc = pyabc.SMCSampler(priors=[rate], simulator=simulator, \n",
    "                             summaries=[closing_time, nr_patients, nr_waiting_patients],\n",
    "                             observation=y0)"
   ]
  },
  {
   "cell_type": "code",
   "execution_count": 16,
   "metadata": {
    "collapsed": false
   },
   "outputs": [
    {
     "name": "stdout",
     "output_type": "stream",
     "text": [
      "SMC sampler started with thresholds: [30, 20, 10, 5] and number of samples: 1000\n",
      "Rejection sampler started with threshold: 30 and number of samples: 1000\n",
      "Iteration 0 completed\n",
      "starting iteration[ 1 ]\n",
      "Iteration 1 completed\n",
      "starting iteration[ 2 ]\n",
      "Iteration 2 completed\n",
      "starting iteration[ 3 ]\n",
      "Iteration 3 completed\n",
      "Samples:   1000 - Thresholds: 5.00 - Iterations:      42548 - Time:    33.50 s\n"
     ]
    }
   ],
   "source": [
    "smc.sample(nr_samples=1000, thresholds=[30,20,10,5])"
   ]
  },
  {
   "cell_type": "code",
   "execution_count": 20,
   "metadata": {
    "collapsed": false
   },
   "outputs": [
    {
     "data": {
      "image/png": "[encoded data removed]",
      "text/plain": [
       "<matplotlib.figure.Figure at 0x11be62908>"
      ]
     },
     "metadata": {},
     "output_type": "display_data"
    }
   ],
   "source": [
    "plt.hist(smc.Thetas, bins = 50)\n",
    "plt.show()"
   ]
  },
  {
   "cell_type": "markdown",
   "metadata": {},
   "source": [
    "# ELFI"
   ]
  },
  {
   "cell_type": "code",
   "execution_count": 13,
   "metadata": {
    "collapsed": true
   },
   "outputs": [],
   "source": [
    "# Prior\n",
    "elfi.new_model() # important to reset, otherwise rerun the code will produce two nodes for S1, S2 and so on\n",
    "rate = elfi.Prior('uniform', 0.01, 1)\n",
    "\n",
    "# Add the simulator node and observed data to the model\n",
    "#vectorized_simulator = elfi.tools.vectorize(simulator)\n",
    "sim = elfi.Simulator(simulator, rate, observed=y0)\n",
    "\n",
    "# Add summary statistics to the model\n",
    "#S1 = elfi.Summary(mean, sim, name=\"mean\")\n",
    "#S2 = elfi.Summary(var, sim, name=\"var\")\n",
    "S3 = elfi.Summary(closing_time, sim, name=\"closing time\")\n",
    "S4 = elfi.Summary(nr_patients, sim, name=\"total patients\")\n",
    "S5 = elfi.Summary(nr_waiting_patients, sim, name=\"nr of patients waiting\")\n",
    "\n",
    "d4 = elfi.Distance('euclidean', S3, S4, S5)"
   ]
  },
  {
   "cell_type": "code",
   "execution_count": 14,
   "metadata": {
    "collapsed": false
   },
   "outputs": [
    {
     "name": "stdout",
     "output_type": "stream",
     "text": [
      "Method: Rejection\n",
      "Number of samples: 1000\n",
      "Number of simulations: 45876\n",
      "Threshold: 10\n",
      "Sample means: rate: 0.118\n",
      "\n"
     ]
    }
   ],
   "source": [
    "rej = elfi.Rejection(d4, batch_size=1)\n",
    "res = rej.sample(1000, threshold=10)\n",
    "print(res)"
   ]
  },
  {
   "cell_type": "code",
   "execution_count": 16,
   "metadata": {
    "collapsed": false
   },
   "outputs": [
    {
     "data": {
      "image/png": "[encoded data removed]",
      "text/plain": [
       "<matplotlib.figure.Figure at 0x7f1152be9ba8>"
      ]
     },
     "metadata": {},
     "output_type": "display_data"
    },
    {
     "data": {
      "image/png": "[encoded data removed]",
      "text/plain": [
       "<matplotlib.figure.Figure at 0x7f1152820ac8>"
      ]
     },
     "metadata": {},
     "output_type": "display_data"
    }
   ],
   "source": [
    "res.plot_marginals()\n",
    "plt.show()"
   ]
  }
 ],
 "metadata": {
  "kernelspec": {
   "display_name": "Python(ABC)",
   "language": "python",
   "name": "pyabc"
  },
  "language_info": {
   "codemirror_mode": {
    "name": "ipython",
    "version": 3
   },
   "file_extension": ".py",
   "mimetype": "text/x-python",
   "name": "python",
   "nbconvert_exporter": "python",
   "pygments_lexer": "ipython3",
   "version": "3.6.0"
  }
 },
 "nbformat": 4,
 "nbformat_minor": 2
}
