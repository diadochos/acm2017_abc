{
 "cells": [
  {
   "cell_type": "code",
   "execution_count": 1,
   "metadata": {},
   "outputs": [
    {
     "name": "stdout",
     "output_type": "stream",
     "text": [
      "warning in stationary: failed to import cython module: falling back to numpy\n"
     ]
    }
   ],
   "source": [
    "import numpy as np\n",
    "import scipy.stats as ss\n",
    "import elfi\n",
    "import matplotlib.pyplot as plt\n",
    "import os\n",
    "import sys\n",
    "sys.path.append(os.path.abspath(os.path.join('..')))\n",
    "import pyabc\n",
    "from pyabc.examples import clinic\n",
    "from pyabc.utils import plot_marginals"
   ]
  },
  {
   "cell_type": "markdown",
   "metadata": {},
   "source": [
    "# Clinic Example\n",
    "![](img/clinic.png)"
   ]
  },
  {
   "cell_type": "code",
   "execution_count": 2,
   "metadata": {},
   "outputs": [],
   "source": [
    "simulator = clinic.simulator"
   ]
  },
  {
   "cell_type": "code",
   "execution_count": 3,
   "metadata": {},
   "outputs": [
    {
     "name": "stdout",
     "output_type": "stream",
     "text": [
      "[[49], array([  0.        ,   0.        ,   0.        ,   0.        ,\n",
      "         0.42344354,   0.        ,   0.        ,   0.        ,\n",
      "         0.        ,   0.        ,   4.51585521,   0.        ,\n",
      "         4.34929369,   5.33611555,   4.79045358,  11.19269357,\n",
      "        10.47966238,   6.52416327,   0.        ,   0.        ,\n",
      "         0.        ,   0.        ,   0.        ,   0.        ,\n",
      "         0.        ,   0.        ,   0.        ,   0.        ,\n",
      "         0.        ,   0.        ,   5.97595535,   8.83547883,\n",
      "         0.        ,   0.        ,   0.        ,   0.29101362,\n",
      "         0.        ,   0.        ,   0.        ,   0.        ,\n",
      "         0.        ,   0.        ,   0.        ,   0.        ,\n",
      "         0.        ,   0.        ,   0.        ,   0.        ,   0.        ]), [964.8378133280579]]\n"
     ]
    }
   ],
   "source": [
    "# Set the generating parameters that we will try to infer\n",
    "lambda0 = 1/10\n",
    "\n",
    "# Generate some dat9 (using a fixed seed here)\n",
    "np.random.seed(1228)\n",
    "y0 = simulator(lambda0)\n",
    "print(y0)"
   ]
  },
  {
   "cell_type": "code",
   "execution_count": 4,
   "metadata": {},
   "outputs": [],
   "source": [
    "closing_time, nr_patients, nr_waiting_patients = clinic.summaries"
   ]
  },
  {
   "cell_type": "code",
   "execution_count": 5,
   "metadata": {},
   "outputs": [
    {
     "data": {
      "text/plain": [
       "'rate'"
      ]
     },
     "execution_count": 5,
     "metadata": {},
     "output_type": "execute_result"
    }
   ],
   "source": [
    "# prior over rate parameter\n",
    "rate = pyabc.Prior('uniform', 0.01,1, name='rate')\n",
    "rate.name"
   ]
  },
  {
   "cell_type": "markdown",
   "metadata": {},
   "source": [
    "# Our PYABC"
   ]
  },
  {
   "cell_type": "code",
   "execution_count": 6,
   "metadata": {},
   "outputs": [],
   "source": [
    "rej = pyabc.RejectionSampler(priors=[rate], simulator=simulator, \n",
    "                             summaries=[closing_time, nr_patients, nr_waiting_patients],\n",
    "                             observation=y0)"
   ]
  },
  {
   "cell_type": "code",
   "execution_count": 7,
   "metadata": {},
   "outputs": [
    {
     "name": "stdout",
     "output_type": "stream",
     "text": [
      "Rejection sampler started with threshold: 15 and number of samples: 1000\n",
      "Samples:   1000 - Threshold: 15.00 - Iterations:      21000 - Acceptance rate: 0.047619 - Time:    20.62 s\n"
     ]
    }
   ],
   "source": [
    "rej.sample(nr_samples=1000, threshold=15)"
   ]
  },
  {
   "cell_type": "code",
   "execution_count": 8,
   "metadata": {},
   "outputs": [],
   "source": [
    "smc = pyabc.SMCSampler(priors=[rate], simulator=simulator, \n",
    "                             summaries=[closing_time, nr_patients, nr_waiting_patients],\n",
    "                             observation=y0)"
   ]
  },
  {
   "cell_type": "code",
   "execution_count": 9,
   "metadata": {},
   "outputs": [
    {
     "name": "stdout",
     "output_type": "stream",
     "text": [
      "SMC sampler started with thresholds: [30, 20, 10, 5] and number of samples: 1000\n",
      "Rejection sampler started with threshold: 30 and number of samples: 1000\n",
      "Iteration 0 completed\n",
      "starting iteration[ 1 ]\n",
      "Iteration 1 completed\n",
      "starting iteration[ 2 ]\n",
      "Iteration 2 completed\n",
      "starting iteration[ 3 ]\n",
      "Iteration 3 completed\n",
      "Samples:   1000 - Thresholds: 5.00 - Iterations:      43370 - Acceptance rate: 0.023057 - Time:    31.05 s\n"
     ]
    }
   ],
   "source": [
    "smc.sample(nr_samples=1000, thresholds=[30,20,10,5])"
   ]
  },
  {
   "cell_type": "code",
   "execution_count": 10,
   "metadata": {},
   "outputs": [
    {
     "data": {
      "image/png": "[encoded data removed]",
      "text/plain": [
       "<matplotlib.figure.Figure at 0x7faaa841d0b8>"
      ]
     },
     "metadata": {},
     "output_type": "display_data"
    },
    {
     "data": {
      "image/png": "[encoded data removed]",
      "text/plain": [
       "<matplotlib.figure.Figure at 0x7faaa841d828>"
      ]
     },
     "metadata": {},
     "output_type": "display_data"
    }
   ],
   "source": [
    "plot_marginals(rej)\n",
    "plot_marginals(smc)"
   ]
  },
  {
   "cell_type": "markdown",
   "metadata": {},
   "source": [
    "# ELFI"
   ]
  },
  {
   "cell_type": "code",
   "execution_count": 13,
   "metadata": {
    "collapsed": true
   },
   "outputs": [],
   "source": [
    "# Prior\n",
    "elfi.new_model() # important to reset, otherwise rerun the code will produce two nodes for S1, S2 and so on\n",
    "rate = elfi.Prior('uniform', 0.01, 1)\n",
    "\n",
    "# Add the simulator node and observed data to the model\n",
    "#vectorized_simulator = elfi.tools.vectorize(simulator)\n",
    "sim = elfi.Simulator(simulator, rate, observed=y0)\n",
    "\n",
    "# Add summary statistics to the model\n",
    "#S1 = elfi.Summary(mean, sim, name=\"mean\")\n",
    "#S2 = elfi.Summary(var, sim, name=\"var\")\n",
    "S3 = elfi.Summary(closing_time, sim, name=\"closing time\")\n",
    "S4 = elfi.Summary(nr_patients, sim, name=\"total patients\")\n",
    "S5 = elfi.Summary(nr_waiting_patients, sim, name=\"nr of patients waiting\")\n",
    "\n",
    "d4 = elfi.Distance('euclidean', S3, S4, S5)"
   ]
  },
  {
   "cell_type": "code",
   "execution_count": 14,
   "metadata": {},
   "outputs": [
    {
     "name": "stdout",
     "output_type": "stream",
     "text": [
      "Method: Rejection\n",
      "Number of samples: 1000\n",
      "Number of simulations: 45876\n",
      "Threshold: 10\n",
      "Sample means: rate: 0.118\n",
      "\n"
     ]
    }
   ],
   "source": [
    "rej = elfi.Rejection(d4, batch_size=1)\n",
    "res = rej.sample(1000, threshold=10)\n",
    "print(res)"
   ]
  },
  {
   "cell_type": "code",
   "execution_count": 16,
   "metadata": {},
   "outputs": [
    {
     "data": {
      "image/png": "[encoded data removed]",
      "text/plain": [
       "<matplotlib.figure.Figure at 0x7f1152be9ba8>"
      ]
     },
     "metadata": {},
     "output_type": "display_data"
    },
    {
     "data": {
      "image/png": "[encoded data removed]",
      "text/plain": [
       "<matplotlib.figure.Figure at 0x7f1152820ac8>"
      ]
     },
     "metadata": {},
     "output_type": "display_data"
    }
   ],
   "source": [
    "res.plot_marginals()\n",
    "plt.show()"
   ]
  }
 ],
 "metadata": {
  "kernelspec": {
   "display_name": "Python [conda env:elfi]",
   "language": "python",
   "name": "conda-env-elfi-py"
  },
  "language_info": {
   "codemirror_mode": {
    "name": "ipython",
    "version": 3
   },
   "file_extension": ".py",
   "mimetype": "text/x-python",
   "name": "python",
   "nbconvert_exporter": "python",
   "pygments_lexer": "ipython3",
   "version": "3.5.4"
  }
 },
 "nbformat": 4,
 "nbformat_minor": 2
}
