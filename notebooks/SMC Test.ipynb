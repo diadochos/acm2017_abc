{
 "cells": [
  {
   "cell_type": "code",
   "execution_count": 1,
   "metadata": {
    "collapsed": false
   },
   "outputs": [],
   "source": [
    "import numpy as np\n",
    "import sys\n",
    "import os\n",
    "sys.path.append(os.path.abspath(os.path.join('..')))\n",
    "import pyabc\n",
    "\n",
    "    \n",
    "def prior_mu_simple_np():\n",
    "    return np.random.uniform(-2,2)\n",
    "\n",
    "def prior_sigma_simple_np():\n",
    "    return np.random.uniform(1,5) #dist.rvs()\n",
    "\n",
    "prior_mu = pyabc.UniformPrior(-2,2)\n",
    "prior_sigma = pyabc.UniformPrior(1,5)\n",
    "\n",
    "def simulator(mu, sigma): \n",
    "    return np.random.normal(mu,abs(sigma),30)\n",
    "\n",
    "def summary_mean(X): \n",
    "    return np.mean(X) \n",
    " \n",
    "def summary_var(X): \n",
    "    return np.var(X)\n",
    "\n",
    "#observation \n",
    "# Set the generating parameters that we will try to infer \n",
    "mean0 = 1 \n",
    "std0 = 3 \n",
    "\n",
    "# Generate some data (using a fixed seed here) \n",
    "np.random.seed(20170525) \n",
    "y0 = simulator(mean0, std0) \n",
    "\n",
    "#SMC_samp = pyabc.SMCSampler(priors=[prior_mu, prior_sigma], simulator=simulator, summaries=[summary_var, summary_mean], observation=y0)\n",
    "#SMC_samp.thresholds = np.array([0.01,0.001])"
   ]
  },
  {
   "cell_type": "code",
   "execution_count": 2,
   "metadata": {
    "collapsed": false
   },
   "outputs": [
    {
     "name": "stdout",
     "output_type": "stream",
     "text": [
      "Rejection sampler started with threshold: 0.25 and number of samples: 500\n",
      "Samples:    500 - Threshold: 0.25 - Iterations:     230395 - Time:    16.07 s\n"
     ]
    }
   ],
   "source": [
    "prior_mu = pyabc.UniformPrior(-2,2)\n",
    "prior_sigma = pyabc.UniformPrior(1,5)\n",
    "rej_samp = pyabc.RejectionSampler(priors=[prior_mu, prior_sigma], simulator=simulator, summaries=[summary_mean, summary_var], observation=y0)\n",
    "res = rej_samp.sample(0.25, 500)"
   ]
  },
  {
   "cell_type": "code",
   "execution_count": 2,
   "metadata": {
    "collapsed": false,
    "scrolled": true
   },
   "outputs": [
    {
     "name": "stdout",
     "output_type": "stream",
     "text": [
      "SMC sampler started with thresholds: [1, 0.5, 0.25] and number of samples: 500\n",
      "Rejection sampler started with threshold: 1 and number of samples: 500\n",
      "Iteration 0 completed\n",
      "starting iteration[ 1 ]\n",
      "Iteration 1 completed\n",
      "starting iteration[ 2 ]\n",
      "Iteration 2 completed\n",
      "Samples:    500 - Thresholds: 0.25 - Iterations:     146575 - Time:    67.78 s\n"
     ]
    },
    {
     "data": {
      "text/plain": [
       "67.783444"
      ]
     },
     "execution_count": 2,
     "metadata": {},
     "output_type": "execute_result"
    }
   ],
   "source": [
    "prior_mu = pyabc.UniformPrior(-2,2)\n",
    "prior_sigma = pyabc.UniformPrior(1,5)\n",
    "SMC_sampler = pyabc.SMCSampler(priors=[prior_mu, prior_sigma], simulator=simulator, summaries=[summary_mean, summary_var], observation=y0)\n",
    "thetas = SMC_sampler.sample(thresholds=[1,0.5,0.25],nr_samples=500)\n",
    "SMC_sampler.runtime"
   ]
  },
  {
   "cell_type": "code",
   "execution_count": 6,
   "metadata": {
    "collapsed": false
   },
   "outputs": [
    {
     "data": {
      "image/png": "[encoded data removed]",
      "text/plain": [
       "<matplotlib.figure.Figure at 0x10e8eb080>"
      ]
     },
     "metadata": {},
     "output_type": "display_data"
    }
   ],
   "source": [
    "import matplotlib.pyplot as plt\n",
    "plt.hist(np.matrix(SMC_sampler.Thetas)[:,0])\n",
    "plt.hist(np.matrix(SMC_sampler.Thetas)[:,1])\n",
    "def simulator(mu, sigma): \n",
    "    return np.random.normal(mu,abs(sigma),30)plt.show()"
   ]
  },
  {
   "cell_type": "code",
   "execution_count": 4,
   "metadata": {
    "collapsed": false
   },
   "outputs": [
    {
     "name": "stdout",
     "output_type": "stream",
     "text": [
      "SMC sampler started with thresholds: [1, 0.5, 0.25] and number of samples: 500\n",
      "Rejection sampler started with threshold: 1 and number of samples: 500\n",
      "Iteration 0 completed\n",
      "starting iteration[ 1 ]\n",
      "Iteration 1 completed\n",
      "starting iteration[ 2 ]\n",
      "Iteration 2 completed\n",
      "Samples:    500 - Thresholds: 0.25 - Iterations:      87347 - Time:    34.11 s\n"
     ]
    },
    {
     "data": {
      "text/plain": [
       "34.110819"
      ]
     },
     "execution_count": 4,
     "metadata": {},
     "output_type": "execute_result"
    }
   ],
   "source": [
    "def simulator(mu): \n",
    "    return np.random.normal(mu,std0,30)\n",
    "\n",
    "prior_mu = pyabc.UniformPrior(-2,2)\n",
    "SMC_sampler = pyabc.SMCSampler(priors=[prior_mu], simulator=simulator, summaries=[summary_mean, summary_var], observation=y0)\n",
    "thetas = SMC_sampler.sample(thresholds=[1,0.5,0.25],nr_samples=500)\n",
    "SMC_sampler.runtime"
   ]
  }
 ],
 "metadata": {
  "kernelspec": {
   "display_name": "Python(ABC)",
   "language": "python",
   "name": "pyabc"
  },
  "language_info": {
   "codemirror_mode": {
    "name": "ipython",
    "version": 3
   },
   "file_extension": ".py",
   "mimetype": "text/x-python",
   "name": "python",
   "nbconvert_exporter": "python",
   "pygments_lexer": "ipython3",
   "version": "3.6.0"
  }
 },
 "nbformat": 4,
 "nbformat_minor": 2
}
