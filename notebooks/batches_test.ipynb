{
 "cells": [
  {
   "cell_type": "code",
   "execution_count": 1,
   "metadata": {},
   "outputs": [],
   "source": [
    "import os\n",
    "import sys\n",
    "sys.path.append(os.path.abspath(os.path.join('..')))\n",
    "\n",
    "import pyabc\n",
    "\n",
    "%matplotlib inline\n",
    "import matplotlib.pyplot as plt\n",
    "import numpy as np\n",
    "import pyabc"
   ]
  },
  {
   "cell_type": "code",
   "execution_count": 2,
   "metadata": {},
   "outputs": [],
   "source": [
    "# multivaraite test\n",
    "mu = np.array([1,2])\n",
    "sigma = np.diag([1,1])\n",
    "\n",
    "y0 = np.random.multivariate_normal(mu, sigma, 10)\n",
    "\n",
    "prior_mu = pyabc.Prior('uniform', 0, 2)\n",
    "\n",
    "def simulator(mu1, mu2):\n",
    "    return np.random.multivariate_normal(np.array([mu1, mu2]), sigma, 10)\n",
    "\n",
    "def mean(x):\n",
    "    return np.mean(x, 0)\n",
    "\n",
    "def var(x):\n",
    "    return np.cov(x.T)\n",
    "\n",
    "rej_samp = pyabc.RejectionSampler(priors=[prior_mu, prior_mu], simulator=simulator, summaries=[mean, var], observation=y0)"
   ]
  },
  {
   "cell_type": "markdown",
   "metadata": {},
   "source": [
    "## New version (batch size 1)"
   ]
  },
  {
   "cell_type": "code",
   "execution_count": 4,
   "metadata": {},
   "outputs": [
    {
     "name": "stdout",
     "output_type": "stream",
     "text": [
      "Rejection sampler started with threshold: 1.0 and number of samples: 1000\n",
      "Samples:   1000 - Threshold: 1.00 - Number of iterations:      76857 - Time:    35.22 s\n",
      "Rejection sampler started with threshold: 1.0 and number of samples: 1000\n",
      "Samples:   1000 - Threshold: 1.00 - Number of iterations:      71885 - Time:    32.82 s\n",
      "Rejection sampler started with threshold: 1.0 and number of samples: 1000\n",
      "Samples:   1000 - Threshold: 1.00 - Number of iterations:      70569 - Time:    31.97 s\n",
      "Rejection sampler started with threshold: 1.0 and number of samples: 1000\n",
      "Samples:   1000 - Threshold: 1.00 - Number of iterations:      72611 - Time:    33.13 s\n",
      "Rejection sampler started with threshold: 1.0 and number of samples: 1000\n",
      "Samples:   1000 - Threshold: 1.00 - Number of iterations:      76107 - Time:    35.37 s\n",
      "Rejection sampler started with threshold: 1.0 and number of samples: 1000\n",
      "Samples:   1000 - Threshold: 1.00 - Number of iterations:      74712 - Time:    34.98 s\n",
      "Rejection sampler started with threshold: 1.0 and number of samples: 1000\n",
      "Samples:   1000 - Threshold: 1.00 - Number of iterations:      75698 - Time:    39.55 s\n",
      "Rejection sampler started with threshold: 1.0 and number of samples: 1000\n",
      "Samples:   1000 - Threshold: 1.00 - Number of iterations:      74781 - Time:    40.63 s\n",
      "35.5 s ± 3.16 s per loop (mean ± std. dev. of 7 runs, 1 loop each)\n"
     ]
    }
   ],
   "source": [
    "%timeit rej_samp.sample(nr_samples=1000, threshold=1.0, batch_size=1)"
   ]
  },
  {
   "cell_type": "markdown",
   "metadata": {},
   "source": [
    "## New version (batch size 1000)"
   ]
  },
  {
   "cell_type": "code",
   "execution_count": 5,
   "metadata": {},
   "outputs": [
    {
     "name": "stdout",
     "output_type": "stream",
     "text": [
      "Rejection sampler started with threshold: 1.0 and number of samples: 1000\n",
      "Samples:   1000 - Threshold: 1.00 - Number of iterations:      74000 - Time:    19.52 s\n",
      "Rejection sampler started with threshold: 1.0 and number of samples: 1000\n",
      "Samples:   1000 - Threshold: 1.00 - Number of iterations:      76000 - Time:    21.23 s\n",
      "Rejection sampler started with threshold: 1.0 and number of samples: 1000\n",
      "Samples:   1000 - Threshold: 1.00 - Number of iterations:      73000 - Time:    21.98 s\n",
      "Rejection sampler started with threshold: 1.0 and number of samples: 1000\n",
      "Samples:   1000 - Threshold: 1.00 - Number of iterations:      69000 - Time:    18.25 s\n",
      "Rejection sampler started with threshold: 1.0 and number of samples: 1000\n",
      "Samples:   1000 - Threshold: 1.00 - Number of iterations:      77000 - Time:    19.34 s\n",
      "Rejection sampler started with threshold: 1.0 and number of samples: 1000\n",
      "Samples:   1000 - Threshold: 1.00 - Number of iterations:      76000 - Time:    19.04 s\n",
      "Rejection sampler started with threshold: 1.0 and number of samples: 1000\n",
      "Samples:   1000 - Threshold: 1.00 - Number of iterations:      74000 - Time:    18.32 s\n",
      "Rejection sampler started with threshold: 1.0 and number of samples: 1000\n",
      "Samples:   1000 - Threshold: 1.00 - Number of iterations:      79000 - Time:    19.84 s\n",
      "19.7 s ± 1.31 s per loop (mean ± std. dev. of 7 runs, 1 loop each)\n"
     ]
    }
   ],
   "source": [
    "%timeit rej_samp.sample(nr_samples=1000, threshold=1.0, batch_size=1000)"
   ]
  },
  {
   "cell_type": "code",
   "execution_count": null,
   "metadata": {
    "collapsed": true
   },
   "outputs": [],
   "source": []
  }
 ],
 "metadata": {
  "kernelspec": {
   "display_name": "Python 3",
   "language": "python",
   "name": "python3"
  },
  "language_info": {
   "codemirror_mode": {
    "name": "ipython",
    "version": 3
   },
   "file_extension": ".py",
   "mimetype": "text/x-python",
   "name": "python",
   "nbconvert_exporter": "python",
   "pygments_lexer": "ipython3",
   "version": "3.6.3"
  }
 },
 "nbformat": 4,
 "nbformat_minor": 1
}
