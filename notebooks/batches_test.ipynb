{
 "cells": [
  {
   "cell_type": "code",
   "execution_count": 1,
   "metadata": {
    "collapsed": true
   },
   "outputs": [],
   "source": [
    "import os\n",
    "import sys\n",
    "sys.path.append(os.path.abspath(os.path.join('..')))\n",
    "\n",
    "import pyabc\n",
    "\n",
    "%matplotlib inline\n",
    "import matplotlib.pyplot as plt\n",
    "import numpy as np\n",
    "import pyabc"
   ]
  },
  {
   "cell_type": "code",
   "execution_count": 2,
   "metadata": {
    "collapsed": true
   },
   "outputs": [],
   "source": [
    "# multivaraite test\n",
    "mu = np.array([1,2])\n",
    "sigma = np.diag([1,1])\n",
    "\n",
    "y0 = np.random.multivariate_normal(mu, sigma, 10)\n",
    "\n",
    "def prior_mu():\n",
    "    return np.random.uniform(0,2,2)\n",
    "\n",
    "def simulator(mu):\n",
    "    return np.random.multivariate_normal(mu, sigma, 10)\n",
    "\n",
    "def mean(x):\n",
    "    return np.mean(x, 0)\n",
    "\n",
    "def var(x):\n",
    "    return np.cov(x.T)\n",
    "\n",
    "rej_samp = pyabc.RejectionSampler(priors=prior_mu, simulator=simulator, summaries=[mean, var], observation=y0)"
   ]
  },
  {
   "cell_type": "markdown",
   "metadata": {},
   "source": [
    "## Old version"
   ]
  },
  {
   "cell_type": "code",
   "execution_count": 4,
   "metadata": {},
   "outputs": [
    {
     "name": "stdout",
     "output_type": "stream",
     "text": [
      "Rejection sampler started with threshold: 1 and number of samples: 1000\n",
      "Samples:   1000 - Threshold: 1.00 - Acceptance rate:         17 % - Time:     0.66 s\n",
      "Rejection sampler started with threshold: 1 and number of samples: 1000\n",
      "Samples:   1000 - Threshold: 1.00 - Acceptance rate:         17 % - Time:     0.69 s\n",
      "Rejection sampler started with threshold: 1 and number of samples: 1000\n",
      "Samples:   1000 - Threshold: 1.00 - Acceptance rate:         17 % - Time:     0.67 s\n",
      "Rejection sampler started with threshold: 1 and number of samples: 1000\n",
      "Samples:   1000 - Threshold: 1.00 - Acceptance rate:         17 % - Time:     0.69 s\n",
      "Rejection sampler started with threshold: 1 and number of samples: 1000\n",
      "Samples:   1000 - Threshold: 1.00 - Acceptance rate:         17 % - Time:     0.66 s\n",
      "Rejection sampler started with threshold: 1 and number of samples: 1000\n",
      "Samples:   1000 - Threshold: 1.00 - Acceptance rate:         17 % - Time:     0.67 s\n",
      "Rejection sampler started with threshold: 1 and number of samples: 1000\n",
      "Samples:   1000 - Threshold: 1.00 - Acceptance rate:         17 % - Time:     0.66 s\n",
      "Rejection sampler started with threshold: 1 and number of samples: 1000\n",
      "Samples:   1000 - Threshold: 1.00 - Acceptance rate:         17 % - Time:     0.66 s\n",
      "672 ms ± 12.9 ms per loop (mean ± std. dev. of 7 runs, 1 loop each)\n"
     ]
    }
   ],
   "source": [
    "%timeit rej_samp.sample(nr_samples=1000, threshold=1, old_version=True)"
   ]
  },
  {
   "cell_type": "markdown",
   "metadata": {},
   "source": [
    "## New version (batch size 1)"
   ]
  },
  {
   "cell_type": "code",
   "execution_count": 3,
   "metadata": {},
   "outputs": [
    {
     "name": "stdout",
     "output_type": "stream",
     "text": [
      "Rejection sampler started with threshold: 1.0 and number of samples: 1000\n",
      "Samples:   1000 - Threshold: 1.00 - Acceptance rate:         18 % - Time:     0.65 s\n",
      "Rejection sampler started with threshold: 1.0 and number of samples: 1000\n",
      "Samples:   1000 - Threshold: 1.00 - Acceptance rate:         17 % - Time:     0.67 s\n",
      "Rejection sampler started with threshold: 1.0 and number of samples: 1000\n",
      "Samples:   1000 - Threshold: 1.00 - Acceptance rate:         17 % - Time:     0.67 s\n",
      "Rejection sampler started with threshold: 1.0 and number of samples: 1000\n",
      "Samples:   1000 - Threshold: 1.00 - Acceptance rate:         16 % - Time:     0.70 s\n",
      "Rejection sampler started with threshold: 1.0 and number of samples: 1000\n",
      "Samples:   1000 - Threshold: 1.00 - Acceptance rate:         17 % - Time:     0.65 s\n",
      "Rejection sampler started with threshold: 1.0 and number of samples: 1000\n",
      "Samples:   1000 - Threshold: 1.00 - Acceptance rate:         17 % - Time:     0.66 s\n",
      "Rejection sampler started with threshold: 1.0 and number of samples: 1000\n",
      "Samples:   1000 - Threshold: 1.00 - Acceptance rate:         17 % - Time:     0.65 s\n",
      "Rejection sampler started with threshold: 1.0 and number of samples: 1000\n",
      "Samples:   1000 - Threshold: 1.00 - Acceptance rate:         17 % - Time:     0.67 s\n",
      "667 ms ± 13.7 ms per loop (mean ± std. dev. of 7 runs, 1 loop each)\n"
     ]
    }
   ],
   "source": [
    "%timeit rej_samp.sample(nr_samples=1000, threshold=1.0, batch_size=1)"
   ]
  },
  {
   "cell_type": "markdown",
   "metadata": {},
   "source": [
    "## New version (batch size 100)"
   ]
  },
  {
   "cell_type": "code",
   "execution_count": 5,
   "metadata": {},
   "outputs": [
    {
     "name": "stdout",
     "output_type": "stream",
     "text": [
      "Rejection sampler started with threshold: 1.0 and number of samples: 1000\n",
      "Samples:   1000 - Threshold: 1.00 - Acceptance rate:         16 % - Time:     0.98 s\n",
      "Rejection sampler started with threshold: 1.0 and number of samples: 1000\n",
      "Samples:   1000 - Threshold: 1.00 - Acceptance rate:         16 % - Time:     0.97 s\n",
      "Rejection sampler started with threshold: 1.0 and number of samples: 1000\n",
      "Samples:   1000 - Threshold: 1.00 - Acceptance rate:         16 % - Time:     0.98 s\n",
      "Rejection sampler started with threshold: 1.0 and number of samples: 1000\n",
      "Samples:   1000 - Threshold: 1.00 - Acceptance rate:         16 % - Time:     0.99 s\n",
      "Rejection sampler started with threshold: 1.0 and number of samples: 1000\n",
      "Samples:   1000 - Threshold: 1.00 - Acceptance rate:         16 % - Time:     0.99 s\n",
      "Rejection sampler started with threshold: 1.0 and number of samples: 1000\n",
      "Samples:   1000 - Threshold: 1.00 - Acceptance rate:         16 % - Time:     0.98 s\n",
      "Rejection sampler started with threshold: 1.0 and number of samples: 1000\n",
      "Samples:   1000 - Threshold: 1.00 - Acceptance rate:         16 % - Time:     0.98 s\n",
      "Rejection sampler started with threshold: 1.0 and number of samples: 1000\n",
      "Samples:   1000 - Threshold: 1.00 - Acceptance rate:         16 % - Time:     0.99 s\n",
      "986 ms ± 7.56 ms per loop (mean ± std. dev. of 7 runs, 1 loop each)\n"
     ]
    }
   ],
   "source": [
    "%timeit rej_samp.sample(nr_samples=1000, threshold=1.0, batch_size=10000)"
   ]
  },
  {
   "cell_type": "code",
   "execution_count": null,
   "metadata": {
    "collapsed": true
   },
   "outputs": [],
   "source": []
  }
 ],
 "metadata": {
  "kernelspec": {
   "display_name": "Python 3",
   "language": "python",
   "name": "python3"
  },
  "language_info": {
   "codemirror_mode": {
    "name": "ipython",
    "version": 3
   },
   "file_extension": ".py",
   "mimetype": "text/x-python",
   "name": "python",
   "nbconvert_exporter": "python",
   "pygments_lexer": "ipython3",
   "version": "3.6.1"
  }
 },
 "nbformat": 4,
 "nbformat_minor": 1
}
