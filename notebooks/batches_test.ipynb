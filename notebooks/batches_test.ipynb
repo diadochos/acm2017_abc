{
 "cells": [
  {
   "cell_type": "code",
   "execution_count": 1,
   "metadata": {},
   "outputs": [],
   "source": [
    "import os\n",
    "import sys\n",
    "sys.path.append(os.path.abspath(os.path.join('..')))\n",
    "\n",
    "import pyabc\n",
    "\n",
    "%matplotlib inline\n",
    "import matplotlib.pyplot as plt\n",
    "import scipy.stats as ss\n",
    "import numpy as np\n",
    "import pyabc"
   ]
  },
  {
   "cell_type": "code",
   "execution_count": 2,
   "metadata": {},
   "outputs": [],
   "source": [
    "# multivaraite test\n",
    "mu = np.array([1,2])\n",
    "sigma = np.diag([1,1])\n",
    "\n",
    "y0 = np.random.multivariate_normal(mu, sigma, 10)\n",
    "\n",
    "prior_mu = pyabc.Prior('uniform', 0, 2)\n",
    "prior_2 = pyabc.Prior('multivariate_normal', mu, sigma)\n",
    "\n",
    "def simulator(mu1, mu2):\n",
    "    return np.random.multivariate_normal(np.array([mu1, mu2]), sigma, 10)\n",
    "\n",
    "def mean(x):\n",
    "    return np.mean(x, 0)\n",
    "\n",
    "def var(x):\n",
    "    return np.cov(x.T)\n",
    "\n",
    "priors = pyabc.prior.PriorList([prior_mu, prior_2])"
   ]
  },
  {
   "cell_type": "code",
   "execution_count": 3,
   "metadata": {},
   "outputs": [
    {
     "name": "stdout",
     "output_type": "stream",
     "text": [
      "(100, 2)\n"
     ]
    },
    {
     "data": {
      "text/plain": [
       "(100,)"
      ]
     },
     "execution_count": 3,
     "metadata": {},
     "output_type": "execute_result"
    }
   ],
   "source": [
    "#print(np.random.multivariate_normal(mu, sigma, size=(100,)).shape)\n",
    "mvnorm = ss.multivariate_normal(mu, sigma)\n",
    "samp = mvnorm.rvs(size=100)\n",
    "print(samp.shape)\n",
    "mvpdf = mvnorm.pdf(samp)\n",
    "mvpdf.shape"
   ]
  },
  {
   "cell_type": "code",
   "execution_count": 4,
   "metadata": {},
   "outputs": [
    {
     "data": {
      "text/plain": [
       "(100, 1)"
      ]
     },
     "execution_count": 4,
     "metadata": {},
     "output_type": "execute_result"
    }
   ],
   "source": [
    "np.random.normal(0, 1, size=(100,1)).shape\n",
    "n = ss.norm(0, 1)\n",
    "samp = n.rvs(size=(100,1))\n",
    "npdf = n.pdf(samp)\n",
    "npdf.shape"
   ]
  },
  {
   "cell_type": "code",
   "execution_count": 5,
   "metadata": {},
   "outputs": [
    {
     "data": {
      "text/plain": [
       "(100, 2)"
      ]
     },
     "execution_count": 5,
     "metadata": {},
     "output_type": "execute_result"
    }
   ],
   "source": [
    "prior_2.pdf(np.random.rand(100,2))\n",
    "prior_2.sample(100).shape"
   ]
  },
  {
   "cell_type": "code",
   "execution_count": 6,
   "metadata": {},
   "outputs": [
    {
     "data": {
      "text/plain": [
       "(100, 1)"
      ]
     },
     "execution_count": 6,
     "metadata": {},
     "output_type": "execute_result"
    }
   ],
   "source": [
    "prior_mu.sample(100).shape"
   ]
  },
  {
   "cell_type": "code",
   "execution_count": 7,
   "metadata": {},
   "outputs": [],
   "source": [
    "rej_samp = pyabc.RejectionSampler(priors=[prior_mu, prior_mu], simulator=simulator, summaries=[mean, var], observation=y0)"
   ]
  },
  {
   "cell_type": "code",
   "execution_count": 8,
   "metadata": {},
   "outputs": [
    {
     "name": "stdout",
     "output_type": "stream",
     "text": [
      "(10, 3)\n",
      "(10,)\n"
     ]
    },
    {
     "data": {
      "text/plain": [
       "(10,)"
      ]
     },
     "execution_count": 8,
     "metadata": {},
     "output_type": "execute_result"
    }
   ],
   "source": [
    "p = pyabc.prior.PriorList([prior_mu, prior_2])\n",
    "t = p.sample(10)\n",
    "print(t.shape)\n",
    "\n",
    "#print(prior_mu.pdf(t[0]) * prior_2.pdf(t[1:]))\n",
    "print(prior_mu.pdf(t[:,0]).shape)\n",
    "prior_2.pdf(t[:,1:3]).shape\n",
    "p.pdf(t).shape"
   ]
  },
  {
   "cell_type": "markdown",
   "metadata": {},
   "source": [
    "## New version (batch size 1)"
   ]
  },
  {
   "cell_type": "code",
   "execution_count": 9,
   "metadata": {},
   "outputs": [
    {
     "name": "stdout",
     "output_type": "stream",
     "text": [
      "Rejection sampler started with threshold: 1.0 and number of samples: 1000\n",
      "Samples:   1000 - Threshold: 1.0000 - Iterations:       6059 - Acceptance rate: 0.165044 - Time:     2.46 s\n",
      "Rejection sampler started with threshold: 1.0 and number of samples: 1000\n",
      "Samples:   1000 - Threshold: 1.0000 - Iterations:       6044 - Acceptance rate: 0.165453 - Time:     2.39 s\n",
      "Rejection sampler started with threshold: 1.0 and number of samples: 1000\n",
      "Samples:   1000 - Threshold: 1.0000 - Iterations:       6089 - Acceptance rate: 0.164231 - Time:     2.41 s\n",
      "Rejection sampler started with threshold: 1.0 and number of samples: 1000\n",
      "Samples:   1000 - Threshold: 1.0000 - Iterations:       6028 - Acceptance rate: 0.165893 - Time:     2.39 s\n",
      "Rejection sampler started with threshold: 1.0 and number of samples: 1000\n",
      "Samples:   1000 - Threshold: 1.0000 - Iterations:       6219 - Acceptance rate: 0.160798 - Time:     2.46 s\n",
      "Rejection sampler started with threshold: 1.0 and number of samples: 1000\n",
      "Samples:   1000 - Threshold: 1.0000 - Iterations:       6500 - Acceptance rate: 0.153846 - Time:     2.64 s\n",
      "Rejection sampler started with threshold: 1.0 and number of samples: 1000\n",
      "Samples:   1000 - Threshold: 1.0000 - Iterations:       6263 - Acceptance rate: 0.159668 - Time:     2.74 s\n",
      "Rejection sampler started with threshold: 1.0 and number of samples: 1000\n",
      "Samples:   1000 - Threshold: 1.0000 - Iterations:       5932 - Acceptance rate: 0.168577 - Time:     2.35 s\n",
      "2.48 s ± 138 ms per loop (mean ± std. dev. of 7 runs, 1 loop each)\n"
     ]
    }
   ],
   "source": [
    "%timeit rej_samp.sample(nr_samples=1000, threshold=1.0, batch_size=1)"
   ]
  },
  {
   "cell_type": "markdown",
   "metadata": {},
   "source": [
    "## New version (batch size 1000)"
   ]
  },
  {
   "cell_type": "code",
   "execution_count": 10,
   "metadata": {},
   "outputs": [
    {
     "name": "stdout",
     "output_type": "stream",
     "text": [
      "Rejection sampler started with threshold: 1.0 and number of samples: 1000\n",
      "Samples:   1000 - Threshold: 1.0000 - Iterations:       6000 - Acceptance rate: 0.166667 - Time:     1.49 s\n",
      "Rejection sampler started with threshold: 1.0 and number of samples: 1000\n",
      "Samples:   1000 - Threshold: 1.0000 - Iterations:       6000 - Acceptance rate: 0.166667 - Time:     1.45 s\n",
      "Rejection sampler started with threshold: 1.0 and number of samples: 1000\n",
      "Samples:   1000 - Threshold: 1.0000 - Iterations:       7000 - Acceptance rate: 0.142857 - Time:     1.68 s\n",
      "Rejection sampler started with threshold: 1.0 and number of samples: 1000\n",
      "Samples:   1000 - Threshold: 1.0000 - Iterations:       6000 - Acceptance rate: 0.166667 - Time:     1.44 s\n",
      "Rejection sampler started with threshold: 1.0 and number of samples: 1000\n",
      "Samples:   1000 - Threshold: 1.0000 - Iterations:       7000 - Acceptance rate: 0.142857 - Time:     1.67 s\n",
      "Rejection sampler started with threshold: 1.0 and number of samples: 1000\n",
      "Samples:   1000 - Threshold: 1.0000 - Iterations:       7000 - Acceptance rate: 0.142857 - Time:     1.84 s\n",
      "Rejection sampler started with threshold: 1.0 and number of samples: 1000\n",
      "Samples:   1000 - Threshold: 1.0000 - Iterations:       7000 - Acceptance rate: 0.142857 - Time:     1.73 s\n",
      "Rejection sampler started with threshold: 1.0 and number of samples: 1000\n",
      "Samples:   1000 - Threshold: 1.0000 - Iterations:       7000 - Acceptance rate: 0.142857 - Time:     1.69 s\n",
      "1.64 s ± 136 ms per loop (mean ± std. dev. of 7 runs, 1 loop each)\n"
     ]
    }
   ],
   "source": [
    "%timeit rej_samp.sample(nr_samples=1000, threshold=1.0, batch_size=1000)"
   ]
  },
  {
   "cell_type": "code",
   "execution_count": null,
   "metadata": {
    "collapsed": true
   },
   "outputs": [],
   "source": []
  }
 ],
 "metadata": {
  "kernelspec": {
   "display_name": "Python 3 (ABC)",
   "language": "python",
   "name": "abc"
  },
  "language_info": {
   "codemirror_mode": {
    "name": "ipython",
    "version": 3
   },
   "file_extension": ".py",
   "mimetype": "text/x-python",
   "name": "python",
   "nbconvert_exporter": "python",
   "pygments_lexer": "ipython3",
   "version": "3.6.3"
  }
 },
 "nbformat": 4,
 "nbformat_minor": 1
}
