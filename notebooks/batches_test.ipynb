{
 "cells": [
  {
   "cell_type": "code",
   "execution_count": 1,
   "metadata": {
    "collapsed": true
   },
   "outputs": [],
   "source": [
    "import os\n",
    "import sys\n",
    "sys.path.append(os.path.abspath(os.path.join('..')))\n",
    "\n",
    "import pyabc\n",
    "\n",
    "%matplotlib inline\n",
    "import matplotlib.pyplot as plt\n",
    "import numpy as np\n",
    "import pyabc"
   ]
  },
  {
   "cell_type": "code",
   "execution_count": 2,
   "metadata": {
    "collapsed": true
   },
   "outputs": [],
   "source": [
    "# multivaraite test\n",
    "mu = np.array([1,2])\n",
    "sigma = np.diag([1,1])\n",
    "\n",
    "y0 = np.random.multivariate_normal(mu, sigma, 10)\n",
    "\n",
    "def prior_mu():\n",
    "    return np.random.uniform(0,2,2)\n",
    "\n",
    "def simulator(mu):\n",
    "    return np.random.multivariate_normal(mu, sigma, 10)\n",
    "\n",
    "def mean(x):\n",
    "    return np.mean(x, 0)\n",
    "\n",
    "def var(x):\n",
    "    return np.cov(x.T)\n",
    "\n",
    "rej_samp = pyabc.RejectionSampler(priors=prior_mu, simulator=simulator, summaries=[mean, var], observation=y0)"
   ]
  },
  {
   "cell_type": "markdown",
   "metadata": {},
   "source": [
    "## Old version"
   ]
  },
  {
   "cell_type": "code",
   "execution_count": 4,
   "metadata": {},
   "outputs": [
    {
     "name": "stdout",
     "output_type": "stream",
     "text": [
      "Rejection sampler started with threshold: 1.0 and number of samples: 1000\n",
      "Samples:   1000 - Threshold: 1.00 - Acceptance rate:          1 % - Time:    10.16 s\n",
      "Rejection sampler started with threshold: 1.0 and number of samples: 1000\n",
      "Samples:   1000 - Threshold: 1.00 - Acceptance rate:          1 % - Time:    10.98 s\n",
      "Rejection sampler started with threshold: 1.0 and number of samples: 1000\n",
      "Samples:   1000 - Threshold: 1.00 - Acceptance rate:          1 % - Time:    11.24 s\n",
      "Rejection sampler started with threshold: 1.0 and number of samples: 1000\n",
      "Samples:   1000 - Threshold: 1.00 - Acceptance rate:          1 % - Time:    11.31 s\n",
      "Rejection sampler started with threshold: 1.0 and number of samples: 1000\n",
      "Samples:   1000 - Threshold: 1.00 - Acceptance rate:          1 % - Time:    11.92 s\n",
      "Rejection sampler started with threshold: 1.0 and number of samples: 1000\n",
      "Samples:   1000 - Threshold: 1.00 - Acceptance rate:          1 % - Time:    12.24 s\n",
      "Rejection sampler started with threshold: 1.0 and number of samples: 1000\n",
      "Samples:   1000 - Threshold: 1.00 - Acceptance rate:          1 % - Time:    12.04 s\n",
      "Rejection sampler started with threshold: 1.0 and number of samples: 1000\n",
      "Samples:   1000 - Threshold: 1.00 - Acceptance rate:          1 % - Time:    12.76 s\n",
      "11.8 s ± 588 ms per loop (mean ± std. dev. of 7 runs, 1 loop each)\n"
     ]
    }
   ],
   "source": [
    "%timeit rej_samp.sample(nr_samples=1000, threshold=1.0, old_version=True)"
   ]
  },
  {
   "cell_type": "code",
   "execution_count": 12,
   "metadata": {},
   "outputs": [
    {
     "data": {
      "text/plain": [
       "(array([ 17.,  50.,  25.,   5.,   2.,   0.,   0.,   0.,   0.,   1.]),\n",
       " array([ 1.955434,  2.062867,  2.1703  ,  2.277733,  2.385166,  2.492599,\n",
       "         2.600032,  2.707465,  2.814898,  2.922331,  3.029764]),\n",
       " <a list of 10 Patch objects>)"
      ]
     },
     "execution_count": 12,
     "metadata": {},
     "output_type": "execute_result"
    },
    {
     "data": {
      "image/png": "[encoded data removed]",
      "text/plain": [
       "<matplotlib.figure.Figure at 0x7f6b17b44160>"
      ]
     },
     "metadata": {},
     "output_type": "display_data"
    }
   ],
   "source": [
    "plt.hist(runtimes)"
   ]
  },
  {
   "cell_type": "markdown",
   "metadata": {},
   "source": [
    "## New version (batch size 1)"
   ]
  },
  {
   "cell_type": "code",
   "execution_count": 5,
   "metadata": {},
   "outputs": [
    {
     "name": "stdout",
     "output_type": "stream",
     "text": [
      "Rejection sampler started with threshold: 1.0 and number of samples: 1000\n",
      "Samples:   1000 - Threshold: 1.00 - Acceptance rate:          1 % - Time:    10.78 s\n",
      "Rejection sampler started with threshold: 1.0 and number of samples: 1000\n",
      "Samples:   1000 - Threshold: 1.00 - Acceptance rate:          1 % - Time:    10.22 s\n",
      "Rejection sampler started with threshold: 1.0 and number of samples: 1000\n",
      "Samples:   1000 - Threshold: 1.00 - Acceptance rate:          1 % - Time:     9.90 s\n",
      "Rejection sampler started with threshold: 1.0 and number of samples: 1000\n",
      "Samples:   1000 - Threshold: 1.00 - Acceptance rate:          1 % - Time:    10.42 s\n",
      "Rejection sampler started with threshold: 1.0 and number of samples: 1000\n",
      "Samples:   1000 - Threshold: 1.00 - Acceptance rate:          1 % - Time:    10.11 s\n",
      "Rejection sampler started with threshold: 1.0 and number of samples: 1000\n",
      "Samples:   1000 - Threshold: 1.00 - Acceptance rate:          1 % - Time:    10.37 s\n",
      "Rejection sampler started with threshold: 1.0 and number of samples: 1000\n",
      "Samples:   1000 - Threshold: 1.00 - Acceptance rate:          1 % - Time:    11.08 s\n",
      "Rejection sampler started with threshold: 1.0 and number of samples: 1000\n",
      "Samples:   1000 - Threshold: 1.00 - Acceptance rate:          1 % - Time:    10.43 s\n",
      "10.4 s ± 343 ms per loop (mean ± std. dev. of 7 runs, 1 loop each)\n"
     ]
    }
   ],
   "source": [
    "%timeit rej_samp.sample(nr_samples=1000, threshold=1.0, batch_size=1)"
   ]
  },
  {
   "cell_type": "code",
   "execution_count": 14,
   "metadata": {},
   "outputs": [
    {
     "data": {
      "text/plain": [
       "(array([ 26.,  46.,  20.,   2.,   2.,   0.,   0.,   2.,   0.,   2.]),\n",
       " array([ 1.90502  ,  2.0371721,  2.1693242,  2.3014763,  2.4336284,\n",
       "         2.5657805,  2.6979326,  2.8300847,  2.9622368,  3.0943889,\n",
       "         3.226541 ]),\n",
       " <a list of 10 Patch objects>)"
      ]
     },
     "execution_count": 14,
     "metadata": {},
     "output_type": "execute_result"
    },
    {
     "data": {
      "image/png": "[encoded data removed]",
      "text/plain": [
       "<matplotlib.figure.Figure at 0x7f6b17b284e0>"
      ]
     },
     "metadata": {},
     "output_type": "display_data"
    }
   ],
   "source": [
    "plt.hist(runtimes_nb1)"
   ]
  },
  {
   "cell_type": "markdown",
   "metadata": {},
   "source": [
    "## New version (batch size 100)"
   ]
  },
  {
   "cell_type": "code",
   "execution_count": 6,
   "metadata": {},
   "outputs": [
    {
     "name": "stdout",
     "output_type": "stream",
     "text": [
      "Rejection sampler started with threshold: 1.0 and number of samples: 1000\n",
      "Samples:   1000 - Threshold: 1.00 - Acceptance rate:          1 % - Time:     9.52 s\n",
      "Rejection sampler started with threshold: 1.0 and number of samples: 1000\n",
      "Samples:   1000 - Threshold: 1.00 - Acceptance rate:          1 % - Time:    10.02 s\n",
      "Rejection sampler started with threshold: 1.0 and number of samples: 1000\n",
      "Samples:   1000 - Threshold: 1.00 - Acceptance rate:          1 % - Time:     9.13 s\n",
      "Rejection sampler started with threshold: 1.0 and number of samples: 1000\n",
      "Samples:   1000 - Threshold: 1.00 - Acceptance rate:          1 % - Time:     9.34 s\n",
      "Rejection sampler started with threshold: 1.0 and number of samples: 1000\n",
      "Samples:   1000 - Threshold: 1.00 - Acceptance rate:          1 % - Time:     9.77 s\n",
      "Rejection sampler started with threshold: 1.0 and number of samples: 1000\n",
      "Samples:   1000 - Threshold: 1.00 - Acceptance rate:          1 % - Time:     8.64 s\n",
      "Rejection sampler started with threshold: 1.0 and number of samples: 1000\n",
      "Samples:   1000 - Threshold: 1.00 - Acceptance rate:          1 % - Time:     9.98 s\n",
      "Rejection sampler started with threshold: 1.0 and number of samples: 1000\n",
      "Samples:   1000 - Threshold: 1.00 - Acceptance rate:          1 % - Time:     9.22 s\n",
      "9.44 s ± 469 ms per loop (mean ± std. dev. of 7 runs, 1 loop each)\n"
     ]
    }
   ],
   "source": [
    "%timeit rej_samp.sample(nr_samples=1000, threshold=1.0, batch_size=100)"
   ]
  },
  {
   "cell_type": "code",
   "execution_count": 16,
   "metadata": {},
   "outputs": [
    {
     "data": {
      "text/plain": [
       "(array([  9.,  56.,  29.,   4.,   1.,   0.,   0.,   0.,   0.,   1.]),\n",
       " array([ 1.75221  ,  1.8580806,  1.9639512,  2.0698218,  2.1756924,\n",
       "         2.281563 ,  2.3874336,  2.4933042,  2.5991748,  2.7050454,\n",
       "         2.810916 ]),\n",
       " <a list of 10 Patch objects>)"
      ]
     },
     "execution_count": 16,
     "metadata": {},
     "output_type": "execute_result"
    },
    {
     "data": {
      "image/png": "[encoded data removed]",
      "text/plain": [
       "<matplotlib.figure.Figure at 0x7f6b17aed7f0>"
      ]
     },
     "metadata": {},
     "output_type": "display_data"
    }
   ],
   "source": [
    "plt.hist(runtimes_nb100)"
   ]
  },
  {
   "cell_type": "code",
   "execution_count": null,
   "metadata": {
    "collapsed": true
   },
   "outputs": [],
   "source": []
  }
 ],
 "metadata": {
  "kernelspec": {
   "display_name": "Python 3",
   "language": "python",
   "name": "python3"
  },
  "language_info": {
   "codemirror_mode": {
    "name": "ipython",
    "version": 3
   },
   "file_extension": ".py",
   "mimetype": "text/x-python",
   "name": "python",
   "nbconvert_exporter": "python",
   "pygments_lexer": "ipython3",
   "version": "3.6.1"
  }
 },
 "nbformat": 4,
 "nbformat_minor": 1
}
