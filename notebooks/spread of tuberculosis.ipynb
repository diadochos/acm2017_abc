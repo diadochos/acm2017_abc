{
 "cells": [
  {
   "cell_type": "code",
   "execution_count": 131,
   "metadata": {},
   "outputs": [],
   "source": [
    "import numpy as np\n",
    "import pylab as plt"
   ]
  },
  {
   "cell_type": "markdown",
   "metadata": {},
   "source": [
    "## Intractable model by Tanaka et al. 2006 for spread of tuberculosis"
   ]
  },
  {
   "cell_type": "markdown",
   "metadata": {},
   "source": [
    "![](img/transmission_process.png)"
   ]
  },
  {
   "cell_type": "markdown",
   "metadata": {},
   "source": [
    "### model parameter\n",
    "$\\alpha$: rate with which each infectious host randomly infects other individuals from an unlimited supply of hosts\n",
    "\n",
    "$\\delta$: rate with which a host stops being infectious, either by recovering or dying\n",
    "\n",
    "$\\tau$: rate with which the pathogen of the host mutates randomly within the host, generating a novel haplotype under a single-locus infinite alleles model\n",
    "\n",
    "$\\theta = (\\alpha, \\delta, \\tau)$"
   ]
  },
  {
   "cell_type": "markdown",
   "metadata": {},
   "source": [
    "$y_{\\theta} = (6,3,2,2,1,1,1,1,1,1,1)$: output, vector of clusters, that is different haplotypes. Each number represents the infectious hosts for this particular haplotype"
   ]
  },
  {
   "cell_type": "markdown",
   "metadata": {},
   "source": [
    "### Observation\n",
    "$\\alpha = 0.2, \\delta = 0, \\tau = 0.198, m = 20$\n",
    "\n",
    "assume, that $\\delta, \\tau$ are known and apply uniform prior"
   ]
  },
  {
   "cell_type": "code",
   "execution_count": 132,
   "metadata": {},
   "outputs": [],
   "source": [
    "alpha = 0.2\n",
    "delta = 0\n",
    "tau = 0.198\n",
    "m = 20\n",
    "N = 2e7\n",
    "\n",
    "def prior():\n",
    "    return np.random.uniform(0.005,2)\n",
    "\n",
    "def simulator(alpha, delta, tau):\n",
    "    m = 20\n",
    "    infected_hosts = np.array([[1]]) # list of haplotypes holding infectious hosts, we always start with one infected patient\n",
    "    limit_exceeded = False\n",
    "    round = 0\n",
    "    while np.sum(infected_hosts) <= m and not limit_exceeded:\n",
    "        round += 1\n",
    "        # for each haplotype\n",
    "        for cell in infected_hosts:\n",
    "            # for each infectious host\n",
    "            if cell[0] == 0:\n",
    "                continue\n",
    "            for host in range(cell[0]):\n",
    "                # one of three things happen: transmission, mutation or recovery/death\n",
    "                event = np.random.rand()\n",
    "                if event < 1/3:\n",
    "                    chance = np.random.rand()\n",
    "                    if chance < alpha:\n",
    "                        #transmission\n",
    "                        if np.sum(infected_hosts) == m:\n",
    "                            limit_exceeded = True\n",
    "                            break\n",
    "                        else:\n",
    "                            cell += 1\n",
    "                elif event < 2/3:\n",
    "                    chance = np.random.rand()\n",
    "                    if chance < delta:\n",
    "                        # recovery\n",
    "                        cell -= 1\n",
    "                else:\n",
    "                    chance = np.random.rand()\n",
    "                    if chance < tau:\n",
    "                        #mutation\n",
    "                        new_cell = [1]\n",
    "                        cell -= 1\n",
    "                        infected_hosts = np.vstack((infected_hosts, new_cell))\n",
    "\n",
    "            if limit_exceeded:\n",
    "                break\n",
    "                \n",
    "    return sorted(infected_hosts[infected_hosts != 0], reverse=True)"
   ]
  },
  {
   "cell_type": "code",
   "execution_count": 124,
   "metadata": {},
   "outputs": [
    {
     "name": "stdout",
     "output_type": "stream",
     "text": [
      "Rounds:  41\n"
     ]
    }
   ],
   "source": [
    "y0 = simulator(alpha, delta, tau)"
   ]
  },
  {
   "cell_type": "code",
   "execution_count": 134,
   "metadata": {},
   "outputs": [],
   "source": [
    "thetas = []\n",
    "samples = 0\n",
    "for i in range(1000):\n",
    "    while True:\n",
    "        samples += 1\n",
    "        theta = prior()\n",
    "        y = simulator(theta, delta, tau)\n",
    "        if y == y0:\n",
    "            thetas.append(theta)\n",
    "            break"
   ]
  },
  {
   "cell_type": "code",
   "execution_count": 139,
   "metadata": {},
   "outputs": [
    {
     "data": {
      "image/png": "[encoded data removed]",
      "text/plain": [
       "<matplotlib.figure.Figure at 0x7f76ec338668>"
      ]
     },
     "metadata": {},
     "output_type": "display_data"
    }
   ],
   "source": [
    "plt.hist(thetas, bins='auto', edgecolor='k', linewidth='0.8', normed=True)\n",
    "plt.xlabel(r\"$\\alpha$\")\n",
    "plt.ylabel(\"Posterior\")\n",
    "plt.show()\n"
   ]
  }
 ],
 "metadata": {
  "kernelspec": {
   "display_name": "Python [default]",
   "language": "python",
   "name": "python3"
  },
  "language_info": {
   "codemirror_mode": {
    "name": "ipython",
    "version": 3
   },
   "file_extension": ".py",
   "mimetype": "text/x-python",
   "name": "python",
   "nbconvert_exporter": "python",
   "pygments_lexer": "ipython3",
   "version": "3.6.2"
  }
 },
 "nbformat": 4,
 "nbformat_minor": 2
}
