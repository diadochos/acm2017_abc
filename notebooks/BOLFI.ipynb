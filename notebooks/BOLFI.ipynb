{
 "cells": [
  {
   "cell_type": "markdown",
   "metadata": {},
   "source": [
    "# Bayesian Optimization for Likelihood-Free Inference of Simulator-Based Statistical Models"
   ]
  },
  {
   "cell_type": "markdown",
   "metadata": {},
   "source": [
    "The true likelihood function we want to retrieve using a simulator-based model so that $y_{\\theta} \\sim p_{y|\\theta}$\n",
    "\n",
    "$\\mathcal{L}(\\theta) = p_{y|\\theta}(y_0|\\theta)$ -> true likelihood based on observed data"
   ]
  },
  {
   "cell_type": "markdown",
   "metadata": {},
   "source": [
    "The approximation of the likelihood function is based on some measurement of discrepancy $\\Delta_{\\theta}$ between the observed data $y_o$ and data $y_{\\theta}$ simulated with parameter value $\\theta$. $\\Delta_{\\theta}$ is used to approximate $\\mathcal{L}$ by $\\hat{L}$."
   ]
  },
  {
   "cell_type": "markdown",
   "metadata": {},
   "source": [
    "The approximation is based on reduction of the data to some features, or summary statistics $\\Phi$. The purpose of the summary statistics is to reduce the dimensionality and to filter out information which is not deemed relevant for the inference of $\\theta$. \n",
    "So $\\mathcal{L}$ is replaced with $L$: \n",
    "\n",
    "$L(\\theta)=p_{\\Phi|\\theta}(\\Phi_0|\\theta)$ -> true likelihood based on summary statistics\n",
    "\n",
    "$L(\\theta)$ is a valid likelihood function but for the inference of $\\theta$ given $\\Phi$ and not for the inference of $\\theta$ given $y_0$, in contrast to $\\mathcal{L}$, unless $\\Phi$ happens to be statistically sufficient."
   ]
  },
  {
   "cell_type": "markdown",
   "metadata": {},
   "source": [
    "Howeverm $L(\\theta)$ is not known, because the pdf $p_{\\Phi|\\theta}$ is of unknown analytical form, which is a property inherited from $p_{y|\\theta}$. So we again have to approximate $L(\\theta)$, which we denote as a pratical approximation with finite resources by $\\hat{L}(\\theta)$\n",
    "\n",
    "$\\hat{L}(\\theta)$ -> computable approximation of $L$"
   ]
  },
  {
   "cell_type": "markdown",
   "metadata": {},
   "source": [
    "## Parametric Approximation of the Likelihood"
   ]
  },
  {
   "cell_type": "markdown",
   "metadata": {},
   "source": [
    "If $\\Phi_{\\theta}$ is obtained via averaging (choose $\\theta$ and simulate $N$ datasets from the simulator, calculate $\\Phi_{\\theta}$ for each and calculate the average), the central limit theorem suggests that the pdf may be well approximated by a Gaussian distribution if the number of samples n is sufficiently large,\n",
    "\n",
    "$p_{\\Phi|\\theta}(\\phi|\\theta) \\approx \\cfrac{1}{(2\\pi)^{(p/2)}|\\det \\Sigma_{\\theta}|^{1/2}} \\exp (-\\cfrac{1}{2}(\\phi - \\mu_{\\theta})^T\\Sigma_{\\theta}^{-1}(\\phi - \\mu_{\\theta}))$, with $p$ the dimension of $\\Phi_{\\theta}$"
   ]
  },
  {
   "cell_type": "markdown",
   "metadata": {},
   "source": [
    "The corresponding likelihood function is $\\tilde{L}_s = \\exp(\\tilde{l}_s)$\n",
    "\n",
    "$\\tilde{l}_s(\\theta) = -\\cfrac{p}{2}\\log(2\\pi) - \\cfrac{1}{2}\\log|\\det \\Sigma_{\\theta}| -\\cfrac{1}{2}(\\phi_o - \\mu_{\\theta})^T\\Sigma_{\\theta}^{-1}(\\phi_o - \\mu_{\\theta}))$"
   ]
  },
  {
   "cell_type": "markdown",
   "metadata": {},
   "source": [
    "$\\mu_{\\theta}$ and $\\Sigma_{\\theta}$ are generally not known, but the simulator can be used to estimate them via sample average $E^N$ over N independently generated summary statistics (for a given $\\theta$),\n",
    "\n",
    "$\\hat{\\mu}_{\\theta} = E^N[\\Phi_{\\theta}] = \\cfrac{1}{N} \\sum_i \\Phi_{\\theta}^{(i)}, \\quad \\Phi_{\\theta}^{(i)} \\overset{i.i.d}{\\sim } p_{\\Phi|\\theta}, \\quad \\hat{\\Sigma}_{\\theta} = E^N[(\\Phi_{\\theta} - \\hat{\\mu}_{\\theta})(\\Phi_{\\theta} - \\hat{\\mu}_{\\theta})^T]$"
   ]
  },
  {
   "cell_type": "markdown",
   "metadata": {},
   "source": [
    "A computable estimate $\\hat{L}_s^N$ is then given by $\\hat{L}_s^N = \\exp(\\hat{l}_s^N)$. This approximation was named \"synthetical likelihood\" by Wood (2010)"
   ]
  },
  {
   "cell_type": "markdown",
   "metadata": {},
   "source": [
    "## Nonparametric Approximation of the Likelihood"
   ]
  },
  {
   "cell_type": "markdown",
   "metadata": {},
   "source": [
    "If we dont know or dont want to assume a parametric model for the pdf $p_{\\Phi|\\theta}$ of the summary statistics, we can approximate it by a kernel density estimate,\n",
    "\n",
    "$p_{\\Phi|\\theta}(\\phi|\\theta) \\approx E^N[K(\\phi,\\Phi_{\\theta})], \\quad E^N[K(\\phi,\\Phi_{\\theta})] = \\cfrac{1}{N} \\sum_i K(\\phi, \\Phi_{\\theta}^{(i)})$"
   ]
  },
  {
   "cell_type": "markdown",
   "metadata": {},
   "source": [
    "An approximation of the likelihood function $L(\\theta)$ is given by $\\hat{L}_K^N(\\theta)$,\n",
    "\n",
    "$\\hat{L}_K^N(\\theta) = E^N[K(\\Phi_0, \\Phi_{\\theta})]$"
   ]
  },
  {
   "cell_type": "markdown",
   "metadata": {},
   "source": [
    "We can rewrite $K$ in another form as $\\kappa(\\Delta_{\\theta})$ where $\\Delta_{\\theta} \\geq 0$ depends on $\\Phi_o$ and $\\Phi_{\\theta}$, and $\\kappa$ is a univariate non-negative function not depending on $\\theta$. Kernels $K$ are generally such that $\\kappa$ has a maximum at zero (because kernels measure similarity and that is the greatest when two values are equal). "
   ]
  },
  {
   "cell_type": "markdown",
   "metadata": {},
   "source": [
    "Now we can express $\\hat{L}_K^N(\\theta)$ with $\\kappa$ which we denote with $\\hat{L}_{\\kappa}^N$\n",
    "\n",
    "$\\hat{L}_{\\kappa}^N (\\theta) = E^N[\\kappa(\\Delta_{\\theta})]$"
   ]
  },
  {
   "cell_type": "markdown",
   "metadata": {},
   "source": [
    "When we denote the empirical expectation $E^N[\\Delta_{\\theta}]$ as $\\hat{J}(\\theta)$ it can be shown that for convex functions $\\kappa$ $\\kappa(\\hat{J})$ is a lower bound for the likelihood.\n",
    "\n",
    "$\\hat{L}_{\\kappa}^N(\\theta) \\geq \\kappa(\\hat{J}^N (\\theta))$,\n",
    "\n",
    "which means we do not have to calculate $\\kappa(\\Delta_{\\theta})$ for each sample, but instead calculate the empirical expectation over the discrepancies $E^N[\\Delta_{\\theta}]$ and apply $\\kappa$ only once."
   ]
  },
  {
   "cell_type": "markdown",
   "metadata": {},
   "source": [
    "Since $\\kappa$ is maximum at zero, the lower bound is maximized by minimizing the conditional empirical expectation $\\hat{J}^N (\\theta)$"
   ]
  },
  {
   "cell_type": "markdown",
   "metadata": {},
   "source": [
    "A popular choice for $\\kappa$ is a uniform kernel $\\kappa = \\kappa_u$ which lead to the approximate likelihood $\\hat{L}_u^N$\n",
    "\n",
    "$\\kappa_u(u) = c\\chi_{[0,h)}(u), \\quad \\hat{L}_u^N (\\theta) = cP^N(\\Delta_{\\theta} < h)$,\n",
    "\n",
    "where the indicator function $\\chi$ equals one if $u \\in [0,h)$ and zero otherwise. $c$ is a scaling parameter and does not depend on $\\theta$ and $h$ is the bandwidth  of the kernel and acts as acceptance/rejection threshold."
   ]
  },
  {
   "cell_type": "markdown",
   "metadata": {},
   "source": [
    "A lower bound for $\\hat{L}_u^N$ is given by:\n",
    "\n",
    "$\\hat{L}_u^N(\\theta) = c[1 - P^N(\\Delta_{\\theta}^u \\geq h] \\geq c[1 - \\cfrac{1}{h}E^N[\\Delta_{\\theta}]] = c[1 - \\cfrac{1}{h} \\hat{J}^N(\\theta)]$,\n",
    "\n",
    "so again, minimizing $\\hat{J}^N(\\theta)$ maximizies the likelihood $\\hat{L}_u^N(\\theta$"
   ]
  },
  {
   "cell_type": "markdown",
   "metadata": {},
   "source": [
    "## Relation between Nonparametric and Parametric Approximation"
   ]
  },
  {
   "cell_type": "markdown",
   "metadata": {},
   "source": [
    "A special choice of Kernel allows us to embed the synthetic likelihood approch into the nonparametric approach"
   ]
  },
  {
   "cell_type": "markdown",
   "metadata": {},
   "source": [
    "For the Gaussian kernel, we have that $K(\\Phi_i, \\Phi_{\\theta}) = K_g(\\Phi_o - \\Phi_{\\theta})$,\n",
    "\n",
    "$K_g(\\Phi_o - \\Phi_{\\theta}) = \\cfrac{1}{(2\\pi)^{p/2}} \\cfrac{1}{|\\det C_{\\theta}|^{1/2}} \\exp \\left( -\\cfrac{(\\Phi_o - \\Phi_{\\theta})^T C^{-1}_{\\theta} (\\Phi_0 - \\Phi_{\\theta})}{2} \\right)$,\n",
    "\n",
    "where $C_{\\theta}$ is a positive definite bandwith matrix possibly depending on $\\theta$. The kernel $K_g$ corresponds to $\\kappa = \\kappa_g$ and $\\Delta_{\\theta} = \\Delta_{\\theta}^g$,\n",
    "\n",
    "$\\kappa_g(u) = \\cfrac{1}{(2\\pi)^{p/2}} \\exp(-\\cfrac{u}{2}), \\quad \\Delta_{\\theta}^g = \\log|\\det C_{\\theta}| + (\\Phi_o - \\Phi_{\\theta})^T C^{-1}_{\\theta} (\\Phi_0 - \\Phi_{\\theta})$"
   ]
  },
  {
   "cell_type": "markdown",
   "metadata": {},
   "source": [
    "The function $\\kappa_g$ is convex and thus yields a lower bound for $\\hat{L}^N(\\theta)=\\hat{L}_g^N(\\theta)$\n",
    "\n",
    "$\\hat{J}_g^N(\\theta) = E^N[\\Delta_{\\theta}^g] \\Rightarrow \\log \\hat{L}_g^N(\\theta) \\geq \\log \\kappa_g(\\hat{J}_g^N(\\theta)) = -\\cfrac{p}{2} \\log(2\\pi) - \\cfrac{1}{2}\\hat{J}_g^N(\\theta)$"
   ]
  },
  {
   "cell_type": "markdown",
   "metadata": {},
   "source": [
    "Now it can be shown that with $C_{\\theta} = \\hat{\\Sigma}_{\\theta}$ we can approximate the synthetic likelihood $\\hat{l}_s^N(\\theta)$ (which is not necessary for BOLFI but a nice to have for the relation between the two approaches):\n",
    "\n",
    "$\\hat{l}_s^N(\\theta) = \\cfrac{p}{2} - \\cfrac{p}{2}\\log(2\\pi) - \\cfrac{1}{2}\\hat{J}_g^N(\\theta)$,\n",
    "\n",
    "$\\log \\hat{L}_g^N(\\theta) \\geq -\\cfrac{p}{2} + \\hat{l}_s^N(\\theta)$.\n",
    "\n",
    "This shows that maximizing the synthetic log likelihood $\\hat{l}_s^N$ corresponds to maximizing a lower bound of a nonparametric approximation of the log likelihood $\\hat{L}_g^N$"
   ]
  },
  {
   "cell_type": "markdown",
   "metadata": {},
   "source": [
    "## From sample average to regression based approximations"
   ]
  },
  {
   "cell_type": "markdown",
   "metadata": {},
   "source": [
    "Until now we have seen two ways to approximate the likelihood function $\\hat{L}$, that is parametric approximation $\\hat{L}_s^N = \\exp(\\hat{l}_s^N)$ or nonparamteric approximation $\\hat{L}_{\\kappa}^N$."
   ]
  },
  {
   "cell_type": "markdown",
   "metadata": {},
   "source": [
    "$\\hat{L}_{\\kappa}(\\theta) = E[\\kappa(\\Delta_{\\theta})]$ has a natural interpretation as a regression function where the model parameters $\\theta$ are the covariates and $\\kappa(\\Delta_{\\theta})$ is the response variable. The expectation can thus also be approximated by solving a regression problem. The same holds for $\\hat{J}^N$ where we had seen that $J(\\theta)=E[\\Delta_{\\theta}]$. Here $\\Delta_{\\theta}$ is the response variable."
   ]
  },
  {
   "cell_type": "markdown",
   "metadata": {},
   "source": [
    "Inferring $J(\\theta)$ via regression requires training data in the form or tuples $(\\theta^{(i)}, \\Delta_{\\theta}^{(i)})$, that is a sample $\\theta$ and the corresponding discrepancy measure $\\Delta_{\\theta}$. As we are only interested in areas of $\\theta$ for which $\\Delta_{\\theta}$ is small, we propose to perform regression and optimization at the same time."
   ]
  },
  {
   "cell_type": "markdown",
   "metadata": {},
   "source": [
    "We first sample some evidence $\\epsilon^{(t)}$ of the relation between $\\theta$ and $\\Delta_{\\theta}$\n",
    "\n",
    "$\\epsilon^{(t)} = \\{ (\\theta^{(1)}, \\Delta_{\\theta}^{(1)}), \\ldots, (\\theta^{(t)},\\Delta_{\\theta}^{(t)}) \\}$.\n",
    "\n",
    "We use this evidence to obtain an estimate $\\hat{J}$ of $J$ via regression. The estimated $\\hat{J}$ and some measurement of uncertainty about it can then be used to produce a new guess about the potential location of the minimizer. The number of iterations $t=T$ has to be chosen in some way."
   ]
  },
  {
   "cell_type": "markdown",
   "metadata": {},
   "source": [
    "### Brief Introduction to Bayesian Optimization"
   ]
  },
  {
   "cell_type": "markdown",
   "metadata": {},
   "source": [
    "BO comprises a set of methods to minimize a black-box function $f(\\theta)$. With black-box we mean a function we can evaluate but whose form and gradients are unknown (hence no optimization based on gradient-descent is possible). The basic idea is to use a probabilistic model of $f$ to select points where the objective is evaluated, and to use the obtained values to update the model by Bayes' theorem."
   ]
  },
  {
   "cell_type": "markdown",
   "metadata": {},
   "source": [
    "The objective $f$ is modeled as a Gaussian process: We assume that $f$ is a GP with prior mean function $m(\\theta)$ and covariacne function $k(\\theta,\\theta')$ subject to additive Gaussian observation noise with variance $\\sigma_n^2$.\n",
    "\n",
    "The joint distribution of $f$ and any t points $\\theta^{(1)}, \\ldots, \\theta^{(t)}$ is thus asssumed Gaussian with mean $m_t$ and covariance $K_t$:\n",
    "\n",
    "$(f^{(1)}, \\ldots, f^{(t)})^T \\sim \\mathcal{N}(m_t, K_t)$\n",
    "\n",
    "$m_t = \\begin{pmatrix} m(\\theta^{(1)}) \\\\ \\vdots \\\\ m(\\theta^{(t)}) \\end{pmatrix}, \\quad K_t = \\begin{pmatrix} k(\\theta^{(1)}, \\theta^{(1)}) & \\ldots & k(\\theta^{(1)}, \\theta^{(t)}) \\\\ \\vdots & & \\vdots \\\\ k(\\theta^{(t)}, \\theta^{(1)}) & \\ldots & k(\\theta^{(t)},\\theta^{(t)}) \\end{pmatrix} + \\sigma_n^2 I_t$.\n",
    "\n",
    "We use $f^{(i)}=f(\\theta^{(i)})$ and $I_t$ is a $t\\times t$ identity matrix.\n",
    "\n",
    "We assume $m(\\theta)$ is either a constant or a sum of convex quadratic polynomials in the elements $\\theta_j$ of $\\theta$ and $k(\\theta,\\theta')$ is a squared exponential covariance function.\n",
    "\n",
    "$m(\\theta) = \\sum_j \\alpha_j\\theta_j^2+b_j\\theta_j+c, \\quad k(\\theta, \\theta') = \\sigma_f^2\\exp(\\sum_j \\cfrac{1}{\\lambda_j^2}(\\theta_j - \\theta_j')^2)$\n",
    "\n",
    "$sigma_f^2$ is the signal variance (?) and $\\lambda_j$ are the characteristic lenth scales, which control the amount of correlation between $f(\\theta)$ and $f(\\theta')$"
   ]
  },
  {
   "cell_type": "markdown",
   "metadata": {},
   "source": [
    "The quantities $a_j, b_j, c, \\sigma_f^2, \\lambda_j$ and $\\sigma_n^2$ are hyperparameters. They have to be learned and updated in some way (for example by maximizing the leave-one-out log predictive probability)"
   ]
  },
  {
   "cell_type": "markdown",
   "metadata": {},
   "source": [
    "Given evidence $\\epsilon^{(t)}$ the posterior pdf $f$ at a point $\\theta$ is Gaussian with posterior mean $\\mu_t(\\theta)$ and posterior variance $v_t(\\theta) + \\sigma_n^2$\n",
    "\n",
    "$f(\\theta)|\\epsilon_f^{(t)} \\sim \\mathcal{N}(\\mu_t(\\theta), v_t(\\theta) + \\sigma_n^2)$, \n",
    "\n",
    "with\n",
    "\n",
    "$\\mu_t(\\theta) = m(\\theta) + k_t(\\theta)^TK_t^{-1}(f_t - m_t), \\quad v_t(\\theta) = k(\\theta,\\theta) - k_t(\\theta)^TK_t^{-1}k_t(\\theta)$\n",
    "\n",
    "$f_t = (f^{(1)}, \\ldots, f^{(t)})^T, \\quad k_t = (k(\\theta, \\theta^{(1)}), \\ldots, k(\\theta, \\theta^{(t)}))^T$"
   ]
  },
  {
   "cell_type": "markdown",
   "metadata": {},
   "source": [
    "The evidence set can be augmented by selecting a new point $\\theta^{(t+1)}$ where $f$ is next evaluated. The point is chosen based on the posterior distribution of $f$ given $\\epsilon^{(t)}$. We can use an acquisition function $A_t(\\theta)$\n",
    "\n",
    "$A_t(\\theta)=\\mu_t(\\theta) - \\sqrt{\\eta_t^2 v_t(\\theta)}$,\n",
    "\n",
    "which is known as the lower confidence bound selection criterion and resembles a compromise between exploration and exploitation. \n",
    "\n",
    "$\\eta_t^2= 2 \\log[t^{d/2+2}\\pi^2/(3\\epsilon_n)], \\epsilon_n = 0.1$"
   ]
  },
  {
   "cell_type": "markdown",
   "metadata": {},
   "source": [
    "Employing a stochastic acquisition rule avoids getting stuck at one point. We used a simple heuristigc that $\\theta^{(t+1)}$ is sampled from a Gaussian with diagonal covariance matrix and mean equal to the minimizer of the acquisition function."
   ]
  },
  {
   "cell_type": "markdown",
   "metadata": {},
   "source": [
    "### Inferring the Regression Function of the Discrepancies"
   ]
  },
  {
   "cell_type": "markdown",
   "metadata": {},
   "source": [
    "Letting $f(\\theta)=\\Delta_{\\theta}$, BO yields immediately an estimate of $J(\\theta)$. One could also work with $f = \\log \\Delta_{\\theta}$.\n",
    "\n",
    "$\\hat{J}^{(t)}(\\theta) = \\begin{cases} \\mu_t(\\theta) \\quad \\text{if } f(\\theta)=\\Delta_{\\theta} \\\\ \\exp(\\mu_t(\\theta) + \\cfrac{1}{2}(v_t(\\theta) + \\sigma_n^2)) \\quad \\text{if } f(\\theta) = \\log \\Delta_{\\theta} \\end{cases}$"
   ]
  },
  {
   "cell_type": "markdown",
   "metadata": {},
   "source": [
    "![](img/bolfi.png)"
   ]
  },
  {
   "cell_type": "markdown",
   "metadata": {},
   "source": [
    "BO yields a probabilistic model for the discrepancy $\\Delta_{\\theta}$. As discussed earlier, we can use this model to obtain the computable likelihood approximation $\\hat{L}_u^{(t)}$.\n",
    "\n",
    "$\\hat{L}_u^{(t)}(\\theta) \\propto \\begin{cases} F\\left(\\cfrac{h - \\mu_t(\\theta)}{\\sqrt{v_t(\\theta) + \\sigma_n^2}}\\right) \\quad \\text{if } f(\\theta) = \\Delta_{\\theta} \\\\ F\\left(\\cfrac{\\log h - \\mu_t(\\theta)}{\\sqrt{v_t(\\theta) + \\sigma_n^2}}\\right)  \\quad \\text{if } f(\\theta) = \\log \\Delta_{\\theta} \\end{cases}$"
   ]
  },
  {
   "cell_type": "markdown",
   "metadata": {},
   "source": [
    "# What do we need?"
   ]
  },
  {
   "cell_type": "markdown",
   "metadata": {},
   "source": [
    "according to Example 11\n",
    "1. gather initial evidence set, e.g. 10 points $\\epsilon^{(10)}=\\{(\\theta^{(i)}, \\Delta_{\\theta}^{(i)}\\}$\n",
    "2. Define mean and covariance function (we use quadratic polynomial mean and exponential covariance) $m_t(\\theta), k(\\theta, \\theta')$\n",
    "3. Use Gaussian process to\n",
    "  1. compute $m_t, K_t, f_t$ from the data in the evidence set\n",
    "  2. define posterior distribution governed by $\\mu_t(\\theta), v_t(\\theta)$ as functions of $\\theta$\n",
    "  3. define acquistion function $A_t(\\theta) = \\mu_t(\\theta) - \\sqrt{\\eta_t^2v_t(\\theta)}$\n",
    "  4. Find minimum of the acquisition function so that $\\theta^{*} = \\arg \\min_{\\theta} A_t(\\theta)$ and stochastic acquisition rule $\\theta^{(t+1)} \\sim \\mathcal{N}(\\theta^{*}, \\Sigma_{A_t})$\n",
    "  5. previous step might made it necessary to determine $\\Sigma_{A_t}$ as the end points of the interval where the acquisition function is within a certain tolerance or just use constants\n",
    "4. repeat step 3 until the evidence set $\\epsilon^{(t)}$ has reached the wanted number of data points, e.g. $T=50$\n",
    "5. Use cdf $F$ to compute the approximate likelihood function $\\hat{L}_u^{(t)}$ for the evidence set\n"
   ]
  },
  {
   "cell_type": "markdown",
   "metadata": {},
   "source": [
    "open Questions: \n",
    "1. How to sample first data points for evidence set? Use a prior function? Think so\n",
    "2. How to optimize the hyperparameters $a_j, b_j, c, \\sigma_f^2, \\lambda_j$ and $\\sigma_n^2$? In the paper there was mentioned a method leave-one-out predictive log probability?\n",
    "3. How to minize $A_t$? Use optimizer from scipy/sklearn\n",
    "\n",
    "Possible answers:\n",
    "1. Gutmann: The algorithm was initialized with an evidence set E where the parameters θ(1), . . . ,θ(t0) (t0) were chosen as a Sobol quasi-random sequence (see,for example, Niederreiter, 1988)\n",
    "2. Maybe the Bayesian Optimization packages provide methods to do this.\n",
    "3. Python Package"
   ]
  },
  {
   "cell_type": "markdown",
   "metadata": {},
   "source": [
    "Steps 2 and 3 could be replaced by using one of the available Python packages for Bayesian Optimization. I would recommend GPyOpt (https://github.com/SheffieldML/GPyOpt) by Neil Lawrence's team, since it seems to be the best maintained one. Another option would be BayesianOptimization (https://github.com/fmfn/BayesianOptimization) by Ryan Adams and Jasper Snoek."
   ]
  },
  {
   "cell_type": "markdown",
   "metadata": {},
   "source": [
    "# Implementation"
   ]
  },
  {
   "cell_type": "code",
   "execution_count": 166,
   "metadata": {},
   "outputs": [
    {
     "name": "stdout",
     "output_type": "stream",
     "text": [
      "Populating the interactive namespace from numpy and matplotlib\n"
     ]
    }
   ],
   "source": [
    "%pylab inline\n",
    "import GPyOpt\n",
    "import GPy\n",
    "import numpy as np\n",
    "import pylab as plt\n",
    "import os\n",
    "import sys\n",
    "sys.path.append(os.path.abspath(os.path.join('..')))\n",
    "import pyabc\n",
    "import scipy.stats as ss"
   ]
  },
  {
   "cell_type": "markdown",
   "metadata": {},
   "source": [
    "We want to use $f(\\theta)=\\Delta_{\\theta}$ so we have to define $f$ in a way that it becomes a $\\theta$ and delivers a discrepancy....that means f has to sample data, caluclate summary statistics and apply the discrepancy measure"
   ]
  },
  {
   "cell_type": "code",
   "execution_count": 3,
   "metadata": {},
   "outputs": [],
   "source": [
    "mu0 = 3.5\n",
    "y0 = np.random.normal(mu0, 1, 10)"
   ]
  },
  {
   "cell_type": "code",
   "execution_count": 4,
   "metadata": {},
   "outputs": [],
   "source": [
    "def prior():\n",
    "    return np.array(np.random.uniform(-5,5)).reshape(1,1)"
   ]
  },
  {
   "cell_type": "code",
   "execution_count": 5,
   "metadata": {},
   "outputs": [],
   "source": [
    "def simulator(mu):\n",
    "    return np.random.normal(mu.flatten(), 1, 10)"
   ]
  },
  {
   "cell_type": "code",
   "execution_count": 6,
   "metadata": {},
   "outputs": [],
   "source": [
    "def summary_stat(X):\n",
    "    return np.mean(X)"
   ]
  },
  {
   "cell_type": "code",
   "execution_count": 7,
   "metadata": {},
   "outputs": [],
   "source": [
    "def discrepancy(phi0,phi):\n",
    "    return np.power((phi0 - phi),2)"
   ]
  },
  {
   "cell_type": "code",
   "execution_count": 8,
   "metadata": {},
   "outputs": [],
   "source": [
    "def f(theta):\n",
    "    Y = simulator(theta)\n",
    "    y = summary_stat(Y)\n",
    "    x = summary_stat(y0)\n",
    "    return discrepancy(x, y)"
   ]
  },
  {
   "cell_type": "code",
   "execution_count": 64,
   "metadata": {},
   "outputs": [
    {
     "data": {
      "text/plain": [
       "0.050071134603198737"
      ]
     },
     "execution_count": 64,
     "metadata": {},
     "output_type": "execute_result"
    }
   ],
   "source": [
    "f(np.array([[3.5]]))"
   ]
  },
  {
   "cell_type": "code",
   "execution_count": 10,
   "metadata": {},
   "outputs": [
    {
     "data": {
      "text/plain": [
       "[(array([[ 2.65503145]]), 1.6904877329600978),\n",
       " (array([[ 0.71892295]]), 9.0411925689854868),\n",
       " (array([[-0.29125309]]), 12.960864750591538),\n",
       " (array([[ 1.45619726]]), 8.1314425348422805),\n",
       " (array([[ 2.32528531]]), 2.2138869353026775),\n",
       " (array([[-0.11115458]]), 16.004944990310989),\n",
       " (array([[ 0.88720152]]), 10.567702332981316),\n",
       " (array([[-4.66307547]]), 74.210889820456345),\n",
       " (array([[ 4.03487536]]), 0.21663325585464344),\n",
       " (array([[-4.77136524]]), 68.476515515873558)]"
      ]
     },
     "execution_count": 10,
     "metadata": {},
     "output_type": "execute_result"
    }
   ],
   "source": [
    "# initial evidence set\n",
    "evidence = []\n",
    "for _ in range(10):\n",
    "    theta = prior()\n",
    "    evidence.append((theta, f(theta)))\n",
    "    \n",
    "evidence"
   ]
  },
  {
   "cell_type": "code",
   "execution_count": 11,
   "metadata": {},
   "outputs": [],
   "source": [
    "space =[{'name': 'mean', 'type': 'continuous', 'domain': (-5,5)}]"
   ]
  },
  {
   "cell_type": "code",
   "execution_count": 12,
   "metadata": {},
   "outputs": [
    {
     "data": {
      "text/plain": [
       "(array([[ 2.65503145],\n",
       "        [ 0.71892295],\n",
       "        [-0.29125309],\n",
       "        [ 1.45619726],\n",
       "        [ 2.32528531],\n",
       "        [-0.11115458],\n",
       "        [ 0.88720152],\n",
       "        [-4.66307547],\n",
       "        [ 4.03487536],\n",
       "        [-4.77136524]]), array([[  1.69048773],\n",
       "        [  9.04119257],\n",
       "        [ 12.96086475],\n",
       "        [  8.13144253],\n",
       "        [  2.21388694],\n",
       "        [ 16.00494499],\n",
       "        [ 10.56770233],\n",
       "        [ 74.21088982],\n",
       "        [  0.21663326],\n",
       "        [ 68.47651552]]))"
      ]
     },
     "execution_count": 12,
     "metadata": {},
     "output_type": "execute_result"
    }
   ],
   "source": [
    "X = np.array([x for x, _ in evidence]).reshape(10,1)\n",
    "Y = np.array([y for _, y in evidence]).reshape(10,1)\n",
    "X,Y # has to be one input per row"
   ]
  },
  {
   "cell_type": "code",
   "execution_count": 65,
   "metadata": {},
   "outputs": [
    {
     "name": "stdout",
     "output_type": "stream",
     "text": [
      "The set cost function is ignored! LCB acquisition does not make sense with cost.\n"
     ]
    }
   ],
   "source": [
    "# ATTENTION: Need to install pip install sobol or sobol_seq (maybe last suffices)\n",
    "myBopt = GPyOpt.methods.BayesianOptimization(f=f,            # function to optimize       \n",
    "                                             domain=space,        # box-constrains of the problem\n",
    "                                             acquisition_type='LCB',\n",
    "                                             exact_feval=False,\n",
    "                                             model_type='GP',\n",
    "                                             num_cores=-1,\n",
    "                                             initial_design_numdata=10,\n",
    "                                             initial_design_type='sobol') # Selects the Expected improvement"
   ]
  },
  {
   "cell_type": "code",
   "execution_count": 66,
   "metadata": {},
   "outputs": [],
   "source": [
    "# Run the optimization\n",
    "# rerun to update the model! So each time you run this cell the model draws the next 30 points! Good for stepwise optimization!\n",
    "max_iter = 30    # evaluation budget\n",
    "max_time = 60     # time budget \n",
    "eps      = 10e-6  # Minimum allows distance between the las two observations\n",
    "\n",
    "myBopt.run_optimization(max_iter, max_time, eps)  "
   ]
  },
  {
   "cell_type": "code",
   "execution_count": 67,
   "metadata": {},
   "outputs": [
    {
     "data": {
      "image/png": "[encoded data removed]",
      "text/plain": [
       "<matplotlib.figure.Figure at 0x7f31302ae160>"
      ]
     },
     "metadata": {},
     "output_type": "display_data"
    }
   ],
   "source": [
    "myBopt.plot_acquisition()"
   ]
  },
  {
   "cell_type": "code",
   "execution_count": 68,
   "metadata": {},
   "outputs": [
    {
     "data": {
      "image/png": "[encoded data removed]",
      "text/plain": [
       "<matplotlib.figure.Figure at 0x7f3131d75d68>"
      ]
     },
     "metadata": {},
     "output_type": "display_data"
    }
   ],
   "source": [
    "myBopt.plot_convergence()"
   ]
  },
  {
   "cell_type": "code",
   "execution_count": 69,
   "metadata": {},
   "outputs": [],
   "source": [
    "myBopt.save_report(\"test\")"
   ]
  },
  {
   "cell_type": "code",
   "execution_count": 73,
   "metadata": {},
   "outputs": [
    {
     "data": {
      "text/plain": [
       "array([ 4.08879149])"
      ]
     },
     "execution_count": 73,
     "metadata": {},
     "output_type": "execute_result"
    }
   ],
   "source": [
    "myBopt.x_opt"
   ]
  },
  {
   "cell_type": "code",
   "execution_count": 70,
   "metadata": {},
   "outputs": [
    {
     "data": {
      "text/plain": [
       "array([ 0.000617])"
      ]
     },
     "execution_count": 70,
     "metadata": {},
     "output_type": "execute_result"
    }
   ],
   "source": [
    "myBopt.fx_opt"
   ]
  },
  {
   "cell_type": "code",
   "execution_count": 71,
   "metadata": {},
   "outputs": [],
   "source": [
    "# now get the likelihood -> mean and var of the posterior f(theta)|epsilon ~ N(mu_t, v_t)\n",
    "X,Y = myBopt.get_evaluations()"
   ]
  },
  {
   "cell_type": "code",
   "execution_count": 72,
   "metadata": {},
   "outputs": [
    {
     "data": {
      "text/plain": [
       "(40, 1)"
      ]
     },
     "execution_count": 72,
     "metadata": {},
     "output_type": "execute_result"
    }
   ],
   "source": [
    "myBopt.Y.shape"
   ]
  },
  {
   "cell_type": "code",
   "execution_count": 78,
   "metadata": {},
   "outputs": [
    {
     "data": {
      "text/plain": [
       "(['Mat52.variance', 'Mat52.lengthscale', 'Gaussian_noise.variance'],\n",
       " array([[  4.73620962e+00,   3.74571580e+00,   5.09812040e-04]]))"
      ]
     },
     "execution_count": 78,
     "metadata": {},
     "output_type": "execute_result"
    }
   ],
   "source": [
    "myBopt.model.get_model_parameters_names(), myBopt.model.get_model_parameters()"
   ]
  },
  {
   "cell_type": "code",
   "execution_count": 82,
   "metadata": {},
   "outputs": [
    {
     "data": {
      "text/html": [
       "<style type=\"text/css\">\n",
       ".pd{\n",
       "    font-family: \"Courier New\", Courier, monospace !important;\n",
       "    width: 100%;\n",
       "    padding: 3px;\n",
       "}\n",
       "</style>\n",
       "\n",
       "<p class=pd>\n",
       "<b>Model</b>: GP regression<br>\n",
       "<b>Objective</b>: -59.19456308305606<br>\n",
       "<b>Number of Parameters</b>: 3<br>\n",
       "<b>Number of Optimization Parameters</b>: 3<br>\n",
       "<b>Updates</b>: True<br>\n",
       "</p>\n",
       "<style type=\"text/css\">\n",
       ".tg  {font-family:\"Courier New\", Courier, monospace !important;padding:2px 3px;word-break:normal;border-collapse:collapse;border-spacing:0;border-color:#DCDCDC;margin:0px auto;width:100%;}\n",
       ".tg td{font-family:\"Courier New\", Courier, monospace !important;font-weight:bold;color:#444;background-color:#F7FDFA;border-style:solid;border-width:1px;overflow:hidden;word-break:normal;border-color:#DCDCDC;}\n",
       ".tg th{font-family:\"Courier New\", Courier, monospace !important;font-weight:normal;color:#fff;background-color:#26ADE4;border-style:solid;border-width:1px;overflow:hidden;word-break:normal;border-color:#DCDCDC;}\n",
       ".tg .tg-left{font-family:\"Courier New\", Courier, monospace !important;font-weight:normal;text-align:left;}\n",
       ".tg .tg-center{font-family:\"Courier New\", Courier, monospace !important;font-weight:normal;text-align:center;}\n",
       ".tg .tg-right{font-family:\"Courier New\", Courier, monospace !important;font-weight:normal;text-align:right;}\n",
       "</style>\n",
       "<table class=\"tg\"><tr><th><b>  GP_regression.         </b></th><th><b>            value</b></th><th><b>  constraints  </b></th><th><b>priors</b></th></tr>\n",
       "<tr><td class=tg-left>  Mat52.variance         </td><td class=tg-right>    4.73620962011</td><td class=tg-center>      +ve      </td><td class=tg-center>      </td></tr>\n",
       "<tr><td class=tg-left>  Mat52.lengthscale      </td><td class=tg-right>    3.74571580095</td><td class=tg-center>      +ve      </td><td class=tg-center>      </td></tr>\n",
       "<tr><td class=tg-left>  Gaussian_noise.variance</td><td class=tg-right>0.000509812040271</td><td class=tg-center>1e-09,1000000.0</td><td class=tg-center>      </td></tr>\n",
       "</table>"
      ],
      "text/plain": [
       "<GPy.models.gp_regression.GPRegression at 0x7f31303a4208>"
      ]
     },
     "execution_count": 82,
     "metadata": {},
     "output_type": "execute_result"
    }
   ],
   "source": [
    "myBopt.model.model"
   ]
  },
  {
   "cell_type": "code",
   "execution_count": 83,
   "metadata": {},
   "outputs": [
    {
     "data": {
      "text/html": [
       "<style type=\"text/css\">\n",
       ".tg  {font-family:\"Courier New\", Courier, monospace !important;padding:2px 3px;word-break:normal;border-collapse:collapse;border-spacing:0;border-color:#DCDCDC;margin:0px auto;width:100%;}\n",
       ".tg td{font-family:\"Courier New\", Courier, monospace !important;font-weight:bold;color:#444;background-color:#F7FDFA;border-style:solid;border-width:1px;overflow:hidden;word-break:normal;border-color:#DCDCDC;}\n",
       ".tg th{font-family:\"Courier New\", Courier, monospace !important;font-weight:normal;color:#fff;background-color:#26ADE4;border-style:solid;border-width:1px;overflow:hidden;word-break:normal;border-color:#DCDCDC;}\n",
       ".tg .tg-left{font-family:\"Courier New\", Courier, monospace !important;font-weight:normal;text-align:left;}\n",
       ".tg .tg-center{font-family:\"Courier New\", Courier, monospace !important;font-weight:normal;text-align:center;}\n",
       ".tg .tg-right{font-family:\"Courier New\", Courier, monospace !important;font-weight:normal;text-align:right;}\n",
       "</style>\n",
       "<table class=\"tg\"><tr><th><b>  Mat52.     </b></th><th><b>        value</b></th><th><b>constraints</b></th><th><b>priors</b></th></tr>\n",
       "<tr><td class=tg-left>  variance   </td><td class=tg-right>4.73620962011</td><td class=tg-center>    +ve    </td><td class=tg-center>      </td></tr>\n",
       "<tr><td class=tg-left>  lengthscale</td><td class=tg-right>3.74571580095</td><td class=tg-center>    +ve    </td><td class=tg-center>      </td></tr>\n",
       "</table>"
      ],
      "text/plain": [
       "<GPy.kern.src.stationary.Matern52 at 0x7f3131d8ada0>"
      ]
     },
     "execution_count": 83,
     "metadata": {},
     "output_type": "execute_result"
    }
   ],
   "source": [
    " myBopt.model.model.Mat52 #length scale are the lambdas of the kernel, variance is the variance of the kernel like in the paper"
   ]
  },
  {
   "cell_type": "code",
   "execution_count": 84,
   "metadata": {},
   "outputs": [
    {
     "data": {
      "text/html": [
       "<style type=\"text/css\">\n",
       ".tg  {font-family:\"Courier New\", Courier, monospace !important;padding:2px 3px;word-break:normal;border-collapse:collapse;border-spacing:0;border-color:#DCDCDC;margin:0px auto;width:100%;}\n",
       ".tg td{font-family:\"Courier New\", Courier, monospace !important;font-weight:bold;color:#444;background-color:#F7FDFA;border-style:solid;border-width:1px;overflow:hidden;word-break:normal;border-color:#DCDCDC;}\n",
       ".tg th{font-family:\"Courier New\", Courier, monospace !important;font-weight:normal;color:#fff;background-color:#26ADE4;border-style:solid;border-width:1px;overflow:hidden;word-break:normal;border-color:#DCDCDC;}\n",
       ".tg .tg-left{font-family:\"Courier New\", Courier, monospace !important;font-weight:normal;text-align:left;}\n",
       ".tg .tg-center{font-family:\"Courier New\", Courier, monospace !important;font-weight:normal;text-align:center;}\n",
       ".tg .tg-right{font-family:\"Courier New\", Courier, monospace !important;font-weight:normal;text-align:right;}\n",
       "</style>\n",
       "<table class=\"tg\"><tr><th><b>  Gaussian_noise.</b></th><th><b>            value</b></th><th><b>  constraints  </b></th><th><b>priors</b></th></tr>\n",
       "<tr><td class=tg-left>  variance       </td><td class=tg-right>0.000509812040271</td><td class=tg-center>1e-09,1000000.0</td><td class=tg-center>      </td></tr>\n",
       "</table>"
      ],
      "text/plain": [
       "<GPy.likelihoods.gaussian.Gaussian at 0x7f313044e2e8>"
      ]
     },
     "execution_count": 84,
     "metadata": {},
     "output_type": "execute_result"
    }
   ],
   "source": [
    "myBopt.model.model.Gaussian_noise # the signal noise which is added to the kernel matrix"
   ]
  },
  {
   "cell_type": "code",
   "execution_count": 96,
   "metadata": {},
   "outputs": [
    {
     "data": {
      "text/plain": [
       "<matplotlib.axes._subplots.AxesSubplot at 0x7f31303a0a90>"
      ]
     },
     "execution_count": 96,
     "metadata": {},
     "output_type": "execute_result"
    },
    {
     "data": {
      "image/png": "[encoded data removed]",
      "text/plain": [
       "<matplotlib.figure.Figure at 0x7f3130438400>"
      ]
     },
     "metadata": {},
     "output_type": "display_data"
    }
   ],
   "source": [
    "myBopt.model.model.plot_samples()"
   ]
  },
  {
   "cell_type": "code",
   "execution_count": 97,
   "metadata": {},
   "outputs": [
    {
     "data": {
      "text/plain": [
       "<matplotlib.axes._subplots.AxesSubplot at 0x7f31237846d8>"
      ]
     },
     "execution_count": 97,
     "metadata": {},
     "output_type": "execute_result"
    },
    {
     "data": {
      "image/png": "[encoded data removed]",
      "text/plain": [
       "<matplotlib.figure.Figure at 0x7f31303c3080>"
      ]
     },
     "metadata": {},
     "output_type": "display_data"
    }
   ],
   "source": [
    "myBopt.model.model.plot()"
   ]
  },
  {
   "cell_type": "code",
   "execution_count": 98,
   "metadata": {},
   "outputs": [
    {
     "data": {
      "text/plain": [
       "<matplotlib.axes._subplots.AxesSubplot at 0x7f31236bd908>"
      ]
     },
     "execution_count": 98,
     "metadata": {},
     "output_type": "execute_result"
    },
    {
     "data": {
      "image/png": "[encoded data removed]",
      "text/plain": [
       "<matplotlib.figure.Figure at 0x7f31236e1b70>"
      ]
     },
     "metadata": {},
     "output_type": "display_data"
    }
   ],
   "source": [
    "myBopt.model.model.plot_mean()"
   ]
  },
  {
   "cell_type": "code",
   "execution_count": 100,
   "metadata": {},
   "outputs": [],
   "source": [
    "myBopt.model.model.mean_function"
   ]
  },
  {
   "cell_type": "code",
   "execution_count": 121,
   "metadata": {},
   "outputs": [],
   "source": [
    "# rebuild posterior\n",
    "# mean is set to zero?\n",
    "thetas, f_values = myBopt.get_evaluations()"
   ]
  },
  {
   "cell_type": "code",
   "execution_count": 138,
   "metadata": {},
   "outputs": [],
   "source": [
    "K = myBopt.model.model.kern.K(thetas)\n",
    "k = lambda x: myBopt.model.model.kern.K(x, thetas)"
   ]
  },
  {
   "cell_type": "code",
   "execution_count": 151,
   "metadata": {},
   "outputs": [
    {
     "data": {
      "text/plain": [
       "array([[ 4.47329154,  4.18353668,  2.66388073,  3.64012268,  3.2469205 ,\n",
       "         4.71871841,  1.81098851,  2.21342706,  4.53202788,  2.75866195,\n",
       "         2.29999126,  3.36171876,  3.32142063,  3.30873683,  3.39936454,\n",
       "         3.84125518,  3.41039334,  3.47419525,  2.97998486,  2.97116307,\n",
       "         3.63142409,  2.65876492,  3.11474732,  3.92854836,  3.32348525,\n",
       "         3.32114519,  3.31719795,  3.31004039,  3.29227638,  3.1494487 ,\n",
       "         3.14684034,  3.14117288,  3.13486267,  3.35011927,  3.37358909,\n",
       "         3.3900419 ,  3.36958673,  3.33789879,  3.21127641,  3.20480981]])"
      ]
     },
     "execution_count": 151,
     "metadata": {},
     "output_type": "execute_result"
    }
   ],
   "source": [
    "k(np.array([[1]]))"
   ]
  },
  {
   "cell_type": "code",
   "execution_count": 135,
   "metadata": {},
   "outputs": [
    {
     "data": {
      "text/plain": [
       "[\u001b[1mGP_regression.Mat52.variance\u001b[0;0m:\n",
       " Param([ 4.73620962]), \u001b[1mGP_regression.Mat52.lengthscale\u001b[0;0m:\n",
       " Param([ 3.7457158])]"
      ]
     },
     "execution_count": 135,
     "metadata": {},
     "output_type": "execute_result"
    }
   ],
   "source": [
    "myBopt.model.model.kern.K_of_r"
   ]
  },
  {
   "cell_type": "code",
   "execution_count": 157,
   "metadata": {},
   "outputs": [],
   "source": [
    "def mu_t(theta):\n",
    "    return np.dot(k(theta), np.dot(np.linalg.inv(K), f_values))"
   ]
  },
  {
   "cell_type": "code",
   "execution_count": 182,
   "metadata": {},
   "outputs": [
    {
     "data": {
      "text/plain": [
       "array([[ 5.8125],\n",
       "       [ 4.625 ]])"
      ]
     },
     "execution_count": 182,
     "metadata": {},
     "output_type": "execute_result"
    }
   ],
   "source": [
    "mu_t(np.array([[1],[2]])) "
   ]
  },
  {
   "cell_type": "code",
   "execution_count": 163,
   "metadata": {},
   "outputs": [],
   "source": [
    "def v_t(theta):\n",
    "    return myBopt.model.model.kern.K(theta,theta) - np.dot(k(theta), np.dot(np.linalg.inv(K), k(theta).T))"
   ]
  },
  {
   "cell_type": "code",
   "execution_count": 183,
   "metadata": {},
   "outputs": [
    {
     "data": {
      "text/plain": [
       "array([[-0.55856139, -1.7411837 ],\n",
       "       [-0.91875912, -2.42339613]])"
      ]
     },
     "execution_count": 183,
     "metadata": {},
     "output_type": "execute_result"
    }
   ],
   "source": [
    "v_t(np.array([[1],[2]]))"
   ]
  },
  {
   "cell_type": "code",
   "execution_count": 165,
   "metadata": {},
   "outputs": [],
   "source": [
    "J_t = lambda x: mu_t(x)"
   ]
  },
  {
   "cell_type": "code",
   "execution_count": 198,
   "metadata": {},
   "outputs": [],
   "source": [
    "L_ut = lambda x, h: ss.norm.cdf((h-mu_t(x)) / np.sqrt(v_t(x) + myBopt.model.model.kern.variance))"
   ]
  },
  {
   "cell_type": "code",
   "execution_count": 235,
   "metadata": {},
   "outputs": [],
   "source": [
    "x = np.linspace(-5,5,(5-(-5)) * 30)\n",
    "x = x.reshape(x.shape[0], 1)\n",
    "y = np.array([L_ut(np.array([x]), 1) for x in x]).flatten()\n",
    "indices = np.isnan(y)\n",
    "y = y[~indices]\n",
    "x = x[~indices]"
   ]
  },
  {
   "cell_type": "code",
   "execution_count": 237,
   "metadata": {},
   "outputs": [
    {
     "data": {
      "text/plain": [
       "array([ 3.9632107])"
      ]
     },
     "execution_count": 237,
     "metadata": {},
     "output_type": "execute_result"
    }
   ],
   "source": [
    "x[np.argmax(y)]"
   ]
  },
  {
   "cell_type": "code",
   "execution_count": 236,
   "metadata": {},
   "outputs": [
    {
     "data": {
      "image/png": "[encoded data removed]",
      "text/plain": [
       "<matplotlib.figure.Figure at 0x7f3122d01978>"
      ]
     },
     "metadata": {},
     "output_type": "display_data"
    }
   ],
   "source": [
    "plt.plot(x,y)\n",
    "plt.show()"
   ]
  }
 ],
 "metadata": {
  "kernelspec": {
   "display_name": "Python [conda env:elfi]",
   "language": "python",
   "name": "conda-env-elfi-py"
  },
  "language_info": {
   "codemirror_mode": {
    "name": "ipython",
    "version": 3
   },
   "file_extension": ".py",
   "mimetype": "text/x-python",
   "name": "python",
   "nbconvert_exporter": "python",
   "pygments_lexer": "ipython3",
   "version": "3.5.4"
  }
 },
 "nbformat": 4,
 "nbformat_minor": 2
}
