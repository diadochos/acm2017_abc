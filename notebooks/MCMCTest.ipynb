{
 "cells": [
  {
   "cell_type": "code",
   "execution_count": 1,
   "metadata": {
    "collapsed": false,
    "scrolled": false
   },
   "outputs": [],
   "source": [
    "import os\n",
    "import sys\n",
    "sys.path.append(os.path.abspath(os.path.join('..')))\n",
    "import pyabc\n",
    "import numpy as np\n",
    "import matplotlib.pyplot as plt\n",
    "from pyabc.utils import plot_marginals\n",
    "%matplotlib inline"
   ]
  },
  {
   "cell_type": "code",
   "execution_count": 2,
   "metadata": {
    "collapsed": true
   },
   "outputs": [],
   "source": [
    "prior_lambda = pyabc.Prior('gamma', 0.1, 0, 1/0.1, name=r'$\\lambda$') \n",
    " \n",
    "def simulator(ld): \n",
    "    return np.random.exponential(abs(ld), 30) \n",
    "\n",
    "def summary_mean(X): \n",
    "    return np.mean(X) "
   ]
  },
  {
   "cell_type": "code",
   "execution_count": 3,
   "metadata": {
    "collapsed": true
   },
   "outputs": [],
   "source": [
    "#observation \n",
    "# Set the generating parameters that we will try to infer \n",
    "ld0 = 0.1\n",
    "\n",
    "# Generate some data (using a fixed seed here) \n",
    "np.random.seed(20170525) \n",
    "y0 = simulator(ld0) "
   ]
  },
  {
   "cell_type": "code",
   "execution_count": 12,
   "metadata": {
    "collapsed": false
   },
   "outputs": [
    {
     "name": "stdout",
     "output_type": "stream",
     "text": [
      "MCMC sampler started with threshold: 0.01 and number of samples: 5000\n",
      "Rejection sampler started with threshold: 0.01 and number of samples: 1\n",
      "Samples:   5000 - Threshold: 0.01 - Iterations:         10 - Acceptance rate: 500.000000 - Time:     2.05 s\n"
     ]
    },
    {
     "data": {
      "image/png": "[encoded data removed]",
      "text/plain": [
       "<matplotlib.figure.Figure at 0x10fe92550>"
      ]
     },
     "metadata": {},
     "output_type": "display_data"
    },
    {
     "name": "stdout",
     "output_type": "stream",
     "text": [
      "0.194972025693\n"
     ]
    }
   ],
   "source": [
    "mcmcSampler = pyabc.MCMCSampler(priors = [prior_lambda], simulator = simulator, observation = y0, summaries = [summary_mean])\n",
    "mcmcSampler.sample(threshold = 0.01, nr_samples = 5000, step_size = 0.001)\n",
    "mcmcSampler.Thetas\n",
    "\n",
    "plot_marginals(mcmcSampler)\n",
    "\n",
    "print(np.median(mcmcSampler.Thetas))"
   ]
  },
  {
   "cell_type": "code",
   "execution_count": 5,
   "metadata": {
    "collapsed": false
   },
   "outputs": [
    {
     "name": "stdout",
     "output_type": "stream",
     "text": [
      "Rejection sampler started with threshold: 0.01 and number of samples: 5000\n",
      "Samples:   5000 - Threshold: 0.01 - Iterations:       5000 - Acceptance rate: 1.000000 - Time:     0.26 s\n"
     ]
    }
   ],
   "source": [
    "rejSampler = pyabc.RejectionSampler(priors = [prior_lambda], simulator = simulator, observation = y0, summaries = [summary_mean])\n",
    "rejSampler.sample(threshold = 0.01, nr_samples = 5000)"
   ]
  }
 ],
 "metadata": {
  "kernelspec": {
   "display_name": "Python(ABC)",
   "language": "python",
   "name": "pyabc"
  },
  "language_info": {
   "codemirror_mode": {
    "name": "ipython",
    "version": 3
   },
   "file_extension": ".py",
   "mimetype": "text/x-python",
   "name": "python",
   "nbconvert_exporter": "python",
   "pygments_lexer": "ipython3",
   "version": "3.6.0"
  }
 },
 "nbformat": 4,
 "nbformat_minor": 2
}
