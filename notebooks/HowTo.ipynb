{
 "cells": [
  {
   "cell_type": "code",
   "execution_count": 1,
   "metadata": {},
   "outputs": [],
   "source": [
    "import numpy as np\n",
    "import sys\n",
    "import os\n",
    "sys.path.append(os.path.abspath(os.path.join('..')))\n",
    "import pyabc"
   ]
  },
  {
   "cell_type": "markdown",
   "metadata": {
    "collapsed": true
   },
   "source": [
    "# Use of RejectionSampler"
   ]
  },
  {
   "cell_type": "code",
   "execution_count": 2,
   "metadata": {
    "collapsed": true
   },
   "outputs": [],
   "source": [
    "# before you can use the class, you need all necessary functions like prior, simulator, summaries and observation"
   ]
  },
  {
   "cell_type": "code",
   "execution_count": 3,
   "metadata": {
    "collapsed": true
   },
   "outputs": [],
   "source": [
    "def prior_mu(): \n",
    "    return np.random.uniform(-2,2) \n",
    " \n",
    "def prior_sigma(): \n",
    "    return np.random.uniform(1,5) \n",
    "\n",
    "def simulator(mu, sigma): \n",
    "    return np.random.normal(mu, sigma, 30) \n",
    "\n",
    "def summary_mean(X): \n",
    "    return np.mean(X) \n",
    " \n",
    "def summary_var(X): \n",
    "    return np.var(X) "
   ]
  },
  {
   "cell_type": "code",
   "execution_count": 4,
   "metadata": {
    "collapsed": true
   },
   "outputs": [],
   "source": [
    "#observation \n",
    "# Set the generating parameters that we will try to infer \n",
    "mean0 = 1 \n",
    "std0 = 3 \n",
    "\n",
    "# Generate some data (using a fixed seed here) \n",
    "np.random.seed(20170525) \n",
    "y0 = simulator(mean0, std0) "
   ]
  },
  {
   "cell_type": "code",
   "execution_count": 5,
   "metadata": {},
   "outputs": [
    {
     "name": "stdout",
     "output_type": "stream",
     "text": [
      "[ 3.7990926   1.49411834  0.90999905  2.46088006 -0.10696721  0.80490023\n",
      "  0.7413415  -5.07258261  0.89397268  3.55462229  0.45888389 -3.31930036\n",
      " -0.55378741  3.00865492  1.59394854 -3.37065996  5.03883749 -2.73279084\n",
      "  6.10128027  5.09388631  1.90079255 -1.7161259   3.86821266  0.4963219\n",
      "  1.64594033 -2.51620566 -0.83601666  2.68225112  2.75598375 -6.02538356]\n",
      "0.768470010787\n",
      "8.64433398458\n"
     ]
    }
   ],
   "source": [
    "print(y0) \n",
    "print(summary_mean(y0)) \n",
    "print(summary_var(y0)) "
   ]
  },
  {
   "cell_type": "code",
   "execution_count": 6,
   "metadata": {},
   "outputs": [
    {
     "name": "stdout",
     "output_type": "stream",
     "text": [
      "geht nicht\n"
     ]
    }
   ],
   "source": [
    "# of course you canno use class without constructor now\n",
    "try:\n",
    "    rej = RejectionSampler()\n",
    "except:\n",
    "    print(\"geht nicht\")\n",
    "    \n",
    "rej_samp = pyabc.RejectionSampler(priors=[prior_mu, prior_sigma], simulator=simulator, summaries=[summary_var, summary_mean], observation=y0) \n"
   ]
  },
  {
   "cell_type": "code",
   "execution_count": 7,
   "metadata": {},
   "outputs": [
    {
     "name": "stdout",
     "output_type": "stream",
     "text": [
      "Rejection sampler started with threshold: 0.5 and number of samples: 500\n",
      "Samples:    500 - Threshold: 0.50 - Iterations:      58260 - Time:     5.41 s\n"
     ]
    }
   ],
   "source": [
    "rej_samp.sample(0.5, 500) "
   ]
  },
  {
   "cell_type": "code",
   "execution_count": 8,
   "metadata": {},
   "outputs": [
    {
     "data": {
      "image/png": "[encoded data removed]",
      "text/plain": [
       "<matplotlib.figure.Figure at 0x7fe7b67f0a20>"
      ]
     },
     "metadata": {},
     "output_type": "display_data"
    }
   ],
   "source": [
    "rej_samp.plot_marginals([\"mu\", \"sigma\"])"
   ]
  }
 ],
 "metadata": {
  "kernelspec": {
   "display_name": "Python [conda env:elfi]",
   "language": "python",
   "name": "conda-env-elfi-py"
  },
  "language_info": {
   "codemirror_mode": {
    "name": "ipython",
    "version": 3
   },
   "file_extension": ".py",
   "mimetype": "text/x-python",
   "name": "python",
   "nbconvert_exporter": "python",
   "pygments_lexer": "ipython3",
   "version": "3.5.4"
  }
 },
 "nbformat": 4,
 "nbformat_minor": 1
}
