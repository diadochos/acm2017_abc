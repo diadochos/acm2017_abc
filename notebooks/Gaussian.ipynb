{
 "cells": [
  {
   "cell_type": "code",
   "execution_count": null,
   "metadata": {
    "collapsed": true
   },
   "outputs": [],
   "source": [
    "import os\n",
    "import sys\n",
    "sys.path.append(os.path.abspath(os.path.join('..')))\n",
    "import pyabc\n",
    "import numpy as np\n",
    "import elfi # install cython -> conda install cython to avoid fallback to numpy\n",
    "import scipy.stats as ss\n",
    "import pylab as plt\n",
    "from pyabc.plots import plot_marginals\n",
    "%matplotlib notebook"
   ]
  },
  {
   "cell_type": "markdown",
   "metadata": {},
   "source": [
    "### The simulation model"
   ]
  },
  {
   "cell_type": "code",
   "execution_count": null,
   "metadata": {
    "collapsed": true
   },
   "outputs": [],
   "source": [
    "def simulator(mu, sigma, batch_size=1, random_state=None):\n",
    "    mu, sigma = np.atleast_1d(mu, sigma)\n",
    "    return ss.norm.rvs(mu[:, None], sigma[:, None], size=(batch_size, 30), random_state=random_state)\n",
    "\n",
    "def mean(y):\n",
    "    return np.mean(y, axis=1)\n",
    "\n",
    "def var(y):\n",
    "    return np.var(y, axis=1)"
   ]
  },
  {
   "cell_type": "markdown",
   "metadata": {},
   "source": [
    "### Observed data"
   ]
  },
  {
   "cell_type": "code",
   "execution_count": null,
   "metadata": {
    "collapsed": false
   },
   "outputs": [],
   "source": [
    "# Set the generating parameters that we will try to infer\n",
    "mean0 = 1\n",
    "std0 = 3\n",
    "\n",
    "# Generate some data (using a fixed seed here)\n",
    "np.random.seed(20170525)\n",
    "y0 = simulator(mean0, std0)\n",
    "print(y0)"
   ]
  },
  {
   "cell_type": "markdown",
   "metadata": {},
   "source": [
    "### Own class"
   ]
  },
  {
   "cell_type": "code",
   "execution_count": null,
   "metadata": {
    "collapsed": true
   },
   "outputs": [],
   "source": [
    "# setup\n",
    "mu = pyabc.Prior('unif', -2,4, name=\"mu\")\n",
    "sigma = pyabc.Prior('unif', 1,4, name=\"sigma\")\n",
    "\n",
    "rej_samp = pyabc.RejectionSampler(\n",
    "    priors=[mu, sigma], \n",
    "    simulator=simulator, \n",
    "    summaries=[mean, var],\n",
    "    observation=y0\n",
    ")\n",
    "\n",
    "\n",
    "smc_samp = pyabc.SMCSampler(\n",
    "    priors=[mu, sigma], \n",
    "    simulator=simulator, \n",
    "    summaries=[mean, var],\n",
    "    observation=y0\n",
    ")\n",
    "\n",
    "mcmc_samp = pyabc.MCMCSampler(\n",
    "    priors=[mu, sigma], \n",
    "    simulator=simulator, \n",
    "    summaries=[mean, var],\n",
    "    observation=y0\n",
    ")\n",
    "\n",
    "\n",
    "abcde_samp = pyabc.ABCDESampler(\n",
    "    priors=[mu, sigma], \n",
    "    simulator=simulator, \n",
    "    summaries=[mean, var],\n",
    "    observation=y0\n",
    ")"
   ]
  },
  {
   "cell_type": "code",
   "execution_count": null,
   "metadata": {
    "collapsed": false
   },
   "outputs": [],
   "source": [
    "rej_samp.sample(nr_samples=100, threshold=.1)"
   ]
  },
  {
   "cell_type": "code",
   "execution_count": null,
   "metadata": {
    "collapsed": false,
    "scrolled": true
   },
   "outputs": [],
   "source": [
    "smc_samp.sample(nr_samples=100, thresholds= [5,1,.5,.1])"
   ]
  },
  {
   "cell_type": "code",
   "execution_count": null,
   "metadata": {
    "collapsed": false
   },
   "outputs": [],
   "source": [
    "mcmc_samp.sample(nr_samples=100, threshold= .1, step_size = [1,1])"
   ]
  },
  {
   "cell_type": "code",
   "execution_count": null,
   "metadata": {
    "collapsed": false
   },
   "outputs": [],
   "source": [
    "abcde_samp.sample(nr_samples=100, nr_groups = 10, nr_iter = 200, burn_in = 100, alpha = 0.1, beta = 0.1, kappa = 0.9)"
   ]
  },
  {
   "cell_type": "code",
   "execution_count": null,
   "metadata": {
    "collapsed": true
   },
   "outputs": [],
   "source": [
    "bolfi.sample(nr_samples=10000, threshold=0.01, n_chains=10)"
   ]
  },
  {
   "cell_type": "code",
   "execution_count": null,
   "metadata": {
    "collapsed": false
   },
   "outputs": [],
   "source": [
    "plot_marginals(rej_samp, kde=True, normed=True)\n",
    "plot_marginals(mcmc_samp, kde=True, normed=True)\n",
    "plot_marginals(smc_samp, kde=True, normed=True)\n",
    "plot_marginals(abcde_samp, kde=True, normed=True)\n",
    "plot_marginals(bolfi, kde=True, normed=True)"
   ]
  },
  {
   "cell_type": "markdown",
   "metadata": {},
   "source": [
    "## ELFI"
   ]
  },
  {
   "cell_type": "code",
   "execution_count": null,
   "metadata": {
    "collapsed": true
   },
   "outputs": [],
   "source": [
    "# Prior\n",
    "elfi.new_model() # important to reset, otherwise rerun the code will produce two nodes for S1, S2 and so on\n",
    "mu = elfi.Prior('uniform', -2, 4)\n",
    "sigma = elfi.Prior('uniform', 1, 4)\n",
    "\n",
    "# Add the simulator node and observed data to the model\n",
    "sim = elfi.Simulator(simulator, mu, sigma, observed=y0)\n",
    "\n",
    "# Add summary statistics to the model\n",
    "S1 = elfi.Summary(mean, sim, name=\"mean\")\n",
    "S2 = elfi.Summary(var, sim, name=\"var\")\n",
    "\n",
    "# Specify distance as euclidean between summary vectors (S1, S2) from simulated and\n",
    "# observed data\n",
    "d = elfi.Distance('euclidean', S1, S2)"
   ]
  },
  {
   "cell_type": "code",
   "execution_count": null,
   "metadata": {
    "collapsed": false
   },
   "outputs": [],
   "source": [
    "# Plot the complete model (requires graphviz)\n",
    "elfi.draw(d)"
   ]
  },
  {
   "cell_type": "code",
   "execution_count": null,
   "metadata": {
    "collapsed": false
   },
   "outputs": [],
   "source": [
    "rej = elfi.Rejection(d, batch_size=10000, seed=30052017)\n",
    "%time res = rej.sample(1000, threshold=.5)\n",
    "print(res)"
   ]
  },
  {
   "cell_type": "code",
   "execution_count": null,
   "metadata": {
    "collapsed": false
   },
   "outputs": [],
   "source": [
    "res.plot_marginals()"
   ]
  }
 ],
 "metadata": {
  "kernelspec": {
   "display_name": "Python(ABC)",
   "language": "python",
   "name": "pyabc"
  },
  "language_info": {
   "codemirror_mode": {
    "name": "ipython",
    "version": 3
   },
   "file_extension": ".py",
   "mimetype": "text/x-python",
   "name": "python",
   "nbconvert_exporter": "python",
   "pygments_lexer": "ipython3",
   "version": "3.6.0"
  }
 },
 "nbformat": 4,
 "nbformat_minor": 1
}
