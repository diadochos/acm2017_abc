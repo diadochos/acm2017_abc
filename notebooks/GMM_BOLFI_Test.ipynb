{
 "cells": [
  {
   "cell_type": "markdown",
   "metadata": {},
   "source": [
    "# Mixture of 2 Gaussians\n",
    "Let's consider an example, where the likelihood is a mixture of two Gaussians with a common mean $\\theta$, equal weights and different (fixed) variances:\n",
    "\n",
    "$$f(x | \\theta) = 0.5 * \\mathcal{N}(x | \\theta, 1) + 0.5 * \\mathcal{N}(x | \\theta, 0.01)$$\n",
    "\n",
    "and the prior is uniform: $p(\\theta) = \\mathcal{U}(-10, 10)$\n",
    "\n",
    "The posterior is then given as:"
   ]
  },
  {
   "cell_type": "code",
   "execution_count": 1,
   "metadata": {},
   "outputs": [],
   "source": [
    "import scipy.stats as ss\n",
    "import matplotlib.pyplot as plt\n",
    "import numpy as np\n",
    "import os\n",
    "import sys\n",
    "sys.path.append(os.path.abspath(os.path.join('..')))\n",
    "import pyabc\n",
    "from pyabc.plots import plot_marginals\n",
    "\n",
    "%matplotlib notebook"
   ]
  },
  {
   "cell_type": "code",
   "execution_count": 2,
   "metadata": {},
   "outputs": [
    {
     "data": {
      "image/png": "[encoded data removed]",
      "text/plain": [
       "<matplotlib.figure.Figure at 0x7f9afd49c828>"
      ]
     },
     "metadata": {},
     "output_type": "display_data"
    }
   ],
   "source": [
    "def posterior(mu):\n",
    "    return 0.5 * ss.norm.pdf(mu, 0, 1) + 0.5 * ss.norm.pdf(mu, 0, 0.1)\n",
    "\n",
    "x = np.linspace(-3, 3, 100)\n",
    "plt.figure()\n",
    "plt.plot(x, posterior(x))\n",
    "plt.xlim((-3,3))\n",
    "plt.ylim((0,3))\n",
    "plt.show()"
   ]
  },
  {
   "cell_type": "markdown",
   "metadata": {},
   "source": [
    "In the ABC setting, drawing from the posterior, can be realized by sampling from the standard normal distribution and then using the following distance function:"
   ]
  },
  {
   "cell_type": "code",
   "execution_count": 3,
   "metadata": {},
   "outputs": [],
   "source": [
    "prior = pyabc.Prior('uniform', -10, 20, name='mu')\n",
    "prior.sample()\n",
    "\n",
    "def simulator(mu):\n",
    "    return np.random.normal(mu, 1, size=100)\n",
    "\n",
    "summary = lambda x: x\n",
    "    \n",
    "def rho(y, x):\n",
    "    if np.random.rand() < 0.5:\n",
    "        #print(np.abs(x.mean()))\n",
    "        rho = np.abs(x.mean())\n",
    "    else:\n",
    "        #print(np.abs(x[0]))\n",
    "        rho = np.abs(x[0])\n",
    "    return rho\n",
    "\n",
    "y0 = np.array([0.])"
   ]
  },
  {
   "cell_type": "markdown",
   "metadata": {},
   "source": [
    "## Rejection-ABC"
   ]
  },
  {
   "cell_type": "code",
   "execution_count": 4,
   "metadata": {},
   "outputs": [
    {
     "name": "stdout",
     "output_type": "stream",
     "text": [
      "Rejection sampler started with threshold: 0.025 and number of samples: 1000\n",
      "Samples:   1000 - Threshold: 0.0250 - Iterations:     391000 - Acceptance rate: 0.002558 - Time:    12.05 s\n"
     ]
    }
   ],
   "source": [
    "rej = pyabc.RejectionSampler(priors=[prior], simulator=simulator, \n",
    "                             summaries=[summary], distance=rho,\n",
    "                             observation=y0)\n",
    "\n",
    "rej.sample(nr_samples=1000, threshold=0.025)"
   ]
  },
  {
   "cell_type": "code",
   "execution_count": 5,
   "metadata": {},
   "outputs": [
    {
     "data": {
      "text/plain": [
       "<matplotlib.legend.Legend at 0x7f9af4b7eac8>"
      ]
     },
     "execution_count": 5,
     "metadata": {},
     "output_type": "execute_result"
    },
    {
     "data": {
      "image/png": "[encoded data removed]",
      "text/plain": [
       "<matplotlib.figure.Figure at 0x7f9b241ce2e8>"
      ]
     },
     "metadata": {},
     "output_type": "display_data"
    }
   ],
   "source": [
    "plot_marginals(rej, xlim=[(-3,3)], ylim=(0,3), kde=False)\n",
    "plt.plot(x, posterior(x), label='true posterior')\n",
    "plt.legend()"
   ]
  },
  {
   "cell_type": "markdown",
   "metadata": {},
   "source": [
    "## MCMC-ABC"
   ]
  },
  {
   "cell_type": "code",
   "execution_count": 6,
   "metadata": {},
   "outputs": [
    {
     "name": "stdout",
     "output_type": "stream",
     "text": [
      "MCMC sampler started with threshold: 0.025 and number of samples: 1000\n",
      "Samples:   1000 - Threshold: 0.0250 - Iterations:      37661 - Acceptance rate: 0.026553 - Time:    26.60 s\n"
     ]
    }
   ],
   "source": [
    "mcmc = pyabc.MCMCSampler(priors=[prior], simulator=simulator, \n",
    "                         summaries=[summary], distance=rho,\n",
    "                         observation=y0)\n",
    "mcmc.sample(nr_samples=1_000, threshold=0.025, step_size=[0.15**2])"
   ]
  },
  {
   "cell_type": "code",
   "execution_count": 7,
   "metadata": {},
   "outputs": [
    {
     "data": {
      "application/javascript": [
       "/* Put everything inside the global mpl namespace */\n",
       "window.mpl = {};\n",
       "\n",
       "\n",
       "mpl.get_websocket_type = function() {\n",
       "    if (typeof(WebSocket) !== 'undefined') {\n",
       "        return WebSocket;\n",
       "    } else if (typeof(MozWebSocket) !== 'undefined') {\n",
       "        return MozWebSocket;\n",
       "    } else {\n",
       "        alert('Your browser does not have WebSocket support.' +\n",
       "              'Please try Chrome, Safari or Firefox ≥ 6. ' +\n",
       "              'Firefox 4 and 5 are also supported but you ' +\n",
       "              'have to enable WebSockets in about:config.');\n",
       "    };\n",
       "}\n",
       "\n",
       "mpl.figure = function(figure_id, websocket, ondownload, parent_element) {\n",
       "    this.id = figure_id;\n",
       "\n",
       "    this.ws = websocket;\n",
       "\n",
       "    this.supports_binary = (this.ws.binaryType != undefined);\n",
       "\n",
       "    if (!this.supports_binary) {\n",
       "        var warnings = document.getElementById(\"mpl-warnings\");\n",
       "        if (warnings) {\n",
       "            warnings.style.display = 'block';\n",
       "            warnings.textContent = (\n",
       "                \"This browser does not support binary websocket messages. \" +\n",
       "                    \"Performance may be slow.\");\n",
       "        }\n",
       "    }\n",
       "\n",
       "    this.imageObj = new Image();\n",
       "\n",
       "    this.context = undefined;\n",
       "    this.message = undefined;\n",
       "    this.canvas = undefined;\n",
       "    this.rubberband_canvas = undefined;\n",
       "    this.rubberband_context = undefined;\n",
       "    this.format_dropdown = undefined;\n",
       "\n",
       "    this.image_mode = 'full';\n",
       "\n",
       "    this.root = $('<div/>');\n",
       "    this._root_extra_style(this.root)\n",
       "    this.root.attr('style', 'display: inline-block');\n",
       "\n",
       "    $(parent_element).append(this.root);\n",
       "\n",
       "    this._init_header(this);\n",
       "    this._init_canvas(this);\n",
       "    this._init_toolbar(this);\n",
       "\n",
       "    var fig = this;\n",
       "\n",
       "    this.waiting = false;\n",
       "\n",
       "    this.ws.onopen =  function () {\n",
       "            fig.send_message(\"supports_binary\", {value: fig.supports_binary});\n",
       "            fig.send_message(\"send_image_mode\", {});\n",
       "            if (mpl.ratio != 1) {\n",
       "                fig.send_message(\"set_dpi_ratio\", {'dpi_ratio': mpl.ratio});\n",
       "            }\n",
       "            fig.send_message(\"refresh\", {});\n",
       "        }\n",
       "\n",
       "    this.imageObj.onload = function() {\n",
       "            if (fig.image_mode == 'full') {\n",
       "                // Full images could contain transparency (where diff images\n",
       "                // almost always do), so we need to clear the canvas so that\n",
       "                // there is no ghosting.\n",
       "                fig.context.clearRect(0, 0, fig.canvas.width, fig.canvas.height);\n",
       "            }\n",
       "            fig.context.drawImage(fig.imageObj, 0, 0);\n",
       "        };\n",
       "\n",
       "    this.imageObj.onunload = function() {\n",
       "        fig.ws.close();\n",
       "    }\n",
       "\n",
       "    this.ws.onmessage = this._make_on_message_function(this);\n",
       "\n",
       "    this.ondownload = ondownload;\n",
       "}\n",
       "\n",
       "mpl.figure.prototype._init_header = function() {\n",
       "    var titlebar = $(\n",
       "        '<div class=\"ui-dialog-titlebar ui-widget-header ui-corner-all ' +\n",
       "        'ui-helper-clearfix\"/>');\n",
       "    var titletext = $(\n",
       "        '<div class=\"ui-dialog-title\" style=\"width: 100%; ' +\n",
       "        'text-align: center; padding: 3px;\"/>');\n",
       "    titlebar.append(titletext)\n",
       "    this.root.append(titlebar);\n",
       "    this.header = titletext[0];\n",
       "}\n",
       "\n",
       "\n",
       "\n",
       "mpl.figure.prototype._canvas_extra_style = function(canvas_div) {\n",
       "\n",
       "}\n",
       "\n",
       "\n",
       "mpl.figure.prototype._root_extra_style = function(canvas_div) {\n",
       "\n",
       "}\n",
       "\n",
       "mpl.figure.prototype._init_canvas = function() {\n",
       "    var fig = this;\n",
       "\n",
       "    var canvas_div = $('<div/>');\n",
       "\n",
       "    canvas_div.attr('style', 'position: relative; clear: both; outline: 0');\n",
       "\n",
       "    function canvas_keyboard_event(event) {\n",
       "        return fig.key_event(event, event['data']);\n",
       "    }\n",
       "\n",
       "    canvas_div.keydown('key_press', canvas_keyboard_event);\n",
       "    canvas_div.keyup('key_release', canvas_keyboard_event);\n",
       "    this.canvas_div = canvas_div\n",
       "    this._canvas_extra_style(canvas_div)\n",
       "    this.root.append(canvas_div);\n",
       "\n",
       "    var canvas = $('<canvas/>');\n",
       "    canvas.addClass('mpl-canvas');\n",
       "    canvas.attr('style', \"left: 0; top: 0; z-index: 0; outline: 0\")\n",
       "\n",
       "    this.canvas = canvas[0];\n",
       "    this.context = canvas[0].getContext(\"2d\");\n",
       "\n",
       "    var backingStore = this.context.backingStorePixelRatio ||\n",
       "\tthis.context.webkitBackingStorePixelRatio ||\n",
       "\tthis.context.mozBackingStorePixelRatio ||\n",
       "\tthis.context.msBackingStorePixelRatio ||\n",
       "\tthis.context.oBackingStorePixelRatio ||\n",
       "\tthis.context.backingStorePixelRatio || 1;\n",
       "\n",
       "    mpl.ratio = (window.devicePixelRatio || 1) / backingStore;\n",
       "\n",
       "    var rubberband = $('<canvas/>');\n",
       "    rubberband.attr('style', \"position: absolute; left: 0; top: 0; z-index: 1;\")\n",
       "\n",
       "    var pass_mouse_events = true;\n",
       "\n",
       "    canvas_div.resizable({\n",
       "        start: function(event, ui) {\n",
       "            pass_mouse_events = false;\n",
       "        },\n",
       "        resize: function(event, ui) {\n",
       "            fig.request_resize(ui.size.width, ui.size.height);\n",
       "        },\n",
       "        stop: function(event, ui) {\n",
       "            pass_mouse_events = true;\n",
       "            fig.request_resize(ui.size.width, ui.size.height);\n",
       "        },\n",
       "    });\n",
       "\n",
       "    function mouse_event_fn(event) {\n",
       "        if (pass_mouse_events)\n",
       "            return fig.mouse_event(event, event['data']);\n",
       "    }\n",
       "\n",
       "    rubberband.mousedown('button_press', mouse_event_fn);\n",
       "    rubberband.mouseup('button_release', mouse_event_fn);\n",
       "    // Throttle sequential mouse events to 1 every 20ms.\n",
       "    rubberband.mousemove('motion_notify', mouse_event_fn);\n",
       "\n",
       "    rubberband.mouseenter('figure_enter', mouse_event_fn);\n",
       "    rubberband.mouseleave('figure_leave', mouse_event_fn);\n",
       "\n",
       "    canvas_div.on(\"wheel\", function (event) {\n",
       "        event = event.originalEvent;\n",
       "        event['data'] = 'scroll'\n",
       "        if (event.deltaY < 0) {\n",
       "            event.step = 1;\n",
       "        } else {\n",
       "            event.step = -1;\n",
       "        }\n",
       "        mouse_event_fn(event);\n",
       "    });\n",
       "\n",
       "    canvas_div.append(canvas);\n",
       "    canvas_div.append(rubberband);\n",
       "\n",
       "    this.rubberband = rubberband;\n",
       "    this.rubberband_canvas = rubberband[0];\n",
       "    this.rubberband_context = rubberband[0].getContext(\"2d\");\n",
       "    this.rubberband_context.strokeStyle = \"#000000\";\n",
       "\n",
       "    this._resize_canvas = function(width, height) {\n",
       "        // Keep the size of the canvas, canvas container, and rubber band\n",
       "        // canvas in synch.\n",
       "        canvas_div.css('width', width)\n",
       "        canvas_div.css('height', height)\n",
       "\n",
       "        canvas.attr('width', width * mpl.ratio);\n",
       "        canvas.attr('height', height * mpl.ratio);\n",
       "        canvas.attr('style', 'width: ' + width + 'px; height: ' + height + 'px;');\n",
       "\n",
       "        rubberband.attr('width', width);\n",
       "        rubberband.attr('height', height);\n",
       "    }\n",
       "\n",
       "    // Set the figure to an initial 600x600px, this will subsequently be updated\n",
       "    // upon first draw.\n",
       "    this._resize_canvas(600, 600);\n",
       "\n",
       "    // Disable right mouse context menu.\n",
       "    $(this.rubberband_canvas).bind(\"contextmenu\",function(e){\n",
       "        return false;\n",
       "    });\n",
       "\n",
       "    function set_focus () {\n",
       "        canvas.focus();\n",
       "        canvas_div.focus();\n",
       "    }\n",
       "\n",
       "    window.setTimeout(set_focus, 100);\n",
       "}\n",
       "\n",
       "mpl.figure.prototype._init_toolbar = function() {\n",
       "    var fig = this;\n",
       "\n",
       "    var nav_element = $('<div/>')\n",
       "    nav_element.attr('style', 'width: 100%');\n",
       "    this.root.append(nav_element);\n",
       "\n",
       "    // Define a callback function for later on.\n",
       "    function toolbar_event(event) {\n",
       "        return fig.toolbar_button_onclick(event['data']);\n",
       "    }\n",
       "    function toolbar_mouse_event(event) {\n",
       "        return fig.toolbar_button_onmouseover(event['data']);\n",
       "    }\n",
       "\n",
       "    for(var toolbar_ind in mpl.toolbar_items) {\n",
       "        var name = mpl.toolbar_items[toolbar_ind][0];\n",
       "        var tooltip = mpl.toolbar_items[toolbar_ind][1];\n",
       "        var image = mpl.toolbar_items[toolbar_ind][2];\n",
       "        var method_name = mpl.toolbar_items[toolbar_ind][3];\n",
       "\n",
       "        if (!name) {\n",
       "            // put a spacer in here.\n",
       "            continue;\n",
       "        }\n",
       "        var button = $('<button/>');\n",
       "        button.addClass('ui-button ui-widget ui-state-default ui-corner-all ' +\n",
       "                        'ui-button-icon-only');\n",
       "        button.attr('role', 'button');\n",
       "        button.attr('aria-disabled', 'false');\n",
       "        button.click(method_name, toolbar_event);\n",
       "        button.mouseover(tooltip, toolbar_mouse_event);\n",
       "\n",
       "        var icon_img = $('<span/>');\n",
       "        icon_img.addClass('ui-button-icon-primary ui-icon');\n",
       "        icon_img.addClass(image);\n",
       "        icon_img.addClass('ui-corner-all');\n",
       "\n",
       "        var tooltip_span = $('<span/>');\n",
       "        tooltip_span.addClass('ui-button-text');\n",
       "        tooltip_span.html(tooltip);\n",
       "\n",
       "        button.append(icon_img);\n",
       "        button.append(tooltip_span);\n",
       "\n",
       "        nav_element.append(button);\n",
       "    }\n",
       "\n",
       "    var fmt_picker_span = $('<span/>');\n",
       "\n",
       "    var fmt_picker = $('<select/>');\n",
       "    fmt_picker.addClass('mpl-toolbar-option ui-widget ui-widget-content');\n",
       "    fmt_picker_span.append(fmt_picker);\n",
       "    nav_element.append(fmt_picker_span);\n",
       "    this.format_dropdown = fmt_picker[0];\n",
       "\n",
       "    for (var ind in mpl.extensions) {\n",
       "        var fmt = mpl.extensions[ind];\n",
       "        var option = $(\n",
       "            '<option/>', {selected: fmt === mpl.default_extension}).html(fmt);\n",
       "        fmt_picker.append(option)\n",
       "    }\n",
       "\n",
       "    // Add hover states to the ui-buttons\n",
       "    $( \".ui-button\" ).hover(\n",
       "        function() { $(this).addClass(\"ui-state-hover\");},\n",
       "        function() { $(this).removeClass(\"ui-state-hover\");}\n",
       "    );\n",
       "\n",
       "    var status_bar = $('<span class=\"mpl-message\"/>');\n",
       "    nav_element.append(status_bar);\n",
       "    this.message = status_bar[0];\n",
       "}\n",
       "\n",
       "mpl.figure.prototype.request_resize = function(x_pixels, y_pixels) {\n",
       "    // Request matplotlib to resize the figure. Matplotlib will then trigger a resize in the client,\n",
       "    // which will in turn request a refresh of the image.\n",
       "    this.send_message('resize', {'width': x_pixels, 'height': y_pixels});\n",
       "}\n",
       "\n",
       "mpl.figure.prototype.send_message = function(type, properties) {\n",
       "    properties['type'] = type;\n",
       "    properties['figure_id'] = this.id;\n",
       "    this.ws.send(JSON.stringify(properties));\n",
       "}\n",
       "\n",
       "mpl.figure.prototype.send_draw_message = function() {\n",
       "    if (!this.waiting) {\n",
       "        this.waiting = true;\n",
       "        this.ws.send(JSON.stringify({type: \"draw\", figure_id: this.id}));\n",
       "    }\n",
       "}\n",
       "\n",
       "\n",
       "mpl.figure.prototype.handle_save = function(fig, msg) {\n",
       "    var format_dropdown = fig.format_dropdown;\n",
       "    var format = format_dropdown.options[format_dropdown.selectedIndex].value;\n",
       "    fig.ondownload(fig, format);\n",
       "}\n",
       "\n",
       "\n",
       "mpl.figure.prototype.handle_resize = function(fig, msg) {\n",
       "    var size = msg['size'];\n",
       "    if (size[0] != fig.canvas.width || size[1] != fig.canvas.height) {\n",
       "        fig._resize_canvas(size[0], size[1]);\n",
       "        fig.send_message(\"refresh\", {});\n",
       "    };\n",
       "}\n",
       "\n",
       "mpl.figure.prototype.handle_rubberband = function(fig, msg) {\n",
       "    var x0 = msg['x0'] / mpl.ratio;\n",
       "    var y0 = (fig.canvas.height - msg['y0']) / mpl.ratio;\n",
       "    var x1 = msg['x1'] / mpl.ratio;\n",
       "    var y1 = (fig.canvas.height - msg['y1']) / mpl.ratio;\n",
       "    x0 = Math.floor(x0) + 0.5;\n",
       "    y0 = Math.floor(y0) + 0.5;\n",
       "    x1 = Math.floor(x1) + 0.5;\n",
       "    y1 = Math.floor(y1) + 0.5;\n",
       "    var min_x = Math.min(x0, x1);\n",
       "    var min_y = Math.min(y0, y1);\n",
       "    var width = Math.abs(x1 - x0);\n",
       "    var height = Math.abs(y1 - y0);\n",
       "\n",
       "    fig.rubberband_context.clearRect(\n",
       "        0, 0, fig.canvas.width, fig.canvas.height);\n",
       "\n",
       "    fig.rubberband_context.strokeRect(min_x, min_y, width, height);\n",
       "}\n",
       "\n",
       "mpl.figure.prototype.handle_figure_label = function(fig, msg) {\n",
       "    // Updates the figure title.\n",
       "    fig.header.textContent = msg['label'];\n",
       "}\n",
       "\n",
       "mpl.figure.prototype.handle_cursor = function(fig, msg) {\n",
       "    var cursor = msg['cursor'];\n",
       "    switch(cursor)\n",
       "    {\n",
       "    case 0:\n",
       "        cursor = 'pointer';\n",
       "        break;\n",
       "    case 1:\n",
       "        cursor = 'default';\n",
       "        break;\n",
       "    case 2:\n",
       "        cursor = 'crosshair';\n",
       "        break;\n",
       "    case 3:\n",
       "        cursor = 'move';\n",
       "        break;\n",
       "    }\n",
       "    fig.rubberband_canvas.style.cursor = cursor;\n",
       "}\n",
       "\n",
       "mpl.figure.prototype.handle_message = function(fig, msg) {\n",
       "    fig.message.textContent = msg['message'];\n",
       "}\n",
       "\n",
       "mpl.figure.prototype.handle_draw = function(fig, msg) {\n",
       "    // Request the server to send over a new figure.\n",
       "    fig.send_draw_message();\n",
       "}\n",
       "\n",
       "mpl.figure.prototype.handle_image_mode = function(fig, msg) {\n",
       "    fig.image_mode = msg['mode'];\n",
       "}\n",
       "\n",
       "mpl.figure.prototype.updated_canvas_event = function() {\n",
       "    // Called whenever the canvas gets updated.\n",
       "    this.send_message(\"ack\", {});\n",
       "}\n",
       "\n",
       "// A function to construct a web socket function for onmessage handling.\n",
       "// Called in the figure constructor.\n",
       "mpl.figure.prototype._make_on_message_function = function(fig) {\n",
       "    return function socket_on_message(evt) {\n",
       "        if (evt.data instanceof Blob) {\n",
       "            /* FIXME: We get \"Resource interpreted as Image but\n",
       "             * transferred with MIME type text/plain:\" errors on\n",
       "             * Chrome.  But how to set the MIME type?  It doesn't seem\n",
       "             * to be part of the websocket stream */\n",
       "            evt.data.type = \"image/png\";\n",
       "\n",
       "            /* Free the memory for the previous frames */\n",
       "            if (fig.imageObj.src) {\n",
       "                (window.URL || window.webkitURL).revokeObjectURL(\n",
       "                    fig.imageObj.src);\n",
       "            }\n",
       "\n",
       "            fig.imageObj.src = (window.URL || window.webkitURL).createObjectURL(\n",
       "                evt.data);\n",
       "            fig.updated_canvas_event();\n",
       "            fig.waiting = false;\n",
       "            return;\n",
       "        }\n",
       "        else if (typeof evt.data === 'string' && evt.data.slice(0, 21) == \"data:image/png;base64\") {\n",
       "            fig.imageObj.src = evt.data;\n",
       "            fig.updated_canvas_event();\n",
       "            fig.waiting = false;\n",
       "            return;\n",
       "        }\n",
       "\n",
       "        var msg = JSON.parse(evt.data);\n",
       "        var msg_type = msg['type'];\n",
       "\n",
       "        // Call the  \"handle_{type}\" callback, which takes\n",
       "        // the figure and JSON message as its only arguments.\n",
       "        try {\n",
       "            var callback = fig[\"handle_\" + msg_type];\n",
       "        } catch (e) {\n",
       "            console.log(\"No handler for the '\" + msg_type + \"' message type: \", msg);\n",
       "            return;\n",
       "        }\n",
       "\n",
       "        if (callback) {\n",
       "            try {\n",
       "                // console.log(\"Handling '\" + msg_type + \"' message: \", msg);\n",
       "                callback(fig, msg);\n",
       "            } catch (e) {\n",
       "                console.log(\"Exception inside the 'handler_\" + msg_type + \"' callback:\", e, e.stack, msg);\n",
       "            }\n",
       "        }\n",
       "    };\n",
       "}\n",
       "\n",
       "// from http://stackoverflow.com/questions/1114465/getting-mouse-location-in-canvas\n",
       "mpl.findpos = function(e) {\n",
       "    //this section is from http://www.quirksmode.org/js/events_properties.html\n",
       "    var targ;\n",
       "    if (!e)\n",
       "        e = window.event;\n",
       "    if (e.target)\n",
       "        targ = e.target;\n",
       "    else if (e.srcElement)\n",
       "        targ = e.srcElement;\n",
       "    if (targ.nodeType == 3) // defeat Safari bug\n",
       "        targ = targ.parentNode;\n",
       "\n",
       "    // jQuery normalizes the pageX and pageY\n",
       "    // pageX,Y are the mouse positions relative to the document\n",
       "    // offset() returns the position of the element relative to the document\n",
       "    var x = e.pageX - $(targ).offset().left;\n",
       "    var y = e.pageY - $(targ).offset().top;\n",
       "\n",
       "    return {\"x\": x, \"y\": y};\n",
       "};\n",
       "\n",
       "/*\n",
       " * return a copy of an object with only non-object keys\n",
       " * we need this to avoid circular references\n",
       " * http://stackoverflow.com/a/24161582/3208463\n",
       " */\n",
       "function simpleKeys (original) {\n",
       "  return Object.keys(original).reduce(function (obj, key) {\n",
       "    if (typeof original[key] !== 'object')\n",
       "        obj[key] = original[key]\n",
       "    return obj;\n",
       "  }, {});\n",
       "}\n",
       "\n",
       "mpl.figure.prototype.mouse_event = function(event, name) {\n",
       "    var canvas_pos = mpl.findpos(event)\n",
       "\n",
       "    if (name === 'button_press')\n",
       "    {\n",
       "        this.canvas.focus();\n",
       "        this.canvas_div.focus();\n",
       "    }\n",
       "\n",
       "    var x = canvas_pos.x * mpl.ratio;\n",
       "    var y = canvas_pos.y * mpl.ratio;\n",
       "\n",
       "    this.send_message(name, {x: x, y: y, button: event.button,\n",
       "                             step: event.step,\n",
       "                             guiEvent: simpleKeys(event)});\n",
       "\n",
       "    /* This prevents the web browser from automatically changing to\n",
       "     * the text insertion cursor when the button is pressed.  We want\n",
       "     * to control all of the cursor setting manually through the\n",
       "     * 'cursor' event from matplotlib */\n",
       "    event.preventDefault();\n",
       "    return false;\n",
       "}\n",
       "\n",
       "mpl.figure.prototype._key_event_extra = function(event, name) {\n",
       "    // Handle any extra behaviour associated with a key event\n",
       "}\n",
       "\n",
       "mpl.figure.prototype.key_event = function(event, name) {\n",
       "\n",
       "    // Prevent repeat events\n",
       "    if (name == 'key_press')\n",
       "    {\n",
       "        if (event.which === this._key)\n",
       "            return;\n",
       "        else\n",
       "            this._key = event.which;\n",
       "    }\n",
       "    if (name == 'key_release')\n",
       "        this._key = null;\n",
       "\n",
       "    var value = '';\n",
       "    if (event.ctrlKey && event.which != 17)\n",
       "        value += \"ctrl+\";\n",
       "    if (event.altKey && event.which != 18)\n",
       "        value += \"alt+\";\n",
       "    if (event.shiftKey && event.which != 16)\n",
       "        value += \"shift+\";\n",
       "\n",
       "    value += 'k';\n",
       "    value += event.which.toString();\n",
       "\n",
       "    this._key_event_extra(event, name);\n",
       "\n",
       "    this.send_message(name, {key: value,\n",
       "                             guiEvent: simpleKeys(event)});\n",
       "    return false;\n",
       "}\n",
       "\n",
       "mpl.figure.prototype.toolbar_button_onclick = function(name) {\n",
       "    if (name == 'download') {\n",
       "        this.handle_save(this, null);\n",
       "    } else {\n",
       "        this.send_message(\"toolbar_button\", {name: name});\n",
       "    }\n",
       "};\n",
       "\n",
       "mpl.figure.prototype.toolbar_button_onmouseover = function(tooltip) {\n",
       "    this.message.textContent = tooltip;\n",
       "};\n",
       "mpl.toolbar_items = [[\"Home\", \"Reset original view\", \"fa fa-home icon-home\", \"home\"], [\"Back\", \"Back to  previous view\", \"fa fa-arrow-left icon-arrow-left\", \"back\"], [\"Forward\", \"Forward to next view\", \"fa fa-arrow-right icon-arrow-right\", \"forward\"], [\"\", \"\", \"\", \"\"], [\"Pan\", \"Pan axes with left mouse, zoom with right\", \"fa fa-arrows icon-move\", \"pan\"], [\"Zoom\", \"Zoom to rectangle\", \"fa fa-square-o icon-check-empty\", \"zoom\"], [\"\", \"\", \"\", \"\"], [\"Download\", \"Download plot\", \"fa fa-floppy-o icon-save\", \"download\"]];\n",
       "\n",
       "mpl.extensions = [\"eps\", \"jpeg\", \"pdf\", \"png\", \"ps\", \"raw\", \"svg\", \"tif\"];\n",
       "\n",
       "mpl.default_extension = \"png\";var comm_websocket_adapter = function(comm) {\n",
       "    // Create a \"websocket\"-like object which calls the given IPython comm\n",
       "    // object with the appropriate methods. Currently this is a non binary\n",
       "    // socket, so there is still some room for performance tuning.\n",
       "    var ws = {};\n",
       "\n",
       "    ws.close = function() {\n",
       "        comm.close()\n",
       "    };\n",
       "    ws.send = function(m) {\n",
       "        //console.log('sending', m);\n",
       "        comm.send(m);\n",
       "    };\n",
       "    // Register the callback with on_msg.\n",
       "    comm.on_msg(function(msg) {\n",
       "        //console.log('receiving', msg['content']['data'], msg);\n",
       "        // Pass the mpl event to the overriden (by mpl) onmessage function.\n",
       "        ws.onmessage(msg['content']['data'])\n",
       "    });\n",
       "    return ws;\n",
       "}\n",
       "\n",
       "mpl.mpl_figure_comm = function(comm, msg) {\n",
       "    // This is the function which gets called when the mpl process\n",
       "    // starts-up an IPython Comm through the \"matplotlib\" channel.\n",
       "\n",
       "    var id = msg.content.data.id;\n",
       "    // Get hold of the div created by the display call when the Comm\n",
       "    // socket was opened in Python.\n",
       "    var element = $(\"#\" + id);\n",
       "    var ws_proxy = comm_websocket_adapter(comm)\n",
       "\n",
       "    function ondownload(figure, format) {\n",
       "        window.open(figure.imageObj.src);\n",
       "    }\n",
       "\n",
       "    var fig = new mpl.figure(id, ws_proxy,\n",
       "                           ondownload,\n",
       "                           element.get(0));\n",
       "\n",
       "    // Call onopen now - mpl needs it, as it is assuming we've passed it a real\n",
       "    // web socket which is closed, not our websocket->open comm proxy.\n",
       "    ws_proxy.onopen();\n",
       "\n",
       "    fig.parent_element = element.get(0);\n",
       "    fig.cell_info = mpl.find_output_cell(\"<div id='\" + id + \"'></div>\");\n",
       "    if (!fig.cell_info) {\n",
       "        console.error(\"Failed to find cell for figure\", id, fig);\n",
       "        return;\n",
       "    }\n",
       "\n",
       "    var output_index = fig.cell_info[2]\n",
       "    var cell = fig.cell_info[0];\n",
       "\n",
       "};\n",
       "\n",
       "mpl.figure.prototype.handle_close = function(fig, msg) {\n",
       "    var width = fig.canvas.width/mpl.ratio\n",
       "    fig.root.unbind('remove')\n",
       "\n",
       "    // Update the output cell to use the data from the current canvas.\n",
       "    fig.push_to_output();\n",
       "    var dataURL = fig.canvas.toDataURL();\n",
       "    // Re-enable the keyboard manager in IPython - without this line, in FF,\n",
       "    // the notebook keyboard shortcuts fail.\n",
       "    IPython.keyboard_manager.enable()\n",
       "    $(fig.parent_element).html('<img src=\"' + dataURL + '\" width=\"' + width + '\">');\n",
       "    fig.close_ws(fig, msg);\n",
       "}\n",
       "\n",
       "mpl.figure.prototype.close_ws = function(fig, msg){\n",
       "    fig.send_message('closing', msg);\n",
       "    // fig.ws.close()\n",
       "}\n",
       "\n",
       "mpl.figure.prototype.push_to_output = function(remove_interactive) {\n",
       "    // Turn the data on the canvas into data in the output cell.\n",
       "    var width = this.canvas.width/mpl.ratio\n",
       "    var dataURL = this.canvas.toDataURL();\n",
       "    this.cell_info[1]['text/html'] = '<img src=\"' + dataURL + '\" width=\"' + width + '\">';\n",
       "}\n",
       "\n",
       "mpl.figure.prototype.updated_canvas_event = function() {\n",
       "    // Tell IPython that the notebook contents must change.\n",
       "    IPython.notebook.set_dirty(true);\n",
       "    this.send_message(\"ack\", {});\n",
       "    var fig = this;\n",
       "    // Wait a second, then push the new image to the DOM so\n",
       "    // that it is saved nicely (might be nice to debounce this).\n",
       "    setTimeout(function () { fig.push_to_output() }, 1000);\n",
       "}\n",
       "\n",
       "mpl.figure.prototype._init_toolbar = function() {\n",
       "    var fig = this;\n",
       "\n",
       "    var nav_element = $('<div/>')\n",
       "    nav_element.attr('style', 'width: 100%');\n",
       "    this.root.append(nav_element);\n",
       "\n",
       "    // Define a callback function for later on.\n",
       "    function toolbar_event(event) {\n",
       "        return fig.toolbar_button_onclick(event['data']);\n",
       "    }\n",
       "    function toolbar_mouse_event(event) {\n",
       "        return fig.toolbar_button_onmouseover(event['data']);\n",
       "    }\n",
       "\n",
       "    for(var toolbar_ind in mpl.toolbar_items){\n",
       "        var name = mpl.toolbar_items[toolbar_ind][0];\n",
       "        var tooltip = mpl.toolbar_items[toolbar_ind][1];\n",
       "        var image = mpl.toolbar_items[toolbar_ind][2];\n",
       "        var method_name = mpl.toolbar_items[toolbar_ind][3];\n",
       "\n",
       "        if (!name) { continue; };\n",
       "\n",
       "        var button = $('<button class=\"btn btn-default\" href=\"#\" title=\"' + name + '\"><i class=\"fa ' + image + ' fa-lg\"></i></button>');\n",
       "        button.click(method_name, toolbar_event);\n",
       "        button.mouseover(tooltip, toolbar_mouse_event);\n",
       "        nav_element.append(button);\n",
       "    }\n",
       "\n",
       "    // Add the status bar.\n",
       "    var status_bar = $('<span class=\"mpl-message\" style=\"text-align:right; float: right;\"/>');\n",
       "    nav_element.append(status_bar);\n",
       "    this.message = status_bar[0];\n",
       "\n",
       "    // Add the close button to the window.\n",
       "    var buttongrp = $('<div class=\"btn-group inline pull-right\"></div>');\n",
       "    var button = $('<button class=\"btn btn-mini btn-primary\" href=\"#\" title=\"Stop Interaction\"><i class=\"fa fa-power-off icon-remove icon-large\"></i></button>');\n",
       "    button.click(function (evt) { fig.handle_close(fig, {}); } );\n",
       "    button.mouseover('Stop Interaction', toolbar_mouse_event);\n",
       "    buttongrp.append(button);\n",
       "    var titlebar = this.root.find($('.ui-dialog-titlebar'));\n",
       "    titlebar.prepend(buttongrp);\n",
       "}\n",
       "\n",
       "mpl.figure.prototype._root_extra_style = function(el){\n",
       "    var fig = this\n",
       "    el.on(\"remove\", function(){\n",
       "\tfig.close_ws(fig, {});\n",
       "    });\n",
       "}\n",
       "\n",
       "mpl.figure.prototype._canvas_extra_style = function(el){\n",
       "    // this is important to make the div 'focusable\n",
       "    el.attr('tabindex', 0)\n",
       "    // reach out to IPython and tell the keyboard manager to turn it's self\n",
       "    // off when our div gets focus\n",
       "\n",
       "    // location in version 3\n",
       "    if (IPython.notebook.keyboard_manager) {\n",
       "        IPython.notebook.keyboard_manager.register_events(el);\n",
       "    }\n",
       "    else {\n",
       "        // location in version 2\n",
       "        IPython.keyboard_manager.register_events(el);\n",
       "    }\n",
       "\n",
       "}\n",
       "\n",
       "mpl.figure.prototype._key_event_extra = function(event, name) {\n",
       "    var manager = IPython.notebook.keyboard_manager;\n",
       "    if (!manager)\n",
       "        manager = IPython.keyboard_manager;\n",
       "\n",
       "    // Check for shift+enter\n",
       "    if (event.shiftKey && event.which == 13) {\n",
       "        this.canvas_div.blur();\n",
       "        event.shiftKey = false;\n",
       "        // Send a \"J\" for go to next cell\n",
       "        event.which = 74;\n",
       "        event.keyCode = 74;\n",
       "        manager.command_mode();\n",
       "        manager.handle_keydown(event);\n",
       "    }\n",
       "}\n",
       "\n",
       "mpl.figure.prototype.handle_save = function(fig, msg) {\n",
       "    fig.ondownload(fig, null);\n",
       "}\n",
       "\n",
       "\n",
       "mpl.find_output_cell = function(html_output) {\n",
       "    // Return the cell and output element which can be found *uniquely* in the notebook.\n",
       "    // Note - this is a bit hacky, but it is done because the \"notebook_saving.Notebook\"\n",
       "    // IPython event is triggered only after the cells have been serialised, which for\n",
       "    // our purposes (turning an active figure into a static one), is too late.\n",
       "    var cells = IPython.notebook.get_cells();\n",
       "    var ncells = cells.length;\n",
       "    for (var i=0; i<ncells; i++) {\n",
       "        var cell = cells[i];\n",
       "        if (cell.cell_type === 'code'){\n",
       "            for (var j=0; j<cell.output_area.outputs.length; j++) {\n",
       "                var data = cell.output_area.outputs[j];\n",
       "                if (data.data) {\n",
       "                    // IPython >= 3 moved mimebundle to data attribute of output\n",
       "                    data = data.data;\n",
       "                }\n",
       "                if (data['text/html'] == html_output) {\n",
       "                    return [cell, data, j];\n",
       "                }\n",
       "            }\n",
       "        }\n",
       "    }\n",
       "}\n",
       "\n",
       "// Register the function which deals with the matplotlib target/channel.\n",
       "// The kernel may be null if the page has been refreshed.\n",
       "if (IPython.notebook.kernel != null) {\n",
       "    IPython.notebook.kernel.comm_manager.register_target('matplotlib', mpl.mpl_figure_comm);\n",
       "}\n"
      ],
      "text/plain": [
       "<IPython.core.display.Javascript object>"
      ]
     },
     "metadata": {},
     "output_type": "display_data"
    },
    {
     "data": {
      "text/html": [
       "<img src=\"data:image/png;base64,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\" width=\"638.888905813665\">"
      ],
      "text/plain": [
       "<IPython.core.display.HTML object>"
      ]
     },
     "metadata": {},
     "output_type": "display_data"
    },
    {
     "data": {
      "text/plain": [
       "<matplotlib.legend.Legend at 0x7f010c4f49e8>"
      ]
     },
     "execution_count": 7,
     "metadata": {},
     "output_type": "execute_result"
    }
   ],
   "source": [
    "plot_marginals(mcmc, xlim=[(-3,3)], ylim=(0,3), kde=False)\n",
    "plt.plot(x, posterior(x), label='true posterior')\n",
    "plt.legend()"
   ]
  },
  {
   "cell_type": "markdown",
   "metadata": {},
   "source": [
    "# BOLFI"
   ]
  },
  {
   "cell_type": "code",
   "execution_count": 120,
   "metadata": {},
   "outputs": [
    {
     "name": "stdout",
     "output_type": "stream",
     "text": [
      "BOLFI sampler started with threshold: 0.0025 and number of samples: 10000\n",
      "Starting Bayesian Optimization with initial evidence size = 5, max_iter = 200\n",
      "Starting MCMC sampling using approximate likelihood with 4 chains and 100 burn-in samples\n",
      "Samples:  10000 - Threshold: keiner - Iterations:      10004 - Acceptance rate: 0.810276 - Time:   586.58 s\n"
     ]
    }
   ],
   "source": [
    "bolfi = pyabc.BOLFI(priors=[prior], simulator=simulator,\n",
    "                 summaries=[summary], distance=rho,\n",
    "                  observation=y0, domain=[(-10,10)],\n",
    "                   acquisition='lcb')\n",
    "bolfi.sample(nr_samples=10_000, threshold=0.0025, initial_evidence_size=5, max_iter=200, n_chains=4, burn_in=100)"
   ]
  },
  {
   "cell_type": "code",
   "execution_count": 7,
   "metadata": {},
   "outputs": [
    {
     "data": {
      "text/plain": [
       "<matplotlib.legend.Legend at 0x7f9af4bbd240>"
      ]
     },
     "execution_count": 7,
     "metadata": {},
     "output_type": "execute_result"
    },
    {
     "data": {
      "image/png": "[encoded data removed]",
      "text/plain": [
       "<matplotlib.figure.Figure at 0x7f9af496cef0>"
      ]
     },
     "metadata": {},
     "output_type": "display_data"
    }
   ],
   "source": [
    "plot_marginals(bolfi, xlim=[(-10,10)], ylim=(0,3), kde=False)\n",
    "plt.plot(x, posterior(x), label='true posterior')\n",
    "plt.legend()"
   ]
  },
  {
   "cell_type": "code",
   "execution_count": 8,
   "metadata": {},
   "outputs": [
    {
     "data": {
      "image/png": "[encoded data removed]",
      "text/plain": [
       "<matplotlib.figure.Figure at 0x7f9afd49c5c0>"
      ]
     },
     "metadata": {},
     "output_type": "display_data"
    }
   ],
   "source": [
    "bolfi.optim.plot_acquisition()"
   ]
  },
  {
   "cell_type": "code",
   "execution_count": 47,
   "metadata": {},
   "outputs": [
    {
     "data": {
      "text/plain": [
       "array([[-8.44680041],\n",
       "       [-1.9872614 ],\n",
       "       [-3.22701727],\n",
       "       ..., \n",
       "       [-0.24355277],\n",
       "       [-3.3984626 ],\n",
       "       [-4.28351256]])"
      ]
     },
     "execution_count": 47,
     "metadata": {},
     "output_type": "execute_result"
    }
   ],
   "source": [
    "bolfi.Thetas"
   ]
  },
  {
   "cell_type": "code",
   "execution_count": 94,
   "metadata": {},
   "outputs": [
    {
     "data": {
      "text/plain": [
       "<matplotlib.legend.Legend at 0x7f9af0e73390>"
      ]
     },
     "execution_count": 94,
     "metadata": {},
     "output_type": "execute_result"
    },
    {
     "data": {
      "image/png": "[encoded data removed]",
      "text/plain": [
       "<matplotlib.figure.Figure at 0x7f9af0ef87f0>"
      ]
     },
     "metadata": {},
     "output_type": "display_data"
    }
   ],
   "source": [
    "plt.figure()\n",
    "x = np.linspace(-10,10)\n",
    "bolfi_post = [np.exp(bolfi.logposterior(np.atleast_1d(x_i))) for x_i in x]\n",
    "plt.plot(x, bolfi_post / np.sum(bolfi_post), label='BOLFI')\n",
    "plt.plot(x, posterior(x), label='true posterior')\n",
    "plt.legend()"
   ]
  },
  {
   "cell_type": "markdown",
   "metadata": {},
   "source": [
    "# Using ELFI's BOLFI"
   ]
  },
  {
   "cell_type": "code",
   "execution_count": 14,
   "metadata": {},
   "outputs": [],
   "source": [
    "import elfi"
   ]
  },
  {
   "cell_type": "code",
   "execution_count": 110,
   "metadata": {},
   "outputs": [
    {
     "data": {
      "image/svg+xml": [
       "<?xml version=\"1.0\" encoding=\"UTF-8\" standalone=\"no\"?>\n",
       "<!DOCTYPE svg PUBLIC \"-//W3C//DTD SVG 1.1//EN\"\n",
       " \"http://www.w3.org/Graphics/SVG/1.1/DTD/svg11.dtd\">\n",
       "<!-- Generated by graphviz version 2.40.1 (20161225.0304)\n",
       " -->\n",
       "<!-- Title: %3 Pages: 1 -->\n",
       "<svg width=\"44pt\" height=\"260pt\"\n",
       " viewBox=\"0.00 0.00 44.00 260.00\" xmlns=\"http://www.w3.org/2000/svg\" xmlns:xlink=\"http://www.w3.org/1999/xlink\">\n",
       "<g id=\"graph0\" class=\"graph\" transform=\"scale(1 1) rotate(0) translate(4 256)\">\n",
       "<title>%3</title>\n",
       "<polygon fill=\"#ffffff\" stroke=\"transparent\" points=\"-4,4 -4,-256 40,-256 40,4 -4,4\"/>\n",
       "<!-- p -->\n",
       "<g id=\"node1\" class=\"node\">\n",
       "<title>p</title>\n",
       "<ellipse fill=\"none\" stroke=\"#000000\" cx=\"18\" cy=\"-234\" rx=\"18\" ry=\"18\"/>\n",
       "<text text-anchor=\"middle\" x=\"18\" y=\"-230.3\" font-family=\"Times,serif\" font-size=\"14.00\" fill=\"#000000\">p</text>\n",
       "</g>\n",
       "<!-- Y -->\n",
       "<g id=\"node2\" class=\"node\">\n",
       "<title>Y</title>\n",
       "<ellipse fill=\"#cccccc\" stroke=\"#000000\" cx=\"18\" cy=\"-162\" rx=\"18\" ry=\"18\"/>\n",
       "<text text-anchor=\"middle\" x=\"18\" y=\"-158.3\" font-family=\"Times,serif\" font-size=\"14.00\" fill=\"#000000\">Y</text>\n",
       "</g>\n",
       "<!-- p&#45;&gt;Y -->\n",
       "<g id=\"edge1\" class=\"edge\">\n",
       "<title>p&#45;&gt;Y</title>\n",
       "<path fill=\"none\" stroke=\"#000000\" d=\"M18,-215.8314C18,-208.131 18,-198.9743 18,-190.4166\"/>\n",
       "<polygon fill=\"#000000\" stroke=\"#000000\" points=\"21.5001,-190.4132 18,-180.4133 14.5001,-190.4133 21.5001,-190.4132\"/>\n",
       "</g>\n",
       "<!-- s -->\n",
       "<g id=\"node3\" class=\"node\">\n",
       "<title>s</title>\n",
       "<ellipse fill=\"#cccccc\" stroke=\"#000000\" cx=\"18\" cy=\"-90\" rx=\"18\" ry=\"18\"/>\n",
       "<text text-anchor=\"middle\" x=\"18\" y=\"-86.3\" font-family=\"Times,serif\" font-size=\"14.00\" fill=\"#000000\">s</text>\n",
       "</g>\n",
       "<!-- Y&#45;&gt;s -->\n",
       "<g id=\"edge2\" class=\"edge\">\n",
       "<title>Y&#45;&gt;s</title>\n",
       "<path fill=\"none\" stroke=\"#000000\" d=\"M18,-143.8314C18,-136.131 18,-126.9743 18,-118.4166\"/>\n",
       "<polygon fill=\"#000000\" stroke=\"#000000\" points=\"21.5001,-118.4132 18,-108.4133 14.5001,-118.4133 21.5001,-118.4132\"/>\n",
       "</g>\n",
       "<!-- d -->\n",
       "<g id=\"node4\" class=\"node\">\n",
       "<title>d</title>\n",
       "<ellipse fill=\"none\" stroke=\"#000000\" cx=\"18\" cy=\"-18\" rx=\"18\" ry=\"18\"/>\n",
       "<text text-anchor=\"middle\" x=\"18\" y=\"-14.3\" font-family=\"Times,serif\" font-size=\"14.00\" fill=\"#000000\">d</text>\n",
       "</g>\n",
       "<!-- s&#45;&gt;d -->\n",
       "<g id=\"edge3\" class=\"edge\">\n",
       "<title>s&#45;&gt;d</title>\n",
       "<path fill=\"none\" stroke=\"#000000\" d=\"M18,-71.8314C18,-64.131 18,-54.9743 18,-46.4166\"/>\n",
       "<polygon fill=\"#000000\" stroke=\"#000000\" points=\"21.5001,-46.4132 18,-36.4133 14.5001,-46.4133 21.5001,-46.4132\"/>\n",
       "</g>\n",
       "</g>\n",
       "</svg>\n"
      ],
      "text/plain": [
       "<graphviz.dot.Digraph at 0x7f9adf7c9cf8>"
      ]
     },
     "execution_count": 110,
     "metadata": {},
     "output_type": "execute_result"
    }
   ],
   "source": [
    "elfi.new_model()\n",
    "\n",
    "p = elfi.Prior('uniform', -10, 20)\n",
    "\n",
    "def sim(x, batch_size, random_state):\n",
    "    return simulator(x)\n",
    "\n",
    "Y = elfi.Simulator(sim, p, observed=y0)\n",
    "\n",
    "def summ(x):\n",
    "    if np.random.rand() < 0.5:\n",
    "        #print(np.abs(x.mean()))\n",
    "        rho = np.abs(x.mean())\n",
    "    else:\n",
    "        #print(np.abs(x[0]))\n",
    "        rho = np.abs(x[0])\n",
    "    return rho\n",
    "\n",
    "s = elfi.Summary(summ, Y)\n",
    "\n",
    "d = elfi.Distance('euclidean', s)\n",
    "\n",
    "elfi.draw(d)"
   ]
  },
  {
   "cell_type": "code",
   "execution_count": 111,
   "metadata": {},
   "outputs": [],
   "source": [
    "elfibolfi = elfi.BOLFI(d, batch_size=1, initial_evidence=20, update_interval=10,\n",
    "                   bounds={'p': (-10, 10)}, acq_noise_var=[0.1], seed=101)"
   ]
  },
  {
   "cell_type": "code",
   "execution_count": 113,
   "metadata": {},
   "outputs": [],
   "source": [
    "post = elfibolfi.fit(n_evidence=200, threshold=0.00025)"
   ]
  },
  {
   "cell_type": "code",
   "execution_count": 114,
   "metadata": {},
   "outputs": [
    {
     "data": {
      "text/plain": [
       "array([<matplotlib.axes._subplots.AxesSubplot object at 0x7f9adf5636a0>], dtype=object)"
      ]
     },
     "execution_count": 114,
     "metadata": {},
     "output_type": "execute_result"
    },
    {
     "data": {
      "image/png": "[encoded data removed]",
      "text/plain": [
       "<matplotlib.figure.Figure at 0x7f9adf6f5f60>"
      ]
     },
     "metadata": {},
     "output_type": "display_data"
    }
   ],
   "source": [
    "elfibolfi.plot_discrepancy()"
   ]
  },
  {
   "cell_type": "code",
   "execution_count": 117,
   "metadata": {},
   "outputs": [
    {
     "data": {
      "text/plain": [
       "<matplotlib.legend.Legend at 0x7f9adf36d668>"
      ]
     },
     "execution_count": 117,
     "metadata": {},
     "output_type": "execute_result"
    },
    {
     "data": {
      "image/png": "[encoded data removed]",
      "text/plain": [
       "<matplotlib.figure.Figure at 0x7f9adf3c64a8>"
      ]
     },
     "metadata": {},
     "output_type": "display_data"
    }
   ],
   "source": [
    "post = elfibolfi.extract_posterior()\n",
    "plt.plot(x, post.pdf(x) / np.sum(post.pdf(x)), label='BOLFI')\n",
    "plt.plot(x, posterior(x), label='true')\n",
    "plt.legend()"
   ]
  },
  {
   "cell_type": "code",
   "execution_count": 118,
   "metadata": {},
   "outputs": [
    {
     "name": "stdout",
     "output_type": "stream",
     "text": [
      "4 chains of 1000 iterations acquired. Effective sample size and Rhat for each parameter:\n",
      "p 2045.21231422 0.9995313299\n"
     ]
    }
   ],
   "source": [
    "result_BOLFI = elfibolfi.sample(1000, info_freq=1000)"
   ]
  },
  {
   "cell_type": "code",
   "execution_count": 119,
   "metadata": {},
   "outputs": [
    {
     "data": {
      "text/plain": [
       "[<matplotlib.lines.Line2D at 0x7f9adf412828>]"
      ]
     },
     "execution_count": 119,
     "metadata": {},
     "output_type": "execute_result"
    },
    {
     "data": {
      "image/png": "[encoded data removed]",
      "text/plain": [
       "<matplotlib.figure.Figure at 0x7f9adf4121d0>"
      ]
     },
     "metadata": {},
     "output_type": "display_data"
    }
   ],
   "source": [
    "result_BOLFI.plot_marginals(normed=True)\n",
    "plt.plot(x, posterior(x))\n"
   ]
  },
  {
   "cell_type": "code",
   "execution_count": null,
   "metadata": {},
   "outputs": [],
   "source": []
  }
 ],
 "metadata": {
  "kernelspec": {
   "display_name": "Python 3 (ABC)",
   "language": "python",
   "name": "abc"
  },
  "language_info": {
   "codemirror_mode": {
    "name": "ipython",
    "version": 3
   },
   "file_extension": ".py",
   "mimetype": "text/x-python",
   "name": "python",
   "nbconvert_exporter": "python",
   "pygments_lexer": "ipython3",
   "version": "3.6.4"
  }
 },
 "nbformat": 4,
 "nbformat_minor": 2
}
