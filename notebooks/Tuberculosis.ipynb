{
 "cells": [
  {
   "cell_type": "code",
   "execution_count": 1,
   "metadata": {},
   "outputs": [],
   "source": [
    "import numpy as np\n",
    "import pylab as plt\n",
    "from collections import Counter\n",
    "import os\n",
    "import sys\n",
    "sys.path.append(os.path.abspath(os.path.join('..')))\n",
    "from pyabc.examples import tuberculosis\n",
    "import pyabc.prior\n",
    "from pyabc.utils import plot_marginals"
   ]
  },
  {
   "cell_type": "markdown",
   "metadata": {},
   "source": [
    "## Intractable model by Tanaka et al. 2006 for spread of tuberculosis"
   ]
  },
  {
   "cell_type": "markdown",
   "metadata": {},
   "source": [
    "![](img/transmission_process.png)"
   ]
  },
  {
   "cell_type": "markdown",
   "metadata": {},
   "source": [
    "### model parameter\n",
    "$\\alpha$: rate with which each infectious host randomly infects other individuals from an unlimited supply of hosts\n",
    "\n",
    "$\\delta$: rate with which a host stops being infectious, either by recovering or dying\n",
    "\n",
    "$\\tau$: rate with which the pathogen of the host mutates randomly within the host, generating a novel haplotype under a single-locus infinite alleles model\n",
    "\n",
    "$\\theta = (\\alpha, \\delta, \\tau)$"
   ]
  },
  {
   "cell_type": "markdown",
   "metadata": {},
   "source": [
    "$y_{\\theta} = (6,3,2,2,1,1,1,1,1,1,1)$: output, vector of clusters, that is different haplotypes. Each number represents the infectious hosts for this particular haplotype"
   ]
  },
  {
   "cell_type": "markdown",
   "metadata": {},
   "source": [
    "### Observation\n",
    "$\\alpha = 0.2, \\delta = 0, \\tau = 0.198, m = 20$\n",
    "\n",
    "assume, that $\\delta, \\tau$ are known and apply uniform prior"
   ]
  },
  {
   "cell_type": "code",
   "execution_count": 2,
   "metadata": {},
   "outputs": [],
   "source": [
    "alpha = 0.2\n",
    "delta = 0.1\n",
    "tau = 0.198\n",
    "m = 20\n",
    "N = 2e7\n",
    "\n",
    "prior_alpha = pyabc.Prior(\"uniform\", 0.05, 1, name=\"alpha\")\n",
    "prior_delta = pyabc.Prior(\"uniform\", 0, 0.05, name=\"delta\")\n",
    "prior_tau = pyabc.Prior(\"uniform\", 0.01, 1, name=\"tau\")\n",
    "\n",
    "simulator = tuberculosis.simulator"
   ]
  },
  {
   "cell_type": "code",
   "execution_count": 3,
   "metadata": {},
   "outputs": [
    {
     "data": {
      "text/plain": [
       "0.050011222981723405"
      ]
     },
     "execution_count": 3,
     "metadata": {},
     "output_type": "execute_result"
    }
   ],
   "source": [
    "min(prior_alpha.sample(10000))"
   ]
  },
  {
   "cell_type": "code",
   "execution_count": 4,
   "metadata": {},
   "outputs": [],
   "source": [
    "for i in range(100):\n",
    "    params = [prior_alpha.sample(),prior_delta.sample(),prior_tau.sample()]\n",
    "    y0 = simulator(*params)\n",
    "    y0"
   ]
  },
  {
   "cell_type": "code",
   "execution_count": 5,
   "metadata": {},
   "outputs": [
    {
     "name": "stdout",
     "output_type": "stream",
     "text": [
      "2\n",
      "18\n",
      "2\n"
     ]
    }
   ],
   "source": [
    "list_of_sum = tuberculosis.summaries\n",
    "for f in list_of_sum:\n",
    "    print(f(y0))"
   ]
  },
  {
   "cell_type": "code",
   "execution_count": 6,
   "metadata": {},
   "outputs": [],
   "source": [
    "rej = pyabc.RejectionSampler(priors=[prior_alpha, prior_delta, prior_tau], simulator=simulator, \n",
    "                             summaries=tuberculosis.summaries,\n",
    "                             observation=y0)"
   ]
  },
  {
   "cell_type": "code",
   "execution_count": 7,
   "metadata": {},
   "outputs": [
    {
     "name": "stdout",
     "output_type": "stream",
     "text": [
      "Rejection sampler started with threshold: 0.01 and number of samples: 1000\n",
      "Samples:   1000 - Threshold: 0.01 - Iterations:     164000 - Acceptance rate: 0.006098 - Time:   158.26 s\n"
     ]
    }
   ],
   "source": [
    "rej.sample(nr_samples=1000, threshold=0.01)"
   ]
  },
  {
   "cell_type": "code",
   "execution_count": 8,
   "metadata": {},
   "outputs": [],
   "source": [
    "smc = pyabc.SMCSampler(priors=[prior_alpha, prior_delta, prior_tau], simulator=simulator, \n",
    "                             summaries=tuberculosis.summaries,\n",
    "                             observation=y0)"
   ]
  },
  {
   "cell_type": "code",
   "execution_count": 9,
   "metadata": {},
   "outputs": [
    {
     "name": "stdout",
     "output_type": "stream",
     "text": [
      "SMC sampler started with thresholds: [0.5, 0.1, 0.05, 0.01] and number of samples: 1000\n",
      "Rejection sampler started with threshold: 0.5 and number of samples: 1000\n",
      "Iteration 0 completed\n",
      "starting iteration[ 1 ]\n",
      "Iteration 1 completed\n",
      "starting iteration[ 2 ]\n",
      "Iteration 2 completed\n",
      "starting iteration[ 3 ]\n",
      "Iteration 3 completed\n",
      "Samples:   1000 - Thresholds: 0.01 - Iterations:      42595 - Acceptance rate: 0.023477 - Time:    44.41 s\n"
     ]
    }
   ],
   "source": [
    "smc.sample(nr_samples=1000, thresholds=[0.5,0.1,0.05,0.01])"
   ]
  },
  {
   "cell_type": "code",
   "execution_count": 10,
   "metadata": {},
   "outputs": [
    {
     "data": {
      "image/png": "[encoded data removed]",
      "text/plain": [
       "<matplotlib.figure.Figure at 0x7f29a0c4d2b0>"
      ]
     },
     "metadata": {},
     "output_type": "display_data"
    }
   ],
   "source": [
    "plot_marginals(rej)\n"
   ]
  },
  {
   "cell_type": "code",
   "execution_count": null,
   "metadata": {},
   "outputs": [],
   "source": []
  },
  {
   "cell_type": "code",
   "execution_count": null,
   "metadata": {},
   "outputs": [],
   "source": []
  }
 ],
 "metadata": {
  "kernelspec": {
   "display_name": "Python [default]",
   "language": "python",
   "name": "python3"
  },
  "language_info": {
   "codemirror_mode": {
    "name": "ipython",
    "version": 3
   },
   "file_extension": ".py",
   "mimetype": "text/x-python",
   "name": "python",
   "nbconvert_exporter": "python",
   "pygments_lexer": "ipython3",
   "version": "3.6.3"
  }
 },
 "nbformat": 4,
 "nbformat_minor": 2
}
