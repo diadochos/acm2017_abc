{
 "cells": [
  {
   "cell_type": "markdown",
   "metadata": {},
   "source": [
    "# Bayesian Optimization for Likelihood-Free Inference of Simulator-Based Statistical Models"
   ]
  },
  {
   "cell_type": "markdown",
   "metadata": {},
   "source": [
    "The true likelihood function we want to retrieve using a simulator-based model so that $y_{\\theta} \\sim p_{y|\\theta}$\n",
    "\n",
    "$\\mathcal{L}(\\theta) = p_{y|\\theta}(y_0|\\theta)$ -> true likelihood based on observed data"
   ]
  },
  {
   "cell_type": "markdown",
   "metadata": {},
   "source": [
    "The approximation of the likelihood function is based on some measurement of discrepancy $\\Delta_{\\theta}$ between the observed data $y_o$ and data $y_{\\theta}$ simulated with parameter value $\\theta$. $\\Delta_{\\theta}$ is used to approximate $\\mathcal{L}$ by $\\hat{L}$."
   ]
  },
  {
   "cell_type": "markdown",
   "metadata": {},
   "source": [
    "The approximation is based on reduction of the data to some features, or summary statistics $\\Phi$. The purpose of the summary statistics is to reduce the dimensionality and to filter out information which is not deemed relevant for the inference of $\\theta$. \n",
    "So $\\mathcal{L}$ is replaced with $L$: \n",
    "\n",
    "$L(\\theta)=p_{\\Phi|\\theta}(\\Phi_0|\\theta)$ -> true likelihood based on summary statistics\n",
    "\n",
    "$L(\\theta)$ is a valid likelihood function but for the inference of $\\theta$ given $\\Phi$ and not for the inference of $\\theta$ given $y_0$, in contrast to $\\mathcal{L}$, unless $\\Phi$ happens to be statistically sufficient."
   ]
  },
  {
   "cell_type": "markdown",
   "metadata": {},
   "source": [
    "Howeverm $L(\\theta)$ is not known, because the pdf $p_{\\Phi|\\theta}$ is of unknown analytical form, which is a property inherited from $p_{y|\\theta}$. So we again have to approximate $L(\\theta)$, which we denote as a pratical approximation with finite resources by $\\hat{L}(\\theta)$\n",
    "\n",
    "$\\hat{L}(\\theta)$ -> computable approximation of $L$"
   ]
  },
  {
   "cell_type": "markdown",
   "metadata": {},
   "source": [
    "## Parametric Approximation of the Likelihood"
   ]
  },
  {
   "cell_type": "markdown",
   "metadata": {},
   "source": [
    "If $\\Phi_{\\theta}$ is obtained via averaging (choose $\\theta$ and simulate $N$ datasets from the simulator, calculate $\\Phi_{\\theta}$ for each and calculate the average), the central limit theorem suggests that the pdf may be well approximated by a Gaussian distribution if the number of samples n is sufficiently large,\n",
    "\n",
    "$p_{\\Phi|\\theta}(\\phi|\\theta) \\approx \\cfrac{1}{(2\\pi)^{(p/2)}|\\det \\Sigma_{\\theta}|^{1/2}} \\exp (-\\cfrac{1}{2}(\\phi - \\mu_{\\theta})^T\\Sigma_{\\theta}^{-1}(\\phi - \\mu_{\\theta}))$, with $p$ the dimension of $\\Phi_{\\theta}$"
   ]
  },
  {
   "cell_type": "markdown",
   "metadata": {},
   "source": [
    "The corresponding likelihood function is $\\tilde{L}_s = \\exp(\\tilde{l}_s)$\n",
    "\n",
    "$\\tilde{l}_s(\\theta) = -\\cfrac{p}{2}\\log(2\\pi) - \\cfrac{1}{2}\\log|\\det \\Sigma_{\\theta}| -\\cfrac{1}{2}(\\phi_o - \\mu_{\\theta})^T\\Sigma_{\\theta}^{-1}(\\phi_o - \\mu_{\\theta}))$"
   ]
  },
  {
   "cell_type": "markdown",
   "metadata": {},
   "source": [
    "$\\mu_{\\theta}$ and $\\Sigma_{\\theta}$ are generally not known, but the simulator can be used to estimate them via sample average $E^N$ over N independently generated summary statistics (for a given $\\theta$),\n",
    "\n",
    "$\\hat{\\mu}_{\\theta} = E^N[\\Phi_{\\theta}] = \\cfrac{1}{N} \\sum_i \\Phi_{\\theta}^{(i)}, \\quad \\Phi_{\\theta}^{(i)} \\overset{i.i.d}{\\sim } p_{\\Phi|\\theta}, \\quad \\hat{\\Sigma}_{\\theta} = E^N[(\\Phi_{\\theta} - \\hat{\\mu}_{\\theta})(\\Phi_{\\theta} - \\hat{\\mu}_{\\theta})^T]$"
   ]
  },
  {
   "cell_type": "markdown",
   "metadata": {},
   "source": [
    "A computable estimate $\\hat{L}_s^N$ is then given by $\\hat{L}_s^N = \\exp(\\hat{l}_s^N)$. This approximation was named \"synthetical likelihood\" by Wood (2010)"
   ]
  },
  {
   "cell_type": "markdown",
   "metadata": {},
   "source": [
    "## Nonparametric Approximation of the Likelihood"
   ]
  },
  {
   "cell_type": "markdown",
   "metadata": {},
   "source": [
    "If we dont know or dont want to assume a parametric model for the pdf $p_{\\Phi|\\theta}$ of the summary statistics, we can approximate it by a kernel density estimate,\n",
    "\n",
    "$p_{\\Phi|\\theta}(\\phi|\\theta) \\approx E^N[K(\\phi,\\Phi_{\\theta})], \\quad E^N[K(\\phi,\\Phi_{\\theta})] = \\cfrac{1}{N} \\sum_i K(\\phi, \\Phi_{\\theta}^{(i)})$"
   ]
  },
  {
   "cell_type": "markdown",
   "metadata": {},
   "source": [
    "An approximation of the likelihood function $L(\\theta)$ is given by $\\hat{L}_K^N(\\theta)$,\n",
    "\n",
    "$\\hat{L}_K^N(\\theta) = E^N[K(\\Phi_0, \\Phi_{\\theta})]$"
   ]
  },
  {
   "cell_type": "markdown",
   "metadata": {},
   "source": [
    "We can rewrite $K$ in another form as $\\kappa(\\Delta_{\\theta})$ where $\\Delta_{\\theta} \\geq 0$ depends on $\\Phi_o$ and $\\Phi_{\\theta}$, and $\\kappa$ is a univariate non-negative function not depending on $\\theta$. Kernels $K$ are generally such that $\\kappa$ has a maximum at zero (because kernels measure similarity and that is the greatest when two values are equal). "
   ]
  },
  {
   "cell_type": "markdown",
   "metadata": {},
   "source": [
    "Now we can express $\\hat{L}_K^N(\\theta)$ with $\\kappa$ which we denote with $\\hat{L}_{\\kappa}^N$\n",
    "\n",
    "$\\hat{L}_{\\kappa}^N (\\theta) = E^N[\\kappa(\\Delta_{\\theta})]$"
   ]
  },
  {
   "cell_type": "markdown",
   "metadata": {},
   "source": [
    "When we denote the empirical expectation $E^N[\\Delta_{\\theta}]$ as $\\hat{J}(\\theta)$ it can be shown that for convex functions $\\kappa$ $\\kappa(\\hat{J})$ is a lower bound for the likelihood.\n",
    "\n",
    "$\\hat{L}_{\\kappa}^N(\\theta) \\geq \\kappa(\\hat{J}^N (\\theta))$,\n",
    "\n",
    "which means we do not have to calculate $\\kappa(\\Delta_{\\theta})$ for each sample, but instead calculate the empirical expectation over the discrepancies $E^N[\\Delta_{\\theta}]$ and apply $\\kappa$ only once."
   ]
  },
  {
   "cell_type": "markdown",
   "metadata": {},
   "source": [
    "Since $\\kappa$ is maximum at zero, the lower bound is maximized by minimizing the conditional empirical expectation $\\hat{J}^N (\\theta)$"
   ]
  },
  {
   "cell_type": "markdown",
   "metadata": {},
   "source": [
    "A popular choice for $\\kappa$ is a uniform kernel $\\kappa = \\kappa_u$ which lead to the approximate likelihood $\\hat{L}_u^N$\n",
    "\n",
    "$\\kappa_u(u) = c\\chi_{[0,h)}(u), \\quad \\hat{L}_u^N (\\theta) = cP^N(\\Delta_{\\theta} < h)$,\n",
    "\n",
    "where the indicator function $\\chi$ equals one if $u \\in [0,h)$ and zero otherwise. $c$ is a scaling parameter and does not depend on $\\theta$ and $h$ is the bandwidth  of the kernel and acts as acceptance/rejection threshold."
   ]
  },
  {
   "cell_type": "markdown",
   "metadata": {},
   "source": [
    "A lower bound for $\\hat{L}_u^N$ is given by:\n",
    "\n",
    "$\\hat{L}_u^N(\\theta) = c[1 - P^N(\\Delta_{\\theta}^u \\geq h] \\geq c[1 - \\cfrac{1}{h}E^N[\\Delta_{\\theta}]] = c[1 - \\cfrac{1}{h} \\hat{J}^N(\\theta)]$,\n",
    "\n",
    "so again, minimizing $\\hat{J}^N(\\theta)$ maximizies the likelihood $\\hat{L}_u^N(\\theta$"
   ]
  },
  {
   "cell_type": "markdown",
   "metadata": {},
   "source": [
    "## Relation between Nonparametric and Parametric Approximation"
   ]
  },
  {
   "cell_type": "markdown",
   "metadata": {},
   "source": [
    "A special choice of Kernel allows us to embed the synthetic likelihood approch into the nonparametric approach"
   ]
  },
  {
   "cell_type": "markdown",
   "metadata": {},
   "source": [
    "For the Gaussian kernel, we have that $K(\\Phi_i, \\Phi_{\\theta}) = K_g(\\Phi_o - \\Phi_{\\theta})$,\n",
    "\n",
    "$K_g(\\Phi_o - \\Phi_{\\theta}) = \\cfrac{1}{(2\\pi)^{p/2}} \\cfrac{1}{|\\det C_{\\theta}|^{1/2}} \\exp \\left( -\\cfrac{(\\Phi_o - \\Phi_{\\theta})^T C^{-1}_{\\theta} (\\Phi_0 - \\Phi_{\\theta})}{2} \\right)$,\n",
    "\n",
    "where $C_{\\theta}$ is a positive definite bandwith matrix possibly depending on $\\theta$. The kernel $K_g$ corresponds to $\\kappa = \\kappa_g$ and $\\Delta_{\\theta} = \\Delta_{\\theta}^g$,\n",
    "\n",
    "$\\kappa_g(u) = \\cfrac{1}{(2\\pi)^{p/2}} \\exp(-\\cfrac{u}{2}), \\quad \\Delta_{\\theta}^g = \\log|\\det C_{\\theta}| + (\\Phi_o - \\Phi_{\\theta})^T C^{-1}_{\\theta} (\\Phi_0 - \\Phi_{\\theta})$"
   ]
  },
  {
   "cell_type": "markdown",
   "metadata": {},
   "source": [
    "The function $\\kappa_g$ is convex and thus yields a lower bound for $\\hat{L}^N(\\theta)=\\hat{L}_g^N(\\theta)$\n",
    "\n",
    "$\\hat{J}_g^N(\\theta) = E^N[\\Delta_{\\theta}^g] \\Rightarrow \\log \\hat{L}_g^N(\\theta) \\geq \\log \\kappa_g(\\hat{J}_g^N(\\theta)) = -\\cfrac{p}{2} \\log(2\\pi) - \\cfrac{1}{2}\\hat{J}_g^N(\\theta)$"
   ]
  },
  {
   "cell_type": "markdown",
   "metadata": {},
   "source": [
    "Now it can be shown that with $C_{\\theta} = \\hat{\\Sigma}_{\\theta}$ we can approximate the synthetic likelihood $\\hat{l}_s^N(\\theta)$ (which is not necessary for BOLFI but a nice to have for the relation between the two approaches):\n",
    "\n",
    "$\\hat{l}_s^N(\\theta) = \\cfrac{p}{2} - \\cfrac{p}{2}\\log(2\\pi) - \\cfrac{1}{2}\\hat{J}_g^N(\\theta)$,\n",
    "\n",
    "$\\log \\hat{L}_g^N(\\theta) \\geq -\\cfrac{p}{2} + \\hat{l}_s^N(\\theta)$.\n",
    "\n",
    "This shows that maximizing the synthetic log likelihood $\\hat{l}_s^N$ corresponds to maximizing a lower bound of a nonparametric approximation of the log likelihood $\\hat{L}_g^N$"
   ]
  },
  {
   "cell_type": "markdown",
   "metadata": {},
   "source": [
    "## From sample average to regression based approximations"
   ]
  },
  {
   "cell_type": "markdown",
   "metadata": {},
   "source": [
    "Until now we have seen two ways to approximate the likelihood function $\\hat{L}$, that is parametric approximation $\\hat{L}_s^N = \\exp(\\hat{l}_s^N)$ or nonparamteric approximation $\\hat{L}_{\\kappa}^N$."
   ]
  },
  {
   "cell_type": "markdown",
   "metadata": {},
   "source": [
    "$\\hat{L}_{\\kappa}(\\theta) = E[\\kappa(\\Delta_{\\theta})]$ has a natural interpretation as a regression function where the model parameters $\\theta$ are the covariates and $\\kappa(\\Delta_{\\theta})$ is the response variable. The expectation can thus also be approximated by solving a regression problem. The same holds for $\\hat{J}^N$ where we had seen that $J(\\theta)=E[\\Delta_{\\theta}]$. Here $\\Delta_{\\theta}$ is the response variable."
   ]
  },
  {
   "cell_type": "markdown",
   "metadata": {},
   "source": [
    "Inferring $J(\\theta)$ via regression requires training data in the form or tuples $(\\theta^{(i)}, \\Delta_{\\theta}^{(i)})$, that is a sample $\\theta$ and the corresponding discrepancy measure $\\Delta_{\\theta}$. As we are only interested in areas of $\\theta$ for which $\\Delta_{\\theta}$ is small, we propose to perform regression and optimization at the same time."
   ]
  },
  {
   "cell_type": "markdown",
   "metadata": {},
   "source": [
    "We first sample some evidence $\\epsilon^{(t)}$ of the relation between $\\theta$ and $\\Delta_{\\theta}$\n",
    "\n",
    "$\\epsilon^{(t)} = \\{ (\\theta^{(1)}, \\Delta_{\\theta}^{(1)}), \\ldots, (\\theta^{(t)},\\Delta_{\\theta}^{(t)}) \\}$.\n",
    "\n",
    "We use this evidence to obtain an estimate $\\hat{J}$ of $J$ via regression. The estimated $\\hat{J}$ and some measurement of uncertainty about it can then be used to produce a new guess about the potential location of the minimizer. The number of iterations $t=T$ has to be chosen in some way."
   ]
  },
  {
   "cell_type": "markdown",
   "metadata": {},
   "source": [
    "### Brief Introduction to Bayesian Optimization"
   ]
  },
  {
   "cell_type": "markdown",
   "metadata": {},
   "source": [
    "BO comprises a set of methods to minimize a black-box function $f(\\theta)$. With black-box we mean a function we can evaluate but whose form and gradients are unknown (hence no optimization based on gradient-descent is possible). The basic idea is to use a probabilistic model of $f$ to select points where the objective is evaluated, and to use the obtained values to update the model by Bayes' theorem."
   ]
  },
  {
   "cell_type": "markdown",
   "metadata": {},
   "source": [
    "The objective $f$ is modeled as a Gaussian process: We assume that $f$ is a GP with prior mean function $m(\\theta)$ and covariacne function $k(\\theta,\\theta')$ subject to additive Gaussian observation noise with variance $\\sigma_n^2$.\n",
    "\n",
    "The joint distribution of $f$ and any t points $\\theta^{(1)}, \\ldots, \\theta^{(t)}$ is thus asssumed Gaussian with mean $m_t$ and covariance $K_t$:\n",
    "\n",
    "$(f^{(1)}, \\ldots, f^{(t)})^T \\sim \\mathcal{N}(m_t, K_t)$\n",
    "\n",
    "$m_t = \\begin{pmatrix} m(\\theta^{(1)}) \\\\ \\vdots \\\\ m(\\theta^{(t)}) \\end{pmatrix}, \\quad K_t = \\begin{pmatrix} k(\\theta^{(1)}, \\theta^{(1)}) & \\ldots & k(\\theta^{(1)}, \\theta^{(t)}) \\\\ \\vdots & & \\vdots \\\\ k(\\theta^{(t)}, \\theta^{(1)}) & \\ldots & k(\\theta^{(t)},\\theta^{(t)}) \\end{pmatrix} + \\sigma_n^2 I_t$.\n",
    "\n",
    "We use $f^{(i)}=f(\\theta^{(i)})$ and $I_t$ is a $t\\times t$ identity matrix.\n",
    "\n",
    "We assume $m(\\theta)$ is either a constant or a sum of convex quadratic polynomials in the elements $\\theta_j$ of $\\theta$ and $k(\\theta,\\theta')$ is a squared exponential covariance function.\n",
    "\n",
    "$m(\\theta) = \\sum_j \\alpha_j\\theta_j^2+b_j\\theta_j+c, \\quad k(\\theta, \\theta') = \\sigma_f^2\\exp(\\sum_j \\cfrac{1}{\\lambda_j^2}(\\theta_j - \\theta_j')^2)$\n",
    "\n",
    "$sigma_f^2$ is the signal variance (?) and $\\lambda_j$ are the characteristic lenth scales, which control the amount of correlation between $f(\\theta)$ and $f(\\theta')$"
   ]
  },
  {
   "cell_type": "markdown",
   "metadata": {},
   "source": [
    "The quantities $a_j, b_j, c, \\sigma_f^2, \\lambda_j$ and $\\sigma_n^2$ are hyperparameters. They have to be learned and updated in some way (for example by maximizing the leave-one-out log predictive probability)"
   ]
  },
  {
   "cell_type": "markdown",
   "metadata": {},
   "source": [
    "Given evidence $\\epsilon^{(t)}$ the posterior pdf $f$ at a point $\\theta$ is Gaussian with posterior mean $\\mu_t(\\theta)$ and posterior variance $v_t(\\theta) + \\sigma_n^2$\n",
    "\n",
    "$f(\\theta)|\\epsilon_f^{(t)} \\sim \\mathcal{N}(\\mu_t(\\theta), v_t(\\theta) + \\sigma_n^2)$, \n",
    "\n",
    "with\n",
    "\n",
    "$\\mu_t(\\theta) = m(\\theta) + k_t(\\theta)^TK_t^{-1}(f_t - m_t), \\quad v_t(\\theta) = k(\\theta,\\theta) - k_t(\\theta)^TK_t^{-1}k_t(\\theta)$\n",
    "\n",
    "$f_t = (f^{(1)}, \\ldots, f^{(t)})^T, \\quad k_t = (k(\\theta, \\theta^{(1)}), \\ldots, k(\\theta, \\theta^{(t)}))^T$"
   ]
  },
  {
   "cell_type": "markdown",
   "metadata": {},
   "source": [
    "The evidence set can be augmented by selecting a new point $\\theta^{(t+1)}$ where $f$ is next evaluated. The point is chosen based on the posterior distribution of $f$ given $\\epsilon^{(t)}$. We can use an acquisition function $A_t(\\theta)$\n",
    "\n",
    "$A_t(\\theta)=\\mu_t(\\theta) - \\sqrt{\\eta_t^2 v_t(\\theta)}$,\n",
    "\n",
    "which is known as the lower confidence bound selection criterion and resembles a compromise between exploration and exploitation. \n",
    "\n",
    "$\\eta_t^2= 2 \\log[t^{d/2+2}\\pi^2/(3\\epsilon_n)], \\epsilon_n = 0.1$"
   ]
  },
  {
   "cell_type": "markdown",
   "metadata": {},
   "source": [
    "Employing a stochastic acquisition rule avoids getting stuck at one point. We used a simple heuristigc that $\\theta^{(t+1)}$ is sampled from a Gaussian with diagonal covariance matrix and mean equal to the minimizer of the acquisition function."
   ]
  },
  {
   "cell_type": "markdown",
   "metadata": {},
   "source": [
    "### Inferring the Regression Function of the Discrepancies"
   ]
  },
  {
   "cell_type": "markdown",
   "metadata": {},
   "source": [
    "Letting $f(\\theta)=\\Delta_{\\theta}$, BO yields immediately an estimate of $J(\\theta)$. One could also work with $f = \\log \\Delta_{\\theta}$.\n",
    "\n",
    "$\\hat{J}^{(t)}(\\theta) = \\begin{cases} \\mu_t(\\theta) \\quad \\text{if } f(\\theta)=\\Delta_{\\theta} \\\\ \\exp(\\mu_t(\\theta) + \\cfrac{1}{2}(v_t(\\theta) + \\sigma_n^2)) \\quad \\text{if } f(\\theta) = \\log \\Delta_{\\theta} \\end{cases}$"
   ]
  },
  {
   "cell_type": "markdown",
   "metadata": {},
   "source": [
    "![](img/bolfi.png)"
   ]
  },
  {
   "cell_type": "markdown",
   "metadata": {},
   "source": [
    "BO yields a probabilistic model for the discrepancy $\\Delta_{\\theta}$. As discussed earlier, we can use this model to obtain the computable likelihood approximation $\\hat{L}_u^{(t)}$.\n",
    "\n",
    "$\\hat{L}_u^{(t)}(\\theta) \\propto \\begin{cases} F\\left(\\cfrac{h - \\mu_t(\\theta)}{\\sqrt{v_t(\\theta) + \\sigma_n^2}}\\right) \\quad \\text{if } f(\\theta) = \\Delta_{\\theta} \\\\ F\\left(\\cfrac{\\log h - \\mu_t(\\theta)}{\\sqrt{v_t(\\theta) + \\sigma_n^2}}\\right)  \\quad \\text{if } f(\\theta) = \\log \\Delta_{\\theta} \\end{cases}$"
   ]
  },
  {
   "cell_type": "markdown",
   "metadata": {},
   "source": [
    "# What do we need?"
   ]
  },
  {
   "cell_type": "markdown",
   "metadata": {},
   "source": [
    "according to Example 11\n",
    "1. gather initial evidence set, e.g. 10 points $\\epsilon^{(10)}=\\{(\\theta^{(i)}, \\Delta_{\\theta}^{(i)}\\}$\n",
    "2. Define mean and covariance function (we use quadratic polynomial mean and exponential covariance) $m_t(\\theta), k(\\theta, \\theta')$\n",
    "3. Use Gaussian process to\n",
    "  1. compute $m_t, K_t, f_t$ from the data in the evidence set\n",
    "  2. define posterior distribution governed by $\\mu_t(\\theta), v_t(\\theta)$ as functions of $\\theta$\n",
    "  3. define acquistion function $A_t(\\theta) = \\mu_t(\\theta) - \\sqrt{\\eta_t^2v_t(\\theta)}$\n",
    "  4. Find minimum of the acquisition function so that $\\theta^{*} = \\arg \\min_{\\theta} A_t(\\theta)$ and stochastic acquisition rule $\\theta^{(t+1)} \\sim \\mathcal{N}(\\theta^{*}, \\Sigma_{A_t})$\n",
    "  5. previous step might made it necessary to determine $\\Sigma_{A_t}$ as the end points of the interval where the acquisition function is within a certain tolerance or just use constants\n",
    "4. repeat step 3 until the evidence set $\\epsilon^{(t)}$ has reached the wanted number of data points, e.g. $T=50$\n",
    "5. Use cdf $F$ to compute the approximate likelihood function $\\hat{L}_u^{(t)}$ for the evidence set\n"
   ]
  },
  {
   "cell_type": "markdown",
   "metadata": {},
   "source": [
    "open Questions: \n",
    "1. How to sample first data points for evidence set? Use a prior function? Think so\n",
    "2. How to optimize the hyperparameters $a_j, b_j, c, \\sigma_f^2, \\lambda_j$ and $\\sigma_n^2$? In the paper there was mentioned a method leave-one-out predictive log probability?\n",
    "3. How to minize $A_t$? Use optimizer from scipy/sklearn\n",
    "\n",
    "Possible answers:\n",
    "1. Gutmann: The algorithm was initialized with an evidence set E where the parameters θ(1), . . . ,θ(t0) (t0) were chosen as a Sobol quasi-random sequence (see,for example, Niederreiter, 1988)\n",
    "2. Maybe the Bayesian Optimization packages provide methods to do this.\n",
    "3. Python Package"
   ]
  },
  {
   "cell_type": "markdown",
   "metadata": {},
   "source": [
    "Steps 2 and 3 could be replaced by using one of the available Python packages for Bayesian Optimization. I would recommend GPyOpt (https://github.com/SheffieldML/GPyOpt) by Neil Lawrence's team, since it seems to be the best maintained one. Another option would be BayesianOptimization (https://github.com/fmfn/BayesianOptimization) by Ryan Adams and Jasper Snoek."
   ]
  },
  {
   "cell_type": "markdown",
   "metadata": {},
   "source": [
    "# Implementation"
   ]
  },
  {
   "cell_type": "code",
   "execution_count": 2,
   "metadata": {
    "collapsed": false
   },
   "outputs": [
    {
     "name": "stdout",
     "output_type": "stream",
     "text": [
      "Populating the interactive namespace from numpy and matplotlib\n"
     ]
    }
   ],
   "source": [
    "%pylab inline\n",
    "import GPyOpt\n",
    "import GPy\n",
    "import numpy as np\n",
    "import pylab as plt\n",
    "import os\n",
    "import sys\n",
    "sys.path.append(os.path.abspath(os.path.join('..')))\n",
    "import acm2017_pyabc\n",
    "import scipy.stats as ss"
   ]
  },
  {
   "cell_type": "markdown",
   "metadata": {},
   "source": [
    "We want to use $f(\\theta)=\\Delta_{\\theta}$ so we have to define $f$ in a way that it becomes a $\\theta$ and delivers a discrepancy....that means f has to sample data, caluclate summary statistics and apply the discrepancy measure"
   ]
  },
  {
   "cell_type": "code",
   "execution_count": 3,
   "metadata": {
    "collapsed": true
   },
   "outputs": [],
   "source": [
    "mu0 = 3.5\n",
    "y0 = np.random.normal(mu0, 1, 10)"
   ]
  },
  {
   "cell_type": "code",
   "execution_count": 4,
   "metadata": {
    "collapsed": true
   },
   "outputs": [],
   "source": [
    "def prior():\n",
    "    return np.array(np.random.uniform(0,5)).reshape(1,1)"
   ]
  },
  {
   "cell_type": "code",
   "execution_count": 5,
   "metadata": {
    "collapsed": true
   },
   "outputs": [],
   "source": [
    "def simulator(mu):\n",
    "    return np.random.normal(mu.flatten(), 1, 10)"
   ]
  },
  {
   "cell_type": "code",
   "execution_count": 6,
   "metadata": {
    "collapsed": true
   },
   "outputs": [],
   "source": [
    "def summary_stat(X):\n",
    "    return np.mean(X)"
   ]
  },
  {
   "cell_type": "code",
   "execution_count": 7,
   "metadata": {
    "collapsed": true
   },
   "outputs": [],
   "source": [
    "def discrepancy(phi0,phi):\n",
    "    return np.power((phi0 - phi),2)"
   ]
  },
  {
   "cell_type": "code",
   "execution_count": 8,
   "metadata": {
    "collapsed": true
   },
   "outputs": [],
   "source": [
    "def f(theta):\n",
    "    Y = simulator(theta)\n",
    "    y = summary_stat(Y)\n",
    "    x = summary_stat(y0)\n",
    "    return discrepancy(x, y)"
   ]
  },
  {
   "cell_type": "code",
   "execution_count": 9,
   "metadata": {
    "collapsed": false
   },
   "outputs": [
    {
     "data": {
      "text/plain": [
       "0.097473155363261579"
      ]
     },
     "execution_count": 9,
     "metadata": {},
     "output_type": "execute_result"
    }
   ],
   "source": [
    "f(np.array([[3.5]]))"
   ]
  },
  {
   "cell_type": "code",
   "execution_count": 10,
   "metadata": {
    "collapsed": false
   },
   "outputs": [
    {
     "data": {
      "text/plain": [
       "[(array([[ 2.77179748]]), 0.56699163698520538),\n",
       " (array([[ 3.83107673]]), 0.65349411164542603),\n",
       " (array([[ 3.94868518]]), 0.040945690169557243),\n",
       " (array([[ 0.46011242]]), 9.2097483083593108),\n",
       " (array([[ 0.96614303]]), 5.1257183166672409),\n",
       " (array([[ 1.46034705]]), 2.7843409007250095),\n",
       " (array([[ 1.77720372]]), 2.518595813580061),\n",
       " (array([[ 2.11908912]]), 1.7149396428539774),\n",
       " (array([[ 1.79369364]]), 3.3189971508873861),\n",
       " (array([[ 2.38153602]]), 0.93784603417228873)]"
      ]
     },
     "execution_count": 10,
     "metadata": {},
     "output_type": "execute_result"
    }
   ],
   "source": [
    "# initial evidence set\n",
    "evidence = []\n",
    "for _ in range(10):\n",
    "    theta = prior()\n",
    "    evidence.append((theta, f(theta)))\n",
    "    \n",
    "evidence"
   ]
  },
  {
   "cell_type": "code",
   "execution_count": 11,
   "metadata": {
    "collapsed": true
   },
   "outputs": [],
   "source": [
    "space =[{'name': 'mean', 'type': 'continuous', 'domain': (-5,5)}]"
   ]
  },
  {
   "cell_type": "code",
   "execution_count": 12,
   "metadata": {
    "collapsed": false
   },
   "outputs": [
    {
     "data": {
      "text/plain": [
       "(array([[ 2.77179748],\n",
       "        [ 3.83107673],\n",
       "        [ 3.94868518],\n",
       "        [ 0.46011242],\n",
       "        [ 0.96614303],\n",
       "        [ 1.46034705],\n",
       "        [ 1.77720372],\n",
       "        [ 2.11908912],\n",
       "        [ 1.79369364],\n",
       "        [ 2.38153602]]), array([[ 0.56699164],\n",
       "        [ 0.65349411],\n",
       "        [ 0.04094569],\n",
       "        [ 9.20974831],\n",
       "        [ 5.12571832],\n",
       "        [ 2.7843409 ],\n",
       "        [ 2.51859581],\n",
       "        [ 1.71493964],\n",
       "        [ 3.31899715],\n",
       "        [ 0.93784603]]))"
      ]
     },
     "execution_count": 12,
     "metadata": {},
     "output_type": "execute_result"
    }
   ],
   "source": [
    "X = np.array([x for x, _ in evidence]).reshape(10,1)\n",
    "Y = np.array([y for _, y in evidence]).reshape(10,1)\n",
    "X,Y # has to be one input per row"
   ]
  },
  {
   "cell_type": "code",
   "execution_count": 13,
   "metadata": {
    "collapsed": true
   },
   "outputs": [],
   "source": [
    "# ATTENTION: Need to install pip install sobol or sobol_seq (maybe last suffices)\n",
    "myBopt = GPyOpt.methods.BayesianOptimization(f=f,            # function to optimize       \n",
    "                                             domain=space,        # box-constrains of the problem\n",
    "                                             acquisition_type='EI',\n",
    "                                             exact_feval=True,\n",
    "                                             model_type='GP',\n",
    "                                             num_cores=-1,\n",
    "                                             initial_design_numdata=10,\n",
    "                                             initial_design_type='sobol') # Selects the Expected improvement"
   ]
  },
  {
   "cell_type": "code",
   "execution_count": 14,
   "metadata": {
    "collapsed": true
   },
   "outputs": [],
   "source": [
    "# Run the optimization\n",
    "# rerun to update the model! So each time you run this cell the model draws the next 30 points! Good for stepwise optimization!\n",
    "max_iter = 30    # evaluation budget\n",
    "max_time = 60     # time budget \n",
    "eps      = 10e-6  # Minimum allows distance between the las two observations\n",
    "\n",
    "myBopt.run_optimization(max_iter, max_time, eps)  "
   ]
  },
  {
   "cell_type": "code",
   "execution_count": 15,
   "metadata": {
    "collapsed": false
   },
   "outputs": [
    {
     "data": {
      "image/png": "[encoded data removed]",
      "text/plain": [
       "<matplotlib.figure.Figure at 0x7f45ea3474e0>"
      ]
     },
     "metadata": {},
     "output_type": "display_data"
    }
   ],
   "source": [
    "myBopt.plot_acquisition()"
   ]
  },
  {
   "cell_type": "code",
   "execution_count": 16,
   "metadata": {
    "collapsed": false
   },
   "outputs": [
    {
     "data": {
      "image/png": "[encoded data removed]",
      "text/plain": [
       "<matplotlib.figure.Figure at 0x7f45c56a2da0>"
      ]
     },
     "metadata": {},
     "output_type": "display_data"
    }
   ],
   "source": [
    "myBopt.plot_convergence()"
   ]
  },
  {
   "cell_type": "code",
   "execution_count": 17,
   "metadata": {
    "collapsed": true
   },
   "outputs": [],
   "source": [
    "myBopt.save_report(\"test\")"
   ]
  },
  {
   "cell_type": "code",
   "execution_count": 18,
   "metadata": {
    "collapsed": false
   },
   "outputs": [
    {
     "data": {
      "text/plain": [
       "array([ 3.87716844])"
      ]
     },
     "execution_count": 18,
     "metadata": {},
     "output_type": "execute_result"
    }
   ],
   "source": [
    "myBopt.x_opt"
   ]
  },
  {
   "cell_type": "code",
   "execution_count": 19,
   "metadata": {
    "collapsed": false
   },
   "outputs": [
    {
     "data": {
      "text/plain": [
       "array([ 0.00060061])"
      ]
     },
     "execution_count": 19,
     "metadata": {},
     "output_type": "execute_result"
    }
   ],
   "source": [
    "myBopt.fx_opt"
   ]
  },
  {
   "cell_type": "code",
   "execution_count": 20,
   "metadata": {
    "collapsed": true
   },
   "outputs": [],
   "source": [
    "# now get the likelihood -> mean and var of the posterior f(theta)|epsilon ~ N(mu_t, v_t)\n",
    "X,Y = myBopt.get_evaluations()"
   ]
  },
  {
   "cell_type": "code",
   "execution_count": 21,
   "metadata": {
    "collapsed": false
   },
   "outputs": [
    {
     "data": {
      "text/plain": [
       "(40, 1)"
      ]
     },
     "execution_count": 21,
     "metadata": {},
     "output_type": "execute_result"
    }
   ],
   "source": [
    "myBopt.Y.shape"
   ]
  },
  {
   "cell_type": "code",
   "execution_count": 22,
   "metadata": {
    "collapsed": false
   },
   "outputs": [
    {
     "data": {
      "text/plain": [
       "(['Mat52.variance', 'Mat52.lengthscale', 'Gaussian_noise.variance'],\n",
       " array([[  1.51795792e+00,   4.06179265e-01,   1.00000000e-06]]))"
      ]
     },
     "execution_count": 22,
     "metadata": {},
     "output_type": "execute_result"
    }
   ],
   "source": [
    "myBopt.model.get_model_parameters_names(), myBopt.model.get_model_parameters()"
   ]
  },
  {
   "cell_type": "code",
   "execution_count": 23,
   "metadata": {
    "collapsed": false
   },
   "outputs": [
    {
     "data": {
      "text/html": [
       "<style type=\"text/css\">\n",
       ".pd{\n",
       "    font-family: \"Courier New\", Courier, monospace !important;\n",
       "    width: 100%;\n",
       "    padding: 3px;\n",
       "}\n",
       "</style>\n",
       "\n",
       "<p class=pd>\n",
       "<b>Model</b>: GP regression<br>\n",
       "<b>Objective</b>: 27.9400981797829<br>\n",
       "<b>Number of Parameters</b>: 3<br>\n",
       "<b>Number of Optimization Parameters</b>: 2<br>\n",
       "<b>Updates</b>: True<br>\n",
       "</p>\n",
       "<style type=\"text/css\">\n",
       ".tg  {font-family:\"Courier New\", Courier, monospace !important;padding:2px 3px;word-break:normal;border-collapse:collapse;border-spacing:0;border-color:#DCDCDC;margin:0px auto;width:100%;}\n",
       ".tg td{font-family:\"Courier New\", Courier, monospace !important;font-weight:bold;color:#444;background-color:#F7FDFA;border-style:solid;border-width:1px;overflow:hidden;word-break:normal;border-color:#DCDCDC;}\n",
       ".tg th{font-family:\"Courier New\", Courier, monospace !important;font-weight:normal;color:#fff;background-color:#26ADE4;border-style:solid;border-width:1px;overflow:hidden;word-break:normal;border-color:#DCDCDC;}\n",
       ".tg .tg-left{font-family:\"Courier New\", Courier, monospace !important;font-weight:normal;text-align:left;}\n",
       ".tg .tg-center{font-family:\"Courier New\", Courier, monospace !important;font-weight:normal;text-align:center;}\n",
       ".tg .tg-right{font-family:\"Courier New\", Courier, monospace !important;font-weight:normal;text-align:right;}\n",
       "</style>\n",
       "<table class=\"tg\"><tr><th><b>  GP_regression.         </b></th><th><b>         value</b></th><th><b>constraints</b></th><th><b>priors</b></th></tr>\n",
       "<tr><td class=tg-left>  Mat52.variance         </td><td class=tg-right> 1.51795791994</td><td class=tg-center>    +ve    </td><td class=tg-center>      </td></tr>\n",
       "<tr><td class=tg-left>  Mat52.lengthscale      </td><td class=tg-right>0.406179264786</td><td class=tg-center>    +ve    </td><td class=tg-center>      </td></tr>\n",
       "<tr><td class=tg-left>  Gaussian_noise.variance</td><td class=tg-right>         1e-06</td><td class=tg-center> fixed +ve </td><td class=tg-center>      </td></tr>\n",
       "</table>"
      ],
      "text/plain": [
       "<GPy.models.gp_regression.GPRegression at 0x7f45c76f9518>"
      ]
     },
     "execution_count": 23,
     "metadata": {},
     "output_type": "execute_result"
    }
   ],
   "source": [
    "myBopt.model.model"
   ]
  },
  {
   "cell_type": "code",
   "execution_count": 24,
   "metadata": {
    "collapsed": false
   },
   "outputs": [
    {
     "data": {
      "text/html": [
       "<style type=\"text/css\">\n",
       ".tg  {font-family:\"Courier New\", Courier, monospace !important;padding:2px 3px;word-break:normal;border-collapse:collapse;border-spacing:0;border-color:#DCDCDC;margin:0px auto;width:100%;}\n",
       ".tg td{font-family:\"Courier New\", Courier, monospace !important;font-weight:bold;color:#444;background-color:#F7FDFA;border-style:solid;border-width:1px;overflow:hidden;word-break:normal;border-color:#DCDCDC;}\n",
       ".tg th{font-family:\"Courier New\", Courier, monospace !important;font-weight:normal;color:#fff;background-color:#26ADE4;border-style:solid;border-width:1px;overflow:hidden;word-break:normal;border-color:#DCDCDC;}\n",
       ".tg .tg-left{font-family:\"Courier New\", Courier, monospace !important;font-weight:normal;text-align:left;}\n",
       ".tg .tg-center{font-family:\"Courier New\", Courier, monospace !important;font-weight:normal;text-align:center;}\n",
       ".tg .tg-right{font-family:\"Courier New\", Courier, monospace !important;font-weight:normal;text-align:right;}\n",
       "</style>\n",
       "<table class=\"tg\"><tr><th><b>  Mat52.     </b></th><th><b>         value</b></th><th><b>constraints</b></th><th><b>priors</b></th></tr>\n",
       "<tr><td class=tg-left>  variance   </td><td class=tg-right> 1.51795791994</td><td class=tg-center>    +ve    </td><td class=tg-center>      </td></tr>\n",
       "<tr><td class=tg-left>  lengthscale</td><td class=tg-right>0.406179264786</td><td class=tg-center>    +ve    </td><td class=tg-center>      </td></tr>\n",
       "</table>"
      ],
      "text/plain": [
       "<GPy.kern.src.stationary.Matern52 at 0x7f45ea3479e8>"
      ]
     },
     "execution_count": 24,
     "metadata": {},
     "output_type": "execute_result"
    }
   ],
   "source": [
    " myBopt.model.model.Mat52 #length scale are the lambdas of the kernel, variance is the variance of the kernel like in the paper"
   ]
  },
  {
   "cell_type": "code",
   "execution_count": 295,
   "metadata": {
    "collapsed": false
   },
   "outputs": [
    {
     "data": {
      "text/html": [
       "<style type=\"text/css\">\n",
       ".tg  {font-family:\"Courier New\", Courier, monospace !important;padding:2px 3px;word-break:normal;border-collapse:collapse;border-spacing:0;border-color:#DCDCDC;margin:0px auto;width:100%;}\n",
       ".tg td{font-family:\"Courier New\", Courier, monospace !important;font-weight:bold;color:#444;background-color:#F7FDFA;border-style:solid;border-width:1px;overflow:hidden;word-break:normal;border-color:#DCDCDC;}\n",
       ".tg th{font-family:\"Courier New\", Courier, monospace !important;font-weight:normal;color:#fff;background-color:#26ADE4;border-style:solid;border-width:1px;overflow:hidden;word-break:normal;border-color:#DCDCDC;}\n",
       ".tg .tg-left{font-family:\"Courier New\", Courier, monospace !important;font-weight:normal;text-align:left;}\n",
       ".tg .tg-center{font-family:\"Courier New\", Courier, monospace !important;font-weight:normal;text-align:center;}\n",
       ".tg .tg-right{font-family:\"Courier New\", Courier, monospace !important;font-weight:normal;text-align:right;}\n",
       "</style>\n",
       "<table class=\"tg\"><tr><th><b>  Gaussian_noise.</b></th><th><b>value</b></th><th><b>constraints</b></th><th><b>priors</b></th></tr>\n",
       "<tr><td class=tg-left>  variance       </td><td class=tg-right>1e-06</td><td class=tg-center> +ve fixed </td><td class=tg-center>      </td></tr>\n",
       "</table>"
      ],
      "text/plain": [
       "<GPy.likelihoods.gaussian.Gaussian at 0x7f312266c9e8>"
      ]
     },
     "execution_count": 295,
     "metadata": {},
     "output_type": "execute_result"
    }
   ],
   "source": [
    "myBopt.model.model.Gaussian_noise # the signal noise which is added to the kernel matrix"
   ]
  },
  {
   "cell_type": "code",
   "execution_count": 296,
   "metadata": {
    "collapsed": false
   },
   "outputs": [
    {
     "data": {
      "text/plain": [
       "<matplotlib.axes._subplots.AxesSubplot at 0x7f3122931eb8>"
      ]
     },
     "execution_count": 296,
     "metadata": {},
     "output_type": "execute_result"
    },
    {
     "data": {
      "image/png": "[encoded data removed]",
      "text/plain": [
       "<matplotlib.figure.Figure at 0x7f312266cbe0>"
      ]
     },
     "metadata": {},
     "output_type": "display_data"
    }
   ],
   "source": [
    "myBopt.model.model.plot_samples()"
   ]
  },
  {
   "cell_type": "code",
   "execution_count": 297,
   "metadata": {
    "collapsed": false
   },
   "outputs": [
    {
     "data": {
      "text/plain": [
       "<matplotlib.axes._subplots.AxesSubplot at 0x7f3122755400>"
      ]
     },
     "execution_count": 297,
     "metadata": {},
     "output_type": "execute_result"
    },
    {
     "data": {
      "image/png": "[encoded data removed]",
      "text/plain": [
       "<matplotlib.figure.Figure at 0x7f31229264e0>"
      ]
     },
     "metadata": {},
     "output_type": "display_data"
    }
   ],
   "source": [
    "myBopt.model.model.plot()"
   ]
  },
  {
   "cell_type": "code",
   "execution_count": 298,
   "metadata": {
    "collapsed": false
   },
   "outputs": [
    {
     "data": {
      "text/plain": [
       "<matplotlib.axes._subplots.AxesSubplot at 0x7f3122960c18>"
      ]
     },
     "execution_count": 298,
     "metadata": {},
     "output_type": "execute_result"
    },
    {
     "data": {
      "image/png": "[encoded data removed]",
      "text/plain": [
       "<matplotlib.figure.Figure at 0x7f31228bac88>"
      ]
     },
     "metadata": {},
     "output_type": "display_data"
    }
   ],
   "source": [
    "myBopt.model.model.plot_mean()"
   ]
  },
  {
   "cell_type": "code",
   "execution_count": 299,
   "metadata": {
    "collapsed": true
   },
   "outputs": [],
   "source": [
    "myBopt.model.model.mean_function"
   ]
  },
  {
   "cell_type": "code",
   "execution_count": 121,
   "metadata": {
    "collapsed": true
   },
   "outputs": [],
   "source": [
    "# rebuild posterior\n",
    "# mean is set to zero?\n",
    "thetas, f_values = myBopt.get_evaluations()"
   ]
  },
  {
   "cell_type": "code",
   "execution_count": 138,
   "metadata": {
    "collapsed": true
   },
   "outputs": [],
   "source": [
    "K = myBopt.model.model.kern.K(thetas)\n",
    "k = lambda x: myBopt.model.model.kern.K(x, thetas)"
   ]
  },
  {
   "cell_type": "code",
   "execution_count": 151,
   "metadata": {
    "collapsed": false
   },
   "outputs": [
    {
     "data": {
      "text/plain": [
       "array([[ 4.47329154,  4.18353668,  2.66388073,  3.64012268,  3.2469205 ,\n",
       "         4.71871841,  1.81098851,  2.21342706,  4.53202788,  2.75866195,\n",
       "         2.29999126,  3.36171876,  3.32142063,  3.30873683,  3.39936454,\n",
       "         3.84125518,  3.41039334,  3.47419525,  2.97998486,  2.97116307,\n",
       "         3.63142409,  2.65876492,  3.11474732,  3.92854836,  3.32348525,\n",
       "         3.32114519,  3.31719795,  3.31004039,  3.29227638,  3.1494487 ,\n",
       "         3.14684034,  3.14117288,  3.13486267,  3.35011927,  3.37358909,\n",
       "         3.3900419 ,  3.36958673,  3.33789879,  3.21127641,  3.20480981]])"
      ]
     },
     "execution_count": 151,
     "metadata": {},
     "output_type": "execute_result"
    }
   ],
   "source": [
    "k(np.array([[1]]))"
   ]
  },
  {
   "cell_type": "code",
   "execution_count": 135,
   "metadata": {
    "collapsed": false
   },
   "outputs": [
    {
     "data": {
      "text/plain": [
       "[\u001b[1mGP_regression.Mat52.variance\u001b[0;0m:\n",
       " Param([ 4.73620962]), \u001b[1mGP_regression.Mat52.lengthscale\u001b[0;0m:\n",
       " Param([ 3.7457158])]"
      ]
     },
     "execution_count": 135,
     "metadata": {},
     "output_type": "execute_result"
    }
   ],
   "source": [
    "myBopt.model.model.kern.K_of_r"
   ]
  },
  {
   "cell_type": "code",
   "execution_count": 157,
   "metadata": {
    "collapsed": true
   },
   "outputs": [],
   "source": [
    "def mu_t(theta):\n",
    "    return np.dot(k(theta), np.dot(np.linalg.inv(K), f_values))"
   ]
  },
  {
   "cell_type": "code",
   "execution_count": 182,
   "metadata": {
    "collapsed": false
   },
   "outputs": [
    {
     "data": {
      "text/plain": [
       "array([[ 5.8125],\n",
       "       [ 4.625 ]])"
      ]
     },
     "execution_count": 182,
     "metadata": {},
     "output_type": "execute_result"
    }
   ],
   "source": [
    "mu_t(np.array([[1],[2]])) "
   ]
  },
  {
   "cell_type": "code",
   "execution_count": 163,
   "metadata": {
    "collapsed": true
   },
   "outputs": [],
   "source": [
    "def v_t(theta):\n",
    "    return myBopt.model.model.kern.K(theta,theta) - np.dot(k(theta), np.dot(np.linalg.inv(K), k(theta).T))"
   ]
  },
  {
   "cell_type": "code",
   "execution_count": 183,
   "metadata": {
    "collapsed": false
   },
   "outputs": [
    {
     "data": {
      "text/plain": [
       "array([[-0.55856139, -1.7411837 ],\n",
       "       [-0.91875912, -2.42339613]])"
      ]
     },
     "execution_count": 183,
     "metadata": {},
     "output_type": "execute_result"
    }
   ],
   "source": [
    "v_t(np.array([[1],[2]]))"
   ]
  },
  {
   "cell_type": "code",
   "execution_count": 165,
   "metadata": {
    "collapsed": true
   },
   "outputs": [],
   "source": [
    "J_t = lambda x: mu_t(x)"
   ]
  },
  {
   "cell_type": "code",
   "execution_count": 198,
   "metadata": {
    "collapsed": true
   },
   "outputs": [],
   "source": [
    "L_ut = lambda x, h: ss.norm.cdf((h-mu_t(x)) / np.sqrt(v_t(x) + myBopt.model.model.kern.variance))"
   ]
  },
  {
   "cell_type": "code",
   "execution_count": 235,
   "metadata": {
    "collapsed": true
   },
   "outputs": [],
   "source": [
    "x = np.linspace(-5,5,(5-(-5)) * 30)\n",
    "x = x.reshape(x.shape[0], 1)\n",
    "y = np.array([L_ut(np.array([x]), 1) for x in x]).flatten()\n",
    "indices = np.isnan(y)\n",
    "y = y[~indices]\n",
    "x = x[~indices]"
   ]
  },
  {
   "cell_type": "code",
   "execution_count": 237,
   "metadata": {
    "collapsed": false
   },
   "outputs": [
    {
     "data": {
      "text/plain": [
       "array([ 3.9632107])"
      ]
     },
     "execution_count": 237,
     "metadata": {},
     "output_type": "execute_result"
    }
   ],
   "source": [
    "x[np.argmax(y)]"
   ]
  },
  {
   "cell_type": "code",
   "execution_count": 236,
   "metadata": {
    "collapsed": false
   },
   "outputs": [
    {
     "data": {
      "image/png": "[encoded data removed]",
      "text/plain": [
       "<matplotlib.figure.Figure at 0x7f3122d01978>"
      ]
     },
     "metadata": {},
     "output_type": "display_data"
    }
   ],
   "source": [
    "plt.plot(x,y)\n",
    "plt.show()"
   ]
  },
  {
   "cell_type": "code",
   "execution_count": 26,
   "metadata": {
    "collapsed": true
   },
   "outputs": [
    {
     "data": {
      "text/plain": [
       "array([[ 0.10487448],\n",
       "       [-0.52191573],\n",
       "       [ 1.61193371],\n",
       "       [ 0.83460582],\n",
       "       [-0.5791081 ],\n",
       "       [-0.34953234],\n",
       "       [ 2.82484159],\n",
       "       [ 2.09742457],\n",
       "       [-0.45862295],\n",
       "       [-0.51921529],\n",
       "       [-0.61273461],\n",
       "       [-0.57106547],\n",
       "       [-0.59694825],\n",
       "       [-0.62125266],\n",
       "       [-0.33299478],\n",
       "       [-0.61808589],\n",
       "       [-0.61664343],\n",
       "       [-0.10718172],\n",
       "       [ 3.82045943],\n",
       "       [-0.59682627],\n",
       "       [-0.61414315],\n",
       "       [-0.61699376],\n",
       "       [-0.24930952],\n",
       "       [-0.61284362],\n",
       "       [ 0.47174255],\n",
       "       [-0.61455489],\n",
       "       [-0.2416556 ],\n",
       "       [-0.44088875],\n",
       "       [-0.11622261],\n",
       "       [ 0.85082159],\n",
       "       [ 0.04800015],\n",
       "       [-0.57377532],\n",
       "       [-0.6046325 ],\n",
       "       [-0.62254025],\n",
       "       [-0.48300225],\n",
       "       [-0.62068321],\n",
       "       [-0.21778248],\n",
       "       [-0.32056457],\n",
       "       [ 0.35933155],\n",
       "       [ 1.02767956]])"
      ]
     },
     "execution_count": 26,
     "metadata": {},
     "output_type": "execute_result"
    }
   ],
   "source": [
    "# GPyOpt model.predict gives posterior mean and sd!\n",
    "thetas = myBopt.get_evaluations()[0]"
   ]
  },
  {
   "cell_type": "code",
   "execution_count": 30,
   "metadata": {
    "collapsed": true
   },
   "outputs": [],
   "source": [
    "L_ut = lambda x, h: (h - myBopt.model.predict(x)[0])/np.sqrt(np.power(myBopt.model.predict(x)[1],2) + myBopt.model.model.kern.variance)"
   ]
  },
  {
   "cell_type": "code",
   "execution_count": 31,
   "metadata": {
    "collapsed": false
   },
   "outputs": [
    {
     "data": {
      "text/plain": [
       "array([[ 0.18272681],\n",
       "       [ 0.38934481]])"
      ]
     },
     "execution_count": 31,
     "metadata": {},
     "output_type": "execute_result"
    }
   ],
   "source": [
    "L_ut(np.array([[1],[2]]), 0.1)"
   ]
  },
  {
   "cell_type": "code",
   "execution_count": 57,
   "metadata": {
    "collapsed": true
   },
   "outputs": [],
   "source": [
    "x = np.linspace(0,10,10 * 30)\n",
    "x = x.reshape(x.shape[0], 1)\n",
    "y = L_ut(x, 0.1) / np.sum(y) # normalize to get proper pdf!"
   ]
  },
  {
   "cell_type": "code",
   "execution_count": 61,
   "metadata": {
    "collapsed": false
   },
   "outputs": [
    {
     "data": {
      "image/png": "[encoded data removed]",
      "text/plain": [
       "<matplotlib.figure.Figure at 0x7f45c5399550>"
      ]
     },
     "metadata": {},
     "output_type": "display_data"
    }
   ],
   "source": [
    "plt.plot(x,y)\n",
    "x_map = x[np.argmax(y)]\n",
    "x_mean = np.sum(np.multiply(x,y)).reshape(1,1)\n",
    "y_mean = myBopt.model.predict(x_mean)\n",
    "plt.axvline(x_map, color=\"r\", linewidth=0.5)\n",
    "plt.text(x_map+0.1, 0.001, r\"$\\theta_{{MAP}} = ${}\".format(np.round(x_opt[0], 1)))\n",
    "plt.axvline(x_mean, color=\"r\", linewidth=0.5)\n",
    "plt.text(x_mean+0.1, 0.002, r\"$\\theta_{{Mean}} = ${}\".format(np.round(x_mean[0][0], 1)))\n",
    "plt.show()"
   ]
  },
  {
   "cell_type": "code",
   "execution_count": 56,
   "metadata": {
    "collapsed": false
   },
   "outputs": [
    {
     "data": {
      "text/plain": [
       "array([[ -0.00000000e+00],\n",
       "       [  4.41732846e-04],\n",
       "       [  1.67402771e-03],\n",
       "       [  3.20815492e-03],\n",
       "       [  4.68491196e-03],\n",
       "       [  5.91419942e-03],\n",
       "       [  6.87842175e-03],\n",
       "       [  7.72156870e-03],\n",
       "       [  8.73441288e-03],\n",
       "       [  1.03293366e-02],\n",
       "       [  1.29869763e-02],\n",
       "       [  1.71603117e-02],\n",
       "       [  2.31518905e-02],\n",
       "       [  3.10547326e-02],\n",
       "       [  4.07797408e-02],\n",
       "       [  5.20874500e-02],\n",
       "       [  6.45860329e-02],\n",
       "       [  7.76956268e-02],\n",
       "       [  9.06106638e-02],\n",
       "       [  1.02321755e-01],\n",
       "       [  1.11773518e-01],\n",
       "       [  1.18197945e-01],\n",
       "       [  1.21514467e-01],\n",
       "       [  1.22420950e-01],\n",
       "       [  1.22161367e-01],\n",
       "       [  1.22280312e-01],\n",
       "       [  1.24465065e-01],\n",
       "       [  1.30443104e-01],\n",
       "       [  1.41851516e-01],\n",
       "       [  1.60013730e-01],\n",
       "       [  1.85624100e-01],\n",
       "       [  2.18426276e-01],\n",
       "       [  2.57182885e-01],\n",
       "       [  2.99888634e-01],\n",
       "       [  3.43851812e-01],\n",
       "       [  3.85722585e-01],\n",
       "       [  4.21772280e-01],\n",
       "       [  4.48715741e-01],\n",
       "       [  4.65077889e-01],\n",
       "       [  4.72402335e-01],\n",
       "       [  4.74606638e-01],\n",
       "       [  4.76108501e-01],\n",
       "       [  4.80265652e-01],\n",
       "       [  4.88033146e-01],\n",
       "       [  4.96897634e-01],\n",
       "       [  5.01497013e-01],\n",
       "       [  4.95318284e-01],\n",
       "       [  4.73142414e-01],\n",
       "       [  4.34780614e-01],\n",
       "       [  3.89424006e-01],\n",
       "       [  3.55439403e-01],\n",
       "       [  3.54176623e-01],\n",
       "       [  4.02498770e-01],\n",
       "       [  5.03879779e-01],\n",
       "       [  6.38834270e-01],\n",
       "       [  7.67432675e-01],\n",
       "       [  8.47430212e-01],\n",
       "       [  8.57950098e-01],\n",
       "       [  8.18006050e-01],\n",
       "       [  7.76309714e-01],\n",
       "       [  7.87242684e-01],\n",
       "       [  8.84876491e-01],\n",
       "       [  1.05276065e+00],\n",
       "       [  1.20732030e+00],\n",
       "       [  1.24004434e+00],\n",
       "       [  1.09357143e+00],\n",
       "       [  8.14463325e-01],\n",
       "       [  5.14135866e-01],\n",
       "       [  2.94199544e-01],\n",
       "       [  2.05614538e-01],\n",
       "       [  2.54903796e-01],\n",
       "       [  4.18190331e-01],\n",
       "       [  6.53213507e-01],\n",
       "       [  9.08916195e-01],\n",
       "       [  1.13498978e+00],\n",
       "       [  1.29451901e+00],\n",
       "       [  1.37904820e+00],\n",
       "       [  1.41117857e+00],\n",
       "       [  1.42654857e+00],\n",
       "       [  1.45313306e+00],\n",
       "       [  1.49819796e+00],\n",
       "       [  1.55218876e+00],\n",
       "       [  1.59945255e+00],\n",
       "       [  1.63050833e+00],\n",
       "       [  1.64643844e+00],\n",
       "       [  1.65330994e+00],\n",
       "       [  1.65726633e+00],\n",
       "       [  1.66191025e+00],\n",
       "       [  1.66769851e+00],\n",
       "       [  1.67350222e+00],\n",
       "       [  1.68015826e+00],\n",
       "       [  1.69119437e+00],\n",
       "       [  1.71036706e+00],\n",
       "       [  1.73945105e+00],\n",
       "       [  1.77755979e+00],\n",
       "       [  1.82116199e+00],\n",
       "       [  1.86365937e+00],\n",
       "       [  1.89681934e+00],\n",
       "       [  1.91611045e+00],\n",
       "       [  1.92604609e+00],\n",
       "       [  1.93639158e+00],\n",
       "       [  1.95507138e+00],\n",
       "       [  1.98341990e+00],\n",
       "       [  2.01527553e+00],\n",
       "       [  2.04152943e+00],\n",
       "       [  2.05659584e+00],\n",
       "       [  2.05896325e+00],\n",
       "       [  2.04966931e+00],\n",
       "       [  2.03367716e+00],\n",
       "       [  2.01949017e+00],\n",
       "       [  2.01593616e+00],\n",
       "       [  2.02921777e+00],\n",
       "       [  2.06164366e+00],\n",
       "       [  2.11128185e+00],\n",
       "       [  2.17126735e+00],\n",
       "       [  2.23036985e+00],\n",
       "       [  2.27649123e+00],\n",
       "       [  2.30352728e+00],\n",
       "       [  2.31539670e+00],\n",
       "       [  2.32101119e+00],\n",
       "       [  2.32900447e+00],\n",
       "       [  2.34529305e+00],\n",
       "       [  2.37101153e+00],\n",
       "       [  2.40157334e+00],\n",
       "       [  2.42894447e+00],\n",
       "       [  2.44446747e+00],\n",
       "       [  2.43967250e+00],\n",
       "       [  2.40879876e+00],\n",
       "       [  2.35481451e+00],\n",
       "       [  2.29077422e+00],\n",
       "       [  2.23276559e+00],\n",
       "       [  2.19312357e+00],\n",
       "       [  2.17643890e+00],\n",
       "       [  2.17850719e+00],\n",
       "       [  2.18832325e+00],\n",
       "       [  2.19032197e+00],\n",
       "       [  2.16804491e+00],\n",
       "       [  2.11082830e+00],\n",
       "       [  2.02094827e+00],\n",
       "       [  1.91274639e+00],\n",
       "       [  1.80626273e+00],\n",
       "       [  1.72202077e+00],\n",
       "       [  1.67783633e+00],\n",
       "       [  1.68635658e+00],\n",
       "       [  1.75237006e+00],\n",
       "       [  1.87234724e+00],\n",
       "       [  2.03672625e+00],\n",
       "       [  2.23148781e+00],\n",
       "       [  2.43850586e+00],\n",
       "       [  2.63579442e+00],\n",
       "       [  2.79985372e+00],\n",
       "       [  2.91167698e+00],\n",
       "       [  2.96190394e+00],\n",
       "       [  2.95127310e+00],\n",
       "       [  2.88825073e+00],\n",
       "       [  2.78528688e+00],\n",
       "       [  2.65534004e+00],\n",
       "       [  2.50968299e+00],\n",
       "       [  2.35704713e+00],\n",
       "       [  2.20365438e+00],\n",
       "       [  2.05365337e+00],\n",
       "       [  1.90964340e+00],\n",
       "       [  1.77313721e+00],\n",
       "       [  1.64491761e+00],\n",
       "       [  1.52529218e+00],\n",
       "       [  1.41426682e+00],\n",
       "       [  1.31166021e+00],\n",
       "       [  1.21717777e+00],\n",
       "       [  1.13045860e+00],\n",
       "       [  1.05110505e+00],\n",
       "       [  9.78701273e-01],\n",
       "       [  9.12824922e-01],\n",
       "       [  8.53054721e-01],\n",
       "       [  7.98975508e-01],\n",
       "       [  7.50181774e-01],\n",
       "       [  7.06280290e-01],\n",
       "       [  6.66892121e-01],\n",
       "       [  6.31654225e-01],\n",
       "       [  6.00220697e-01],\n",
       "       [  5.72263714e-01],\n",
       "       [  5.47474186e-01],\n",
       "       [  5.25562142e-01],\n",
       "       [  5.06256850e-01],\n",
       "       [  4.89306714e-01],\n",
       "       [  4.74478947e-01],\n",
       "       [  4.61559071e-01],\n",
       "       [  4.50350261e-01],\n",
       "       [  4.40672572e-01],\n",
       "       [  4.32362075e-01],\n",
       "       [  4.25269929e-01],\n",
       "       [  4.19261413e-01],\n",
       "       [  4.14214950e-01],\n",
       "       [  4.10021126e-01],\n",
       "       [  4.06581729e-01],\n",
       "       [  4.03808816e-01],\n",
       "       [  4.01623822e-01],\n",
       "       [  3.99956710e-01],\n",
       "       [  3.98745172e-01],\n",
       "       [  3.97933884e-01],\n",
       "       [  3.97473808e-01],\n",
       "       [  3.97321556e-01],\n",
       "       [  3.97438798e-01],\n",
       "       [  3.97791725e-01],\n",
       "       [  3.98350561e-01],\n",
       "       [  3.99089114e-01],\n",
       "       [  3.99984378e-01],\n",
       "       [  4.01016167e-01],\n",
       "       [  4.02166794e-01],\n",
       "       [  4.03420778e-01],\n",
       "       [  4.04764582e-01],\n",
       "       [  4.06186383e-01],\n",
       "       [  4.07675862e-01],\n",
       "       [  4.09224026e-01],\n",
       "       [  4.10823041e-01],\n",
       "       [  4.12466088e-01],\n",
       "       [  4.14147240e-01],\n",
       "       [  4.15861347e-01],\n",
       "       [  4.17603938e-01],\n",
       "       [  4.19371133e-01],\n",
       "       [  4.21159569e-01],\n",
       "       [  4.22966335e-01],\n",
       "       [  4.24788908e-01],\n",
       "       [  4.26625106e-01],\n",
       "       [  4.28473043e-01],\n",
       "       [  4.30331088e-01],\n",
       "       [  4.32197834e-01],\n",
       "       [  4.34072066e-01],\n",
       "       [  4.35952735e-01],\n",
       "       [  4.37838938e-01],\n",
       "       [  4.39729895e-01],\n",
       "       [  4.41624936e-01],\n",
       "       [  4.43523482e-01],\n",
       "       [  4.45425038e-01],\n",
       "       [  4.47329175e-01],\n",
       "       [  4.49235525e-01],\n",
       "       [  4.51143773e-01],\n",
       "       [  4.53053647e-01],\n",
       "       [  4.54964915e-01],\n",
       "       [  4.56877376e-01],\n",
       "       [  4.58790858e-01],\n",
       "       [  4.60705215e-01],\n",
       "       [  4.62620319e-01],\n",
       "       [  4.64536063e-01],\n",
       "       [  4.66452355e-01],\n",
       "       [  4.68369114e-01],\n",
       "       [  4.70286273e-01],\n",
       "       [  4.72203773e-01],\n",
       "       [  4.74121565e-01],\n",
       "       [  4.76039606e-01],\n",
       "       [  4.77957859e-01],\n",
       "       [  4.79876294e-01],\n",
       "       [  4.81794884e-01],\n",
       "       [  4.83713606e-01],\n",
       "       [  4.85632440e-01],\n",
       "       [  4.87551371e-01],\n",
       "       [  4.89470383e-01],\n",
       "       [  4.91389466e-01],\n",
       "       [  4.93308607e-01],\n",
       "       [  4.95227800e-01],\n",
       "       [  4.97147035e-01],\n",
       "       [  4.99066308e-01],\n",
       "       [  5.00985611e-01],\n",
       "       [  5.02904941e-01],\n",
       "       [  5.04824294e-01],\n",
       "       [  5.06743666e-01],\n",
       "       [  5.08663055e-01],\n",
       "       [  5.10582457e-01],\n",
       "       [  5.12501871e-01],\n",
       "       [  5.14421296e-01],\n",
       "       [  5.16340729e-01],\n",
       "       [  5.18260169e-01],\n",
       "       [  5.20179616e-01],\n",
       "       [  5.22099067e-01],\n",
       "       [  5.24018523e-01],\n",
       "       [  5.25937983e-01],\n",
       "       [  5.27857447e-01],\n",
       "       [  5.29776913e-01],\n",
       "       [  5.31696381e-01],\n",
       "       [  5.33615851e-01],\n",
       "       [  5.35535323e-01],\n",
       "       [  5.37454796e-01],\n",
       "       [  5.39374271e-01],\n",
       "       [  5.41293746e-01],\n",
       "       [  5.43213223e-01],\n",
       "       [  5.45132700e-01],\n",
       "       [  5.47052178e-01],\n",
       "       [  5.48971656e-01],\n",
       "       [  5.50891135e-01],\n",
       "       [  5.52810614e-01],\n",
       "       [  5.54730094e-01],\n",
       "       [  5.56649573e-01],\n",
       "       [  5.58569053e-01],\n",
       "       [  5.60488533e-01],\n",
       "       [  5.62408014e-01],\n",
       "       [  5.64327494e-01],\n",
       "       [  5.66246975e-01],\n",
       "       [  5.68166456e-01],\n",
       "       [  5.70085936e-01],\n",
       "       [  5.72005417e-01],\n",
       "       [  5.73924898e-01]])"
      ]
     },
     "execution_count": 56,
     "metadata": {},
     "output_type": "execute_result"
    }
   ],
   "source": [
    "x*y"
   ]
  }
 ],
 "metadata": {
  "kernelspec": {
   "display_name": "Python(ABC)",
   "language": "python",
   "name": "acm2017_pyabc"
  },
  "language_info": {
   "codemirror_mode": {
    "name": "ipython",
    "version": 3
   },
   "file_extension": ".py",
   "mimetype": "text/x-python",
   "name": "python",
   "nbconvert_exporter": "python",
   "pygments_lexer": "ipython3",
   "version": "3.6.0"
  }
 },
 "nbformat": 4,
 "nbformat_minor": 2
}
